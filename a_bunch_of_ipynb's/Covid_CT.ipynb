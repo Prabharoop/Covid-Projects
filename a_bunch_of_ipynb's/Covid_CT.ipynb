{
  "nbformat": 4,
  "nbformat_minor": 0,
  "metadata": {
    "kernelspec": {
      "display_name": "Python [conda env:.conda-tensor_test] *",
      "language": "python",
      "name": "conda-env-.conda-tensor_test-py"
    },
    "language_info": {
      "codemirror_mode": {
        "name": "ipython",
        "version": 3
      },
      "file_extension": ".py",
      "mimetype": "text/x-python",
      "name": "python",
      "nbconvert_exporter": "python",
      "pygments_lexer": "ipython3",
      "version": "3.6.8"
    },
    "colab": {
      "name": "Covid-CT.ipynb",
      "provenance": [],
      "collapsed_sections": [],
      "toc_visible": true
    },
    "accelerator": "GPU"
  },
  "cells": [
    {
      "cell_type": "markdown",
      "metadata": {
        "id": "xAxYFZP_WxrX",
        "colab_type": "text"
      },
      "source": [
        "# **IMPORTS**"
      ]
    },
    {
      "cell_type": "code",
      "metadata": {
        "id": "drnuEzy58oCl",
        "colab_type": "code",
        "colab": {
          "base_uri": "https://localhost:8080/",
          "height": 269
        },
        "outputId": "4fc78f59-ffd6-4e6b-97f6-20a09caf7c17"
      },
      "source": [
        "import pandas as pd\n",
        "import numpy as np\n",
        "import matplotlib.pyplot as plt\n",
        "!pip install keras_lr_finder\n",
        "from keras_lr_finder import LRFinder"
      ],
      "execution_count": null,
      "outputs": [
        {
          "output_type": "stream",
          "text": [
            "Requirement already satisfied: keras_lr_finder in /usr/local/lib/python3.6/dist-packages (0.1)\n",
            "Requirement already satisfied: keras>=2.0.0 in /usr/local/lib/python3.6/dist-packages (from keras_lr_finder) (2.3.1)\n",
            "Requirement already satisfied: matplotlib in /usr/local/lib/python3.6/dist-packages (from keras_lr_finder) (3.2.1)\n",
            "Requirement already satisfied: six>=1.9.0 in /usr/local/lib/python3.6/dist-packages (from keras>=2.0.0->keras_lr_finder) (1.12.0)\n",
            "Requirement already satisfied: keras-preprocessing>=1.0.5 in /usr/local/lib/python3.6/dist-packages (from keras>=2.0.0->keras_lr_finder) (1.1.0)\n",
            "Requirement already satisfied: keras-applications>=1.0.6 in /usr/local/lib/python3.6/dist-packages (from keras>=2.0.0->keras_lr_finder) (1.0.8)\n",
            "Requirement already satisfied: pyyaml in /usr/local/lib/python3.6/dist-packages (from keras>=2.0.0->keras_lr_finder) (3.13)\n",
            "Requirement already satisfied: h5py in /usr/local/lib/python3.6/dist-packages (from keras>=2.0.0->keras_lr_finder) (2.10.0)\n",
            "Requirement already satisfied: numpy>=1.9.1 in /usr/local/lib/python3.6/dist-packages (from keras>=2.0.0->keras_lr_finder) (1.18.4)\n",
            "Requirement already satisfied: scipy>=0.14 in /usr/local/lib/python3.6/dist-packages (from keras>=2.0.0->keras_lr_finder) (1.4.1)\n",
            "Requirement already satisfied: pyparsing!=2.0.4,!=2.1.2,!=2.1.6,>=2.0.1 in /usr/local/lib/python3.6/dist-packages (from matplotlib->keras_lr_finder) (2.4.7)\n",
            "Requirement already satisfied: python-dateutil>=2.1 in /usr/local/lib/python3.6/dist-packages (from matplotlib->keras_lr_finder) (2.8.1)\n",
            "Requirement already satisfied: kiwisolver>=1.0.1 in /usr/local/lib/python3.6/dist-packages (from matplotlib->keras_lr_finder) (1.2.0)\n",
            "Requirement already satisfied: cycler>=0.10 in /usr/local/lib/python3.6/dist-packages (from matplotlib->keras_lr_finder) (0.10.0)\n"
          ],
          "name": "stdout"
        },
        {
          "output_type": "stream",
          "text": [
            "Using TensorFlow backend.\n"
          ],
          "name": "stderr"
        }
      ]
    },
    {
      "cell_type": "code",
      "metadata": {
        "id": "Xxi3qKxN9Ov7",
        "colab_type": "code",
        "colab": {
          "base_uri": "https://localhost:8080/",
          "height": 121
        },
        "outputId": "c6cc57bb-34dd-46a5-9503-20dbc9dc2bc8"
      },
      "source": [
        "from google.colab import drive\n",
        "drive.mount('/content/drive')"
      ],
      "execution_count": null,
      "outputs": [
        {
          "output_type": "stream",
          "text": [
            "Go to this URL in a browser: https://accounts.google.com/o/oauth2/auth?client_id=947318989803-6bn6qk8qdgf4n4g3pfee6491hc0brc4i.apps.googleusercontent.com&redirect_uri=urn%3aietf%3awg%3aoauth%3a2.0%3aoob&response_type=code&scope=email%20https%3a%2f%2fwww.googleapis.com%2fauth%2fdocs.test%20https%3a%2f%2fwww.googleapis.com%2fauth%2fdrive%20https%3a%2f%2fwww.googleapis.com%2fauth%2fdrive.photos.readonly%20https%3a%2f%2fwww.googleapis.com%2fauth%2fpeopleapi.readonly\n",
            "\n",
            "Enter your authorization code:\n",
            "··········\n",
            "Mounted at /content/drive\n"
          ],
          "name": "stdout"
        }
      ]
    },
    {
      "cell_type": "code",
      "metadata": {
        "id": "Pn8OXHRz_tMI",
        "colab_type": "code",
        "colab": {
          "base_uri": "https://localhost:8080/",
          "height": 104
        },
        "outputId": "a29cc787-6e3b-4182-8536-907c52d9768d"
      },
      "source": [
        "from imblearn.under_sampling import RandomUnderSampler"
      ],
      "execution_count": null,
      "outputs": [
        {
          "output_type": "stream",
          "text": [
            "/usr/local/lib/python3.6/dist-packages/sklearn/externals/six.py:31: FutureWarning: The module is deprecated in version 0.21 and will be removed in version 0.23 since we've dropped support for Python 2.7. Please rely on the official version of six (https://pypi.org/project/six/).\n",
            "  \"(https://pypi.org/project/six/).\", FutureWarning)\n",
            "/usr/local/lib/python3.6/dist-packages/sklearn/utils/deprecation.py:144: FutureWarning: The sklearn.neighbors.base module is  deprecated in version 0.22 and will be removed in version 0.24. The corresponding classes / functions should instead be imported from sklearn.neighbors. Anything that cannot be imported from sklearn.neighbors is now part of the private API.\n",
            "  warnings.warn(message, FutureWarning)\n"
          ],
          "name": "stderr"
        }
      ]
    },
    {
      "cell_type": "code",
      "metadata": {
        "id": "vH9ZsaHJ8oCq",
        "colab_type": "code",
        "colab": {}
      },
      "source": [
        "train_df = pd.read_excel('/content/drive/My Drive/Files-Covid/train.xlsx')\n",
        "test_df = pd.read_excel('/content/drive/My Drive/Files-Covid/test.xlsx')\n",
        "valid_df = pd.read_excel('/content/drive/My Drive/Files-Covid/valid.xlsx')"
      ],
      "execution_count": null,
      "outputs": []
    },
    {
      "cell_type": "code",
      "metadata": {
        "id": "nlkrpcX28oCt",
        "colab_type": "code",
        "colab": {
          "base_uri": "https://localhost:8080/",
          "height": 195
        },
        "outputId": "b20db158-59c6-4627-ed63-f8d39b1b9081"
      },
      "source": [
        "test_df.head()"
      ],
      "execution_count": null,
      "outputs": [
        {
          "output_type": "execute_result",
          "data": {
            "text/html": [
              "<div>\n",
              "<style scoped>\n",
              "    .dataframe tbody tr th:only-of-type {\n",
              "        vertical-align: middle;\n",
              "    }\n",
              "\n",
              "    .dataframe tbody tr th {\n",
              "        vertical-align: top;\n",
              "    }\n",
              "\n",
              "    .dataframe thead th {\n",
              "        text-align: right;\n",
              "    }\n",
              "</style>\n",
              "<table border=\"1\" class=\"dataframe\">\n",
              "  <thead>\n",
              "    <tr style=\"text-align: right;\">\n",
              "      <th></th>\n",
              "      <th>Source</th>\n",
              "      <th>Covid</th>\n",
              "    </tr>\n",
              "  </thead>\n",
              "  <tbody>\n",
              "    <tr>\n",
              "      <th>0</th>\n",
              "      <td>2020.03.22.20040782-p25-1542.png</td>\n",
              "      <td>1</td>\n",
              "    </tr>\n",
              "    <tr>\n",
              "      <th>1</th>\n",
              "      <td>2020.03.22.20040782-p25-1543.png</td>\n",
              "      <td>1</td>\n",
              "    </tr>\n",
              "    <tr>\n",
              "      <th>2</th>\n",
              "      <td>2020.03.22.20040782-p25-1544.png</td>\n",
              "      <td>1</td>\n",
              "    </tr>\n",
              "    <tr>\n",
              "      <th>3</th>\n",
              "      <td>2020.03.22.20040782-p25-1545.png</td>\n",
              "      <td>1</td>\n",
              "    </tr>\n",
              "    <tr>\n",
              "      <th>4</th>\n",
              "      <td>2020.03.22.20040782-p25-1546.png</td>\n",
              "      <td>1</td>\n",
              "    </tr>\n",
              "  </tbody>\n",
              "</table>\n",
              "</div>"
            ],
            "text/plain": [
              "                             Source  Covid\n",
              "0  2020.03.22.20040782-p25-1542.png      1\n",
              "1  2020.03.22.20040782-p25-1543.png      1\n",
              "2  2020.03.22.20040782-p25-1544.png      1\n",
              "3  2020.03.22.20040782-p25-1545.png      1\n",
              "4  2020.03.22.20040782-p25-1546.png      1"
            ]
          },
          "metadata": {
            "tags": []
          },
          "execution_count": 5
        }
      ]
    },
    {
      "cell_type": "code",
      "metadata": {
        "id": "d-17NXwD8oCx",
        "colab_type": "code",
        "colab": {}
      },
      "source": [
        "labels = ['Covid']\n",
        "np.random.seed(1337)"
      ],
      "execution_count": null,
      "outputs": []
    },
    {
      "cell_type": "code",
      "metadata": {
        "id": "f0CQcFEt8oC0",
        "colab_type": "code",
        "colab": {}
      },
      "source": [
        "import tensorflow as tf\n",
        "from tensorflow import keras\n",
        "from keras.preprocessing.image import ImageDataGenerator\n",
        "from keras.applications.resnet50 import ResNet50\n",
        "from keras.applications.vgg19 import VGG19\n",
        "from keras.applications.vgg16 import VGG16\n",
        "# from tensdorflow.keras.applications.resnet152 import \n",
        "from keras.layers import Dense, GlobalAveragePooling2D,Flatten,Dropout\n",
        "from keras.models import Model\n",
        "from keras import backend as K\n",
        "from keras.models import load_model\n",
        "import keras"
      ],
      "execution_count": null,
      "outputs": []
    },
    {
      "cell_type": "markdown",
      "metadata": {
        "id": "WmRMHhiRWpME",
        "colab_type": "text"
      },
      "source": [
        "# **DATA GENERATOR**"
      ]
    },
    {
      "cell_type": "code",
      "metadata": {
        "id": "vR1unwx88oC3",
        "colab_type": "code",
        "colab": {}
      },
      "source": [
        "def get_train_generator(df, image_dir, x_col, y_cols, shuffle=True, batch_size=8, seed=1, target_w = 200, target_h =200):\n",
        "    \"\"\"\n",
        "    Return generator for training set, normalizing using batch\n",
        "    statistics.\n",
        "\n",
        "    Args:\n",
        "      train_df (dataframe): dataframe specifying training data.\n",
        "      image_dir (str): directory where image files are held.\n",
        "      x_col (str): name of column in df that holds filenames.\n",
        "      y_cols (list): list of strings that hold y labels for images.\n",
        "      sample_size (int): size of sample to use for normalization statistics.\n",
        "      batch_size (int): images per batch to be fed into model during training.\n",
        "      seed (int): random seed.\n",
        "      target_w (int): final width of input images.\n",
        "      target_h (int): final height of input images.\n",
        "    \n",
        "    Returns:\n",
        "        train_generator (DataFrameIterator): iterator over training set\n",
        "    \"\"\"        \n",
        "    print(\"getting train generator...\") \n",
        "    # normalize images\n",
        "    image_generator = ImageDataGenerator(\n",
        "        samplewise_center=True,\n",
        "        samplewise_std_normalization= True)\n",
        "    \n",
        "    # flow from directory with specified batch size\n",
        "    # and target image size\n",
        "    generator = image_generator.flow_from_dataframe(\n",
        "            dataframe=df,\n",
        "            directory=image_dir,\n",
        "            x_col=x_col,\n",
        "            y_col=y_cols,\n",
        "            class_mode=\"raw\",\n",
        "            batch_size=batch_size,\n",
        "            shuffle=shuffle,\n",
        "            seed=seed,\n",
        "            target_size=(target_w,target_h))\n",
        "    \n",
        "    return generator"
      ],
      "execution_count": null,
      "outputs": []
    },
    {
      "cell_type": "code",
      "metadata": {
        "id": "AbDOJAQv8oC6",
        "colab_type": "code",
        "colab": {}
      },
      "source": [
        "def get_test_and_valid_generator(valid_df, test_df, train_df, image_dir, x_col, y_cols, sample_size=100, batch_size=8, seed=1, target_w = 200, target_h = 200):\n",
        "    \"\"\"\n",
        "    Return generator for validation set and test test set using \n",
        "    normalization statistics from training set.\n",
        "\n",
        "    Args:\n",
        "      valid_df (dataframe): dataframe specifying validation data.\n",
        "      test_df (dataframe): dataframe specifying test data.\n",
        "      train_df (dataframe): dataframe specifying training data.\n",
        "      image_dir (str): directory where image files are held.\n",
        "      x_col (str): name of column in df that holds filenames.\n",
        "      y_cols (list): list of strings that hold y labels for images.\n",
        "      sample_size (int): size of sample to use for normalization statistics.\n",
        "      batch_size (int): images per batch to be fed into model during training.\n",
        "      seed (int): random seed.\n",
        "      target_w (int): final width of input images.\n",
        "      target_h (int): final height of input images.\n",
        "    \n",
        "    Returns:\n",
        "        test_generator (DataFrameIterator) and valid_generator: iterators over test set and validation set respectively\n",
        "    \"\"\"\n",
        "    print(\"getting train and valid generators...\")\n",
        "    # get generator to sample dataset\n",
        "    raw_train_generator = ImageDataGenerator().flow_from_dataframe(\n",
        "        dataframe=train_df, \n",
        "        directory=IMG_DIR, \n",
        "        x_col=\"Source\", \n",
        "        y_col=labels, \n",
        "        class_mode=\"raw\", \n",
        "        batch_size=sample_size, \n",
        "        shuffle=True, \n",
        "        target_size=(target_w, target_h))\n",
        "    \n",
        "    # get data sample\n",
        "    batch = raw_train_generator.next()\n",
        "    data_sample = batch[0]\n",
        "\n",
        "    # use sample to fit mean and std for test set generator\n",
        "    image_generator = ImageDataGenerator(\n",
        "        featurewise_center=True,\n",
        "        featurewise_std_normalization= True)\n",
        "    \n",
        "    # fit generator to sample from training data\n",
        "    image_generator.fit(data_sample)\n",
        "\n",
        "    # get test generator\n",
        "    valid_generator = image_generator.flow_from_dataframe(\n",
        "            dataframe=valid_df,\n",
        "            directory=image_dir,\n",
        "            x_col=x_col,\n",
        "            y_col=y_cols,\n",
        "            class_mode=\"raw\",\n",
        "            batch_size=batch_size,\n",
        "            shuffle=False,\n",
        "            seed=seed,\n",
        "            target_size=(target_w,target_h))\n",
        "\n",
        "    test_generator = image_generator.flow_from_dataframe(\n",
        "            dataframe=test_df,\n",
        "            directory=image_dir,\n",
        "            x_col=x_col,\n",
        "            y_col=y_cols,\n",
        "            class_mode=\"raw\",\n",
        "            batch_size=batch_size,\n",
        "            shuffle=False,\n",
        "            seed=seed,\n",
        "            target_size=(target_w,target_h))\n",
        "    return valid_generator, test_generator"
      ],
      "execution_count": null,
      "outputs": []
    },
    {
      "cell_type": "code",
      "metadata": {
        "id": "iC7d7b9U8oC-",
        "colab_type": "code",
        "colab": {
          "base_uri": "https://localhost:8080/",
          "height": 218
        },
        "outputId": "b25ccc97-4f7c-49e4-f541-e161b4491811"
      },
      "source": [
        "IMG_DIR = \"/content/drive/My Drive/Files-Covid/IMG_DIR/\"\n",
        "train_generator_48 = get_train_generator(train_df, IMG_DIR, \"Source\", labels,target_w = 48, target_h = 48)\n",
        "valid_generator_48, test_generator_48= get_test_and_valid_generator(valid_df, test_df, train_df, IMG_DIR, \"Source\", labels, target_w = 48, target_h = 48)\n",
        "train_generator_96 = get_train_generator(train_df, IMG_DIR, \"Source\", labels,target_w = 96, target_h = 96)\n",
        "valid_generator_96, test_generator_96= get_test_and_valid_generator(valid_df, test_df, train_df, IMG_DIR, \"Source\", labels, target_w = 96, target_h = 96)"
      ],
      "execution_count": null,
      "outputs": [
        {
          "output_type": "stream",
          "text": [
            "getting train generator...\n",
            "Found 425 validated image filenames.\n",
            "getting train and valid generators...\n",
            "Found 425 validated image filenames.\n",
            "Found 118 validated image filenames.\n",
            "Found 203 validated image filenames.\n",
            "getting train generator...\n",
            "Found 425 validated image filenames.\n",
            "getting train and valid generators...\n",
            "Found 425 validated image filenames.\n",
            "Found 118 validated image filenames.\n",
            "Found 203 validated image filenames.\n"
          ],
          "name": "stdout"
        }
      ]
    },
    {
      "cell_type": "code",
      "metadata": {
        "id": "QVOMlkl-hpia",
        "colab_type": "code",
        "colab": {
          "base_uri": "https://localhost:8080/",
          "height": 118
        },
        "outputId": "1972ea5d-7a94-46e6-f329-5aec673ce097"
      },
      "source": [
        "train_generator_192 = get_train_generator(train_df, IMG_DIR, \"Source\", labels,target_w = 192, target_h = 192)\n",
        "valid_generator_192, test_generator_192= get_test_and_valid_generator(valid_df, test_df, train_df, IMG_DIR, \"Source\", labels, target_w = 192, target_h = 192)"
      ],
      "execution_count": null,
      "outputs": [
        {
          "output_type": "stream",
          "text": [
            "getting train generator...\n",
            "Found 425 validated image filenames.\n",
            "getting train and valid generators...\n",
            "Found 425 validated image filenames.\n",
            "Found 118 validated image filenames.\n",
            "Found 203 validated image filenames.\n"
          ],
          "name": "stdout"
        }
      ]
    },
    {
      "cell_type": "markdown",
      "metadata": {
        "id": "4D2NvICVWh3K",
        "colab_type": "text"
      },
      "source": [
        "# **DATA EXPLORATION**"
      ]
    },
    {
      "cell_type": "code",
      "metadata": {
        "id": "ZwkFYjUb8oDB",
        "colab_type": "code",
        "colab": {
          "base_uri": "https://localhost:8080/",
          "height": 286
        },
        "outputId": "409703dc-f44f-4d05-b17d-1fa45ed3a5c3"
      },
      "source": [
        "x, y = train_generator_192.__getitem__(10)\n",
        "plt.imshow(x[0]);"
      ],
      "execution_count": null,
      "outputs": [
        {
          "output_type": "stream",
          "text": [
            "Clipping input data to the valid range for imshow with RGB data ([0..1] for floats or [0..255] for integers).\n"
          ],
          "name": "stderr"
        },
        {
          "output_type": "display_data",
          "data": {
            "image/png": "[encoded data removed]",
            "text/plain": [
              "<Figure size 432x288 with 1 Axes>"
            ]
          },
          "metadata": {
            "tags": [],
            "needs_background": "light"
          }
        }
      ]
    },
    {
      "cell_type": "code",
      "metadata": {
        "id": "32IvT1aX8oDD",
        "colab_type": "code",
        "colab": {
          "base_uri": "https://localhost:8080/",
          "height": 299
        },
        "outputId": "b0d00ae7-74c2-47ea-e7bc-c28fdff0c764"
      },
      "source": [
        "plt.xticks(rotation=90)\n",
        "plt.bar(x=labels, height=np.mean(train_generator_48.labels, axis=0))\n",
        "plt.title(\"Frequency of Each Class\")\n",
        "plt.show()"
      ],
      "execution_count": null,
      "outputs": [
        {
          "output_type": "display_data",
          "data": {
            "image/png": "[encoded data removed]",
            "text/plain": [
              "<Figure size 432x288 with 1 Axes>"
            ]
          },
          "metadata": {
            "tags": [],
            "needs_background": "light"
          }
        }
      ]
    },
    {
      "cell_type": "code",
      "metadata": {
        "id": "6tBByMNX8oDG",
        "colab_type": "code",
        "colab": {}
      },
      "source": [
        "def compute_class_freqs(labels):\n",
        "    \"\"\"\n",
        "    Compute positive and negative frequences for each class.\n",
        "\n",
        "    Args:\n",
        "        labels (np.array): matrix of labels, size (num_examples, num_classes)\n",
        "    Returns:\n",
        "        positive_frequencies (np.array): array of positive frequences for each\n",
        "                                         class, size (num_classes)\n",
        "        negative_frequencies (np.array): array of negative frequences for each\n",
        "                                         class, size (num_classes)\n",
        "    \"\"\"\n",
        "    ### START CODE HERE (REPLACE INSTANCES OF 'None' with your code) ###\n",
        "    \n",
        "    # total number of patients (rows)\n",
        "    N = labels.shape[0]\n",
        "    \n",
        "    positive_frequencies = np.sum(labels,axis=0)/N\n",
        "    negative_frequencies = np.ones_like(positive_frequencies) - positive_frequencies\n",
        "\n",
        "    ### END CODE HERE ###\n",
        "    return positive_frequencies, negative_frequencies"
      ],
      "execution_count": null,
      "outputs": []
    },
    {
      "cell_type": "code",
      "metadata": {
        "id": "xulfVNou8oDJ",
        "colab_type": "code",
        "colab": {
          "base_uri": "https://localhost:8080/",
          "height": 50
        },
        "outputId": "e7a9e100-3bd0-4428-8150-1724cfd7c9ec"
      },
      "source": [
        "freq_pos, freq_neg = compute_class_freqs(train_generator_48.labels)\n",
        "print(freq_pos)\n",
        "print(freq_neg)"
      ],
      "execution_count": null,
      "outputs": [
        {
          "output_type": "stream",
          "text": [
            "[0.44941176]\n",
            "[0.55058824]\n"
          ],
          "name": "stdout"
        }
      ]
    },
    {
      "cell_type": "code",
      "metadata": {
        "id": "Co6Qin7r8oDM",
        "colab_type": "code",
        "colab": {
          "base_uri": "https://localhost:8080/",
          "height": 350
        },
        "outputId": "fac51721-c355-47ec-9393-3f7bff6c53e2"
      },
      "source": [
        "import seaborn as sns\n",
        "data = pd.DataFrame({\"Class\": labels, \"Label\": \"Positive\", \"Value\": freq_pos})\n",
        "data = data.append([{\"Class\": labels[l], \"Label\": \"Negative\", \"Value\": v} for l,v in enumerate(freq_neg)], ignore_index=True)\n",
        "plt.xticks(rotation=90)\n",
        "f = sns.barplot(x=\"Class\", y=\"Value\", hue=\"Label\" ,data=data)"
      ],
      "execution_count": null,
      "outputs": [
        {
          "output_type": "stream",
          "text": [
            "/usr/local/lib/python3.6/dist-packages/statsmodels/tools/_testing.py:19: FutureWarning: pandas.util.testing is deprecated. Use the functions in the public API at pandas.testing instead.\n",
            "  import pandas.util.testing as tm\n"
          ],
          "name": "stderr"
        },
        {
          "output_type": "display_data",
          "data": {
            "image/png": "[encoded data removed]",
            "text/plain": [
              "<Figure size 432x288 with 1 Axes>"
            ]
          },
          "metadata": {
            "tags": [],
            "needs_background": "light"
          }
        }
      ]
    },
    {
      "cell_type": "code",
      "metadata": {
        "id": "SwTPh9H88oDP",
        "colab_type": "code",
        "colab": {}
      },
      "source": [
        "pos_weights = freq_neg\n",
        "neg_weights = freq_pos\n",
        "pos_contribution = freq_pos * pos_weights \n",
        "neg_contribution = freq_neg * neg_weights"
      ],
      "execution_count": null,
      "outputs": []
    },
    {
      "cell_type": "code",
      "metadata": {
        "id": "-tnjeflF8oDR",
        "colab_type": "code",
        "colab": {
          "base_uri": "https://localhost:8080/",
          "height": 297
        },
        "outputId": "676c4683-8a99-48c9-f6a3-676bbd0ef2c0"
      },
      "source": [
        "data = pd.DataFrame({\"Class\": labels, \"Label\": \"Positive\", \"Value\": pos_contribution})\n",
        "data = data.append([{\"Class\": labels[l], \"Label\": \"Negative\", \"Value\": v} \n",
        "                        for l,v in enumerate(neg_contribution)], ignore_index=True)\n",
        "plt.xticks(rotation=90)\n",
        "sns.barplot(x=\"Class\", y=\"Value\", hue=\"Label\" ,data=data);"
      ],
      "execution_count": null,
      "outputs": [
        {
          "output_type": "display_data",
          "data": {
            "image/png": "[encoded data removed]",
            "text/plain": [
              "<Figure size 432x288 with 1 Axes>"
            ]
          },
          "metadata": {
            "tags": [],
            "needs_background": "light"
          }
        }
      ]
    },
    {
      "cell_type": "markdown",
      "metadata": {
        "id": "JpTiGj4hWXNz",
        "colab_type": "text"
      },
      "source": [
        "# **MODEL**"
      ]
    },
    {
      "cell_type": "code",
      "metadata": {
        "id": "2E68yXe_KHNX",
        "colab_type": "code",
        "colab": {}
      },
      "source": [
        "from keras.callbacks import Callback\n",
        "from keras import backend as K\n",
        "import numpy as np\n",
        "\n",
        "\n",
        "class CyclicLR(Callback):\n",
        "    \"\"\"This callback implements a cyclical learning rate policy (CLR).\n",
        "    The method cycles the learning rate between two boundaries with\n",
        "    some constant frequency.\n",
        "    # Arguments\n",
        "        base_lr: initial learning rate which is the\n",
        "            lower boundary in the cycle.\n",
        "        max_lr: upper boundary in the cycle. Functionally,\n",
        "            it defines the cycle amplitude (max_lr - base_lr).\n",
        "            The lr at any cycle is the sum of base_lr\n",
        "            and some scaling of the amplitude; therefore\n",
        "            max_lr may not actually be reached depending on\n",
        "            scaling function.\n",
        "        step_size: number of training iterations per\n",
        "            half cycle. Authors suggest setting step_size\n",
        "            2-8 x training iterations in epoch.\n",
        "        mode: one of {triangular, triangular2, exp_range}.\n",
        "            Default 'triangular'.\n",
        "            Values correspond to policies detailed above.\n",
        "            If scale_fn is not None, this argument is ignored.\n",
        "        gamma: constant in 'exp_range' scaling function:\n",
        "            gamma**(cycle iterations)\n",
        "        scale_fn: Custom scaling policy defined by a single\n",
        "            argument lambda function, where\n",
        "            0 <= scale_fn(x) <= 1 for all x >= 0.\n",
        "            mode paramater is ignored\n",
        "        scale_mode: {'cycle', 'iterations'}.\n",
        "            Defines whether scale_fn is evaluated on\n",
        "            cycle number or cycle iterations (training\n",
        "            iterations since start of cycle). Default is 'cycle'.\n",
        "\n",
        "    The amplitude of the cycle can be scaled on a per-iteration or\n",
        "    per-cycle basis.\n",
        "    This class has three built-in policies, as put forth in the paper.\n",
        "    \"triangular\":\n",
        "        A basic triangular cycle w/ no amplitude scaling.\n",
        "    \"triangular2\":\n",
        "        A basic triangular cycle that scales initial amplitude by half each cycle.\n",
        "    \"exp_range\":\n",
        "        A cycle that scales initial amplitude by gamma**(cycle iterations) at each\n",
        "        cycle iteration.\n",
        "    For more detail, please see paper.\n",
        "\n",
        "    # Example for CIFAR-10 w/ batch size 100:\n",
        "        ```python\n",
        "            clr = CyclicLR(base_lr=0.001, max_lr=0.006,\n",
        "                                step_size=2000., mode='triangular')\n",
        "            model.fit(X_train, Y_train, callbacks=[clr])\n",
        "        ```\n",
        "\n",
        "    Class also supports custom scaling functions:\n",
        "        ```python\n",
        "            clr_fn = lambda x: 0.5*(1+np.sin(x*np.pi/2.))\n",
        "            clr = CyclicLR(base_lr=0.001, max_lr=0.006,\n",
        "                                step_size=2000., scale_fn=clr_fn,\n",
        "                                scale_mode='cycle')\n",
        "            model.fit(X_train, Y_train, callbacks=[clr])\n",
        "        ```\n",
        "\n",
        "    # References\n",
        "\n",
        "      - [Cyclical Learning Rates for Training Neural Networks](\n",
        "      https://arxiv.org/abs/1506.01186)\n",
        "    \"\"\"\n",
        "\n",
        "    def __init__(\n",
        "            self,\n",
        "            base_lr=0.001,\n",
        "            max_lr=0.006,\n",
        "            step_size=2000.,\n",
        "            mode='triangular',\n",
        "            gamma=1.,\n",
        "            scale_fn=None,\n",
        "            scale_mode='cycle'):\n",
        "        super(CyclicLR, self).__init__()\n",
        "\n",
        "        if mode not in ['triangular', 'triangular2',\n",
        "                        'exp_range']:\n",
        "            raise KeyError(\"mode must be one of 'triangular', \"\n",
        "                           \"'triangular2', or 'exp_range'\")\n",
        "        self.base_lr = base_lr\n",
        "        self.max_lr = max_lr\n",
        "        self.step_size = step_size\n",
        "        self.mode = mode\n",
        "        self.gamma = gamma\n",
        "        if scale_fn is None:\n",
        "            if self.mode == 'triangular':\n",
        "                self.scale_fn = lambda x: 1.\n",
        "                self.scale_mode = 'cycle'\n",
        "            elif self.mode == 'triangular2':\n",
        "                self.scale_fn = lambda x: 1 / (2.**(x - 1))\n",
        "                self.scale_mode = 'cycle'\n",
        "            elif self.mode == 'exp_range':\n",
        "                self.scale_fn = lambda x: gamma ** x\n",
        "                self.scale_mode = 'iterations'\n",
        "        else:\n",
        "            self.scale_fn = scale_fn\n",
        "            self.scale_mode = scale_mode\n",
        "        self.clr_iterations = 0.\n",
        "        self.trn_iterations = 0.\n",
        "        self.history = {}\n",
        "\n",
        "        self._reset()\n",
        "\n",
        "    def _reset(self, new_base_lr=None, new_max_lr=None,\n",
        "               new_step_size=None):\n",
        "        \"\"\"Resets cycle iterations.\n",
        "        Optional boundary/step size adjustment.\n",
        "        \"\"\"\n",
        "        if new_base_lr is not None:\n",
        "            self.base_lr = new_base_lr\n",
        "        if new_max_lr is not None:\n",
        "            self.max_lr = new_max_lr\n",
        "        if new_step_size is not None:\n",
        "            self.step_size = new_step_size\n",
        "        self.clr_iterations = 0.\n",
        "\n",
        "    def clr(self):\n",
        "        cycle = np.floor(1 + self.clr_iterations / (2 * self.step_size))\n",
        "        x = np.abs(self.clr_iterations / self.step_size - 2 * cycle + 1)\n",
        "        if self.scale_mode == 'cycle':\n",
        "            return self.base_lr + (self.max_lr - self.base_lr) * \\\n",
        "                np.maximum(0, (1 - x)) * self.scale_fn(cycle)\n",
        "        else:\n",
        "            return self.base_lr + (self.max_lr - self.base_lr) * \\\n",
        "                np.maximum(0, (1 - x)) * self.scale_fn(self.clr_iterations)\n",
        "\n",
        "    def on_train_begin(self, logs={}):\n",
        "        logs = logs or {}\n",
        "\n",
        "        if self.clr_iterations == 0:\n",
        "            K.set_value(self.model.optimizer.lr, self.base_lr)\n",
        "        else:\n",
        "            K.set_value(self.model.optimizer.lr, self.clr())\n",
        "\n",
        "    def on_batch_end(self, epoch, logs=None):\n",
        "\n",
        "        logs = logs or {}\n",
        "        self.trn_iterations += 1\n",
        "        self.clr_iterations += 1\n",
        "        K.set_value(self.model.optimizer.lr, self.clr())\n",
        "\n",
        "        self.history.setdefault(\n",
        "            'lr', []).append(\n",
        "            K.get_value(\n",
        "                self.model.optimizer.lr))\n",
        "        self.history.setdefault('iterations', []).append(self.trn_iterations)\n",
        "\n",
        "        for k, v in logs.items():\n",
        "            self.history.setdefault(k, []).append(v)\n",
        "\n",
        "    def on_epoch_end(self, epoch, logs=None):\n",
        "        logs = logs or {}\n",
        "        logs['lr'] = K.get_value(self.model.optimizer.lr)"
      ],
      "execution_count": null,
      "outputs": []
    },
    {
      "cell_type": "code",
      "metadata": {
        "id": "AhVA5Zs48oDU",
        "colab_type": "code",
        "colab": {}
      },
      "source": [
        "def get_weighted_loss(pos_weights, neg_weights, epsilon=1e-7):\n",
        "    \"\"\"\n",
        "    Return weighted loss function given negative weights and positive weights.\n",
        "\n",
        "    Args:\n",
        "      pos_weights (np.array): array of positive weights for each class, size (num_classes)\n",
        "      neg_weights (np.array): array of negative weights for each class, size (num_classes)\n",
        "    \n",
        "    Returns:\n",
        "      weighted_loss (function): weighted loss function\n",
        "    \"\"\"\n",
        "    def weighted_loss(y_true, y_pred):\n",
        "        \"\"\"\n",
        "        Return weighted loss value. \n",
        "\n",
        "        Args:\n",
        "            y_true (Tensor): Tensor of true labels, size is (num_examples, num_classes)\n",
        "            y_pred (Tensor): Tensor of predicted labels, size is (num_examples, num_classes)\n",
        "        Returns:\n",
        "            loss (Tensor): overall scalar loss summed across all classes\n",
        "        \"\"\"\n",
        "        # initialize loss to zero\n",
        "        loss = 0.0\n",
        "        \n",
        "\n",
        "        for i in range(len(pos_weights)):\n",
        "            # for each class, add average weighted loss for that class \n",
        "            loss += -K.mean(pos_weights[i]*y_true[:,i]*K.log(y_pred[:,i]+epsilon) + neg_weights[i]*(1-y_true[:,i])*K.log(1-y_pred[:,i]+epsilon)) \n",
        "        return loss\n",
        "    return weighted_loss"
      ],
      "execution_count": null,
      "outputs": []
    },
    {
      "cell_type": "code",
      "metadata": {
        "id": "K7gnkUzVJVZ8",
        "colab_type": "code",
        "colab": {}
      },
      "source": [
        "# import tensorflow.keras.losses\n",
        "# keras.losses.custom_loss = weighted_loss"
      ],
      "execution_count": null,
      "outputs": []
    },
    {
      "cell_type": "code",
      "metadata": {
        "id": "fuq10agoxVa_",
        "colab_type": "code",
        "colab": {}
      },
      "source": [
        "# create the base pre-trained model\n",
        "prior = keras.applications.VGG19(weights='imagenet', input_shape=(192,192,3), include_top=False)\n",
        "\n",
        "model = keras.models.Sequential()\n",
        "model.add(prior)\n",
        "# add a global spatial average pooling layer\n",
        "model.add(keras.layers.AveragePooling2D(pool_size=(2,2),strides=(1,1),padding='valid'))\n",
        "model.add(keras.layers.Flatten())\n",
        "model.add(keras.layers.Dense(1024,kernel_regularizer=keras.regularizers.l1_l2()))\n",
        "model.add(keras.layers.Dropout(0.4))\n",
        "model.add(keras.layers.Dense(512,kernel_regularizer=keras.regularizers.l1_l2()))\n",
        "model.add(keras.layers.Dense(256,kernel_regularizer=keras.regularizers.l1_l2()))\n",
        "model.add(keras.layers.Dense(128,kernel_regularizer=keras.regularizers.l1_l2()))\n",
        "# and a logistic layer\n",
        "model.add(keras.layers.Dense(len(labels), activation=\"sigmoid\"))\n",
        "\n",
        "#freeze layers\n",
        "for cnn_block_layer in model.layers[0].layers:\n",
        "    cnn_block_layer.trainable = False\n",
        "model.layers[0].trainable = False\n",
        "\n",
        "# model = Model(inputs=base_model.input, outputs=predictions)\n",
        "model.compile(optimizer=keras.optimizers.Adam(learning_rate=1e-2), loss=get_weighted_loss(pos_weights,neg_weights),metrics=['accuracy'])\n",
        "# clr = CyclicLR(base_lr=0.01, max_lr=0.06,\n",
        "#                     step_size=2000., mode='triangular')\n",
        "\n",
        "# tf.keras.backend.clear_session()"
      ],
      "execution_count": null,
      "outputs": []
    },
    {
      "cell_type": "code",
      "metadata": {
        "id": "5JA1GbVV-b3B",
        "colab_type": "code",
        "colab": {}
      },
      "source": [
        "# !pip install tensorflow==1.14.0"
      ],
      "execution_count": null,
      "outputs": []
    },
    {
      "cell_type": "code",
      "metadata": {
        "id": "eu9zvN77Oi6h",
        "colab_type": "code",
        "colab": {
          "base_uri": "https://localhost:8080/",
          "height": 1000
        },
        "outputId": "ced637e9-8e8e-4541-8baf-3c8cabccf4af"
      },
      "source": [
        "X_batch, y_batch = next(train_generator_192)\n",
        "X_idxs_resampled, _ = RandomUnderSampler().fit_resample(\n",
        "    np.asarray(range(len(X_batch)))[:, np.newaxis], \n",
        "    y_batch\n",
        ")\n",
        "\n",
        "X_batch, y_batch = X_batch[X_idxs_resampled[:, 0]], y_batch[X_idxs_resampled[:, 0]]\n",
        "print(X_batch.shape)\n",
        "lr_finder = LRFinder(model)\n",
        "lr_finder.find(X_batch, y_batch, start_lr=1e-20, end_lr=1e+10, batch_size=16, epochs=1000)\n",
        "lr_finder.plot_loss()"
      ],
      "execution_count": null,
      "outputs": [
        {
          "output_type": "stream",
          "text": [
            "/usr/local/lib/python3.6/dist-packages/sklearn/utils/deprecation.py:87: FutureWarning: Function safe_indexing is deprecated; safe_indexing is deprecated in version 0.22 and will be removed in version 0.24.\n",
            "  warnings.warn(msg, category=FutureWarning)\n"
          ],
          "name": "stderr"
        },
        {
          "output_type": "stream",
          "text": [
            "(4, 192, 192, 3)\n",
            "Epoch 1/1000\n",
            "4/4 [==============================] - 0s 97ms/step - loss: 1638.7488 - accuracy: 0.7500\n",
            "Epoch 2/1000\n",
            "4/4 [==============================] - 0s 14ms/step - loss: 1639.1077 - accuracy: 0.2500\n",
            "Epoch 3/1000\n",
            "4/4 [==============================] - 0s 15ms/step - loss: 1639.3342 - accuracy: 0.5000\n",
            "Epoch 4/1000\n",
            "4/4 [==============================] - 0s 14ms/step - loss: 1638.9198 - accuracy: 0.7500\n",
            "Epoch 5/1000\n",
            "4/4 [==============================] - 0s 14ms/step - loss: 1639.0616 - accuracy: 0.5000\n",
            "Epoch 6/1000\n",
            "4/4 [==============================] - 0s 13ms/step - loss: 1639.0300 - accuracy: 0.5000\n",
            "Epoch 7/1000\n",
            "4/4 [==============================] - 0s 13ms/step - loss: 1639.3154 - accuracy: 0.5000\n",
            "Epoch 8/1000\n",
            "4/4 [==============================] - 0s 13ms/step - loss: 1639.3392 - accuracy: 0.5000\n",
            "Epoch 9/1000\n",
            "4/4 [==============================] - 0s 14ms/step - loss: 1639.0228 - accuracy: 0.5000\n",
            "Epoch 10/1000\n",
            "4/4 [==============================] - 0s 13ms/step - loss: 1639.4025 - accuracy: 0.2500\n",
            "Epoch 11/1000\n",
            "4/4 [==============================] - 0s 13ms/step - loss: 1639.1057 - accuracy: 0.5000\n",
            "Epoch 12/1000\n",
            "4/4 [==============================] - 0s 13ms/step - loss: 1639.1161 - accuracy: 0.7500\n",
            "Epoch 13/1000\n",
            "4/4 [==============================] - 0s 13ms/step - loss: 1639.1949 - accuracy: 0.5000\n",
            "Epoch 14/1000\n",
            "4/4 [==============================] - 0s 13ms/step - loss: 1639.0969 - accuracy: 0.2500\n",
            "Epoch 15/1000\n",
            "4/4 [==============================] - 0s 13ms/step - loss: 1639.2192 - accuracy: 0.5000\n",
            "Epoch 16/1000\n",
            "4/4 [==============================] - 0s 13ms/step - loss: 1638.8438 - accuracy: 0.7500\n",
            "Epoch 17/1000\n",
            "4/4 [==============================] - 0s 13ms/step - loss: 1638.9170 - accuracy: 0.5000\n",
            "Epoch 18/1000\n",
            "4/4 [==============================] - 0s 13ms/step - loss: 1639.3198 - accuracy: 0.2500\n",
            "Epoch 19/1000\n",
            "4/4 [==============================] - 0s 13ms/step - loss: 1639.2130 - accuracy: 0.2500\n",
            "Epoch 20/1000\n",
            "4/4 [==============================] - 0s 13ms/step - loss: 1639.6656 - accuracy: 0.2500\n",
            "Epoch 21/1000\n",
            "4/4 [==============================] - 0s 13ms/step - loss: 1639.0458 - accuracy: 0.5000\n",
            "Epoch 22/1000\n",
            "4/4 [==============================] - 0s 13ms/step - loss: 1639.1460 - accuracy: 0.2500\n",
            "Epoch 23/1000\n",
            "4/4 [==============================] - 0s 13ms/step - loss: 1639.2053 - accuracy: 0.5000\n",
            "Epoch 24/1000\n",
            "4/4 [==============================] - 0s 13ms/step - loss: 1639.4800 - accuracy: 0.2500\n",
            "Epoch 25/1000\n",
            "4/4 [==============================] - 0s 13ms/step - loss: 1638.8580 - accuracy: 0.7500\n",
            "Epoch 26/1000\n",
            "4/4 [==============================] - 0s 13ms/step - loss: 1639.3035 - accuracy: 0.2500\n",
            "Epoch 27/1000\n",
            "4/4 [==============================] - 0s 13ms/step - loss: 1639.1581 - accuracy: 0.2500\n",
            "Epoch 28/1000\n",
            "4/4 [==============================] - 0s 13ms/step - loss: 1639.0142 - accuracy: 0.7500\n",
            "Epoch 29/1000\n",
            "4/4 [==============================] - 0s 13ms/step - loss: 1639.5112 - accuracy: 0.2500\n",
            "Epoch 30/1000\n",
            "4/4 [==============================] - 0s 13ms/step - loss: 1639.1329 - accuracy: 0.2500\n",
            "Epoch 31/1000\n",
            "4/4 [==============================] - 0s 13ms/step - loss: 1638.9747 - accuracy: 0.5000\n",
            "Epoch 32/1000\n",
            "4/4 [==============================] - 0s 13ms/step - loss: 1638.9435 - accuracy: 0.5000\n",
            "Epoch 33/1000\n",
            "4/4 [==============================] - 0s 13ms/step - loss: 1638.9480 - accuracy: 0.7500\n",
            "Epoch 34/1000\n",
            "4/4 [==============================] - 0s 13ms/step - loss: 1638.9022 - accuracy: 0.7500\n",
            "Epoch 35/1000\n",
            "4/4 [==============================] - 0s 13ms/step - loss: 1639.0366 - accuracy: 0.5000\n",
            "Epoch 36/1000\n",
            "4/4 [==============================] - 0s 13ms/step - loss: 1639.4308 - accuracy: 0.2500\n",
            "Epoch 37/1000\n",
            "4/4 [==============================] - 0s 13ms/step - loss: 1639.1320 - accuracy: 0.2500\n",
            "Epoch 38/1000\n",
            "4/4 [==============================] - 0s 13ms/step - loss: 1638.8955 - accuracy: 0.7500\n",
            "Epoch 39/1000\n",
            "4/4 [==============================] - 0s 13ms/step - loss: 1639.2256 - accuracy: 0.5000\n",
            "Epoch 40/1000\n",
            "4/4 [==============================] - 0s 13ms/step - loss: 1639.1892 - accuracy: 0.0000e+00\n",
            "Epoch 41/1000\n",
            "4/4 [==============================] - 0s 13ms/step - loss: 1639.3427 - accuracy: 0.2500\n",
            "Epoch 42/1000\n",
            "4/4 [==============================] - 0s 13ms/step - loss: 1639.4073 - accuracy: 0.5000\n",
            "Epoch 43/1000\n",
            "4/4 [==============================] - 0s 13ms/step - loss: 1639.3241 - accuracy: 0.5000\n",
            "Epoch 44/1000\n",
            "4/4 [==============================] - 0s 13ms/step - loss: 1639.1752 - accuracy: 0.2500\n",
            "Epoch 45/1000\n",
            "4/4 [==============================] - 0s 13ms/step - loss: 1639.3729 - accuracy: 0.2500\n",
            "Epoch 46/1000\n",
            "4/4 [==============================] - 0s 13ms/step - loss: 1639.0522 - accuracy: 0.7500\n",
            "Epoch 47/1000\n",
            "4/4 [==============================] - 0s 13ms/step - loss: 1639.3398 - accuracy: 0.0000e+00\n",
            "Epoch 48/1000\n",
            "4/4 [==============================] - 0s 13ms/step - loss: 1638.7902 - accuracy: 0.7500\n",
            "Epoch 49/1000\n",
            "4/4 [==============================] - 0s 13ms/step - loss: 1639.2935 - accuracy: 0.2500\n",
            "Epoch 50/1000\n",
            "4/4 [==============================] - 0s 13ms/step - loss: 1639.0239 - accuracy: 0.7500\n",
            "Epoch 51/1000\n",
            "4/4 [==============================] - 0s 13ms/step - loss: 1639.0430 - accuracy: 0.2500\n",
            "Epoch 52/1000\n",
            "4/4 [==============================] - 0s 13ms/step - loss: 1639.1913 - accuracy: 0.2500\n",
            "Epoch 53/1000\n",
            "4/4 [==============================] - 0s 13ms/step - loss: 1639.1467 - accuracy: 0.2500\n",
            "Epoch 54/1000\n",
            "4/4 [==============================] - 0s 13ms/step - loss: 1639.5344 - accuracy: 0.5000\n",
            "Epoch 55/1000\n",
            "4/4 [==============================] - 0s 13ms/step - loss: 1639.4102 - accuracy: 0.2500\n",
            "Epoch 56/1000\n",
            "4/4 [==============================] - 0s 13ms/step - loss: 1639.0320 - accuracy: 0.5000\n",
            "Epoch 57/1000\n",
            "4/4 [==============================] - 0s 13ms/step - loss: 1638.9286 - accuracy: 0.7500\n",
            "Epoch 58/1000\n",
            "4/4 [==============================] - 0s 13ms/step - loss: 1638.9264 - accuracy: 0.5000\n",
            "Epoch 59/1000\n",
            "4/4 [==============================] - 0s 13ms/step - loss: 1639.1802 - accuracy: 0.0000e+00\n",
            "Epoch 60/1000\n",
            "4/4 [==============================] - 0s 13ms/step - loss: 1638.9525 - accuracy: 0.5000\n",
            "Epoch 61/1000\n",
            "4/4 [==============================] - 0s 13ms/step - loss: 1638.9254 - accuracy: 0.2500\n",
            "Epoch 62/1000\n",
            "4/4 [==============================] - 0s 13ms/step - loss: 1638.9424 - accuracy: 0.5000\n",
            "Epoch 63/1000\n",
            "4/4 [==============================] - 0s 13ms/step - loss: 1639.1071 - accuracy: 0.2500\n",
            "Epoch 64/1000\n",
            "4/4 [==============================] - 0s 13ms/step - loss: 1639.3188 - accuracy: 0.2500\n",
            "Epoch 65/1000\n",
            "4/4 [==============================] - 0s 13ms/step - loss: 1638.8430 - accuracy: 0.7500\n",
            "Epoch 66/1000\n",
            "4/4 [==============================] - 0s 13ms/step - loss: 1638.9512 - accuracy: 0.7500\n",
            "Epoch 67/1000\n",
            "4/4 [==============================] - 0s 13ms/step - loss: 1638.8320 - accuracy: 1.0000\n",
            "Epoch 68/1000\n",
            "4/4 [==============================] - 0s 13ms/step - loss: 1638.8214 - accuracy: 0.7500\n",
            "Epoch 69/1000\n",
            "4/4 [==============================] - 0s 13ms/step - loss: 1639.0206 - accuracy: 0.5000\n",
            "Epoch 70/1000\n",
            "4/4 [==============================] - 0s 13ms/step - loss: 1639.0416 - accuracy: 0.5000\n",
            "Epoch 71/1000\n",
            "4/4 [==============================] - 0s 13ms/step - loss: 1639.1956 - accuracy: 0.7500\n",
            "Epoch 72/1000\n",
            "4/4 [==============================] - 0s 13ms/step - loss: 1639.0159 - accuracy: 0.5000\n",
            "Epoch 73/1000\n",
            "4/4 [==============================] - 0s 13ms/step - loss: 1638.8623 - accuracy: 0.7500\n",
            "Epoch 74/1000\n",
            "4/4 [==============================] - 0s 13ms/step - loss: 1639.4076 - accuracy: 0.7500\n",
            "Epoch 75/1000\n",
            "4/4 [==============================] - 0s 13ms/step - loss: 1639.1737 - accuracy: 0.5000\n",
            "Epoch 76/1000\n",
            "4/4 [==============================] - 0s 13ms/step - loss: 1638.8392 - accuracy: 0.7500\n",
            "Epoch 77/1000\n",
            "4/4 [==============================] - 0s 13ms/step - loss: 1638.8611 - accuracy: 0.5000\n",
            "Epoch 78/1000\n",
            "4/4 [==============================] - 0s 15ms/step - loss: 1638.9099 - accuracy: 0.7500\n",
            "Epoch 79/1000\n",
            "4/4 [==============================] - 0s 13ms/step - loss: 1639.2075 - accuracy: 0.0000e+00\n",
            "Epoch 80/1000\n",
            "4/4 [==============================] - 0s 13ms/step - loss: 1638.9171 - accuracy: 0.5000\n",
            "Epoch 81/1000\n",
            "4/4 [==============================] - 0s 13ms/step - loss: 1639.1946 - accuracy: 0.5000\n",
            "Epoch 82/1000\n",
            "4/4 [==============================] - 0s 13ms/step - loss: 1639.0242 - accuracy: 0.5000\n",
            "Epoch 83/1000\n",
            "4/4 [==============================] - 0s 13ms/step - loss: 1639.3065 - accuracy: 0.2500\n",
            "Epoch 84/1000\n",
            "4/4 [==============================] - 0s 13ms/step - loss: 1639.2782 - accuracy: 0.5000\n",
            "Epoch 85/1000\n",
            "4/4 [==============================] - 0s 13ms/step - loss: 1639.0785 - accuracy: 0.7500\n",
            "Epoch 86/1000\n",
            "4/4 [==============================] - 0s 13ms/step - loss: 1639.2440 - accuracy: 0.5000\n",
            "Epoch 87/1000\n",
            "4/4 [==============================] - 0s 13ms/step - loss: 1638.9480 - accuracy: 0.7500\n",
            "Epoch 88/1000\n",
            "4/4 [==============================] - 0s 13ms/step - loss: 1638.8636 - accuracy: 0.7500\n",
            "Epoch 89/1000\n",
            "4/4 [==============================] - 0s 13ms/step - loss: 1639.1490 - accuracy: 0.2500\n",
            "Epoch 90/1000\n",
            "4/4 [==============================] - 0s 13ms/step - loss: 1639.1814 - accuracy: 0.2500\n",
            "Epoch 91/1000\n",
            "4/4 [==============================] - 0s 13ms/step - loss: 1639.6554 - accuracy: 0.2500\n",
            "Epoch 92/1000\n",
            "4/4 [==============================] - 0s 13ms/step - loss: 1639.0204 - accuracy: 0.7500\n",
            "Epoch 93/1000\n",
            "4/4 [==============================] - 0s 13ms/step - loss: 1639.2327 - accuracy: 0.5000\n",
            "Epoch 94/1000\n",
            "4/4 [==============================] - 0s 13ms/step - loss: 1639.3942 - accuracy: 0.2500\n",
            "Epoch 95/1000\n",
            "4/4 [==============================] - 0s 13ms/step - loss: 1639.2632 - accuracy: 0.2500\n",
            "Epoch 96/1000\n",
            "4/4 [==============================] - 0s 14ms/step - loss: 1639.3812 - accuracy: 0.2500\n",
            "Epoch 97/1000\n",
            "4/4 [==============================] - 0s 13ms/step - loss: 1639.3450 - accuracy: 0.2500\n",
            "Epoch 98/1000\n",
            "4/4 [==============================] - 0s 13ms/step - loss: 1638.9221 - accuracy: 0.5000\n",
            "Epoch 99/1000\n",
            "4/4 [==============================] - 0s 13ms/step - loss: 1638.9053 - accuracy: 0.5000\n",
            "Epoch 100/1000\n",
            "4/4 [==============================] - 0s 13ms/step - loss: 1639.1918 - accuracy: 0.2500\n",
            "Epoch 101/1000\n",
            "4/4 [==============================] - 0s 13ms/step - loss: 1638.8147 - accuracy: 0.7500\n",
            "Epoch 102/1000\n",
            "4/4 [==============================] - 0s 13ms/step - loss: 1638.8916 - accuracy: 0.7500\n",
            "Epoch 103/1000\n",
            "4/4 [==============================] - 0s 13ms/step - loss: 1638.9009 - accuracy: 0.5000\n",
            "Epoch 104/1000\n",
            "4/4 [==============================] - 0s 13ms/step - loss: 1639.0219 - accuracy: 0.5000\n",
            "Epoch 105/1000\n",
            "4/4 [==============================] - 0s 13ms/step - loss: 1639.2214 - accuracy: 0.2500\n",
            "Epoch 106/1000\n",
            "4/4 [==============================] - 0s 13ms/step - loss: 1639.2410 - accuracy: 0.2500\n",
            "Epoch 107/1000\n",
            "4/4 [==============================] - 0s 14ms/step - loss: 1639.0731 - accuracy: 0.5000\n",
            "Epoch 108/1000\n",
            "4/4 [==============================] - 0s 13ms/step - loss: 1638.8896 - accuracy: 0.5000\n",
            "Epoch 109/1000\n",
            "4/4 [==============================] - 0s 13ms/step - loss: 1638.9015 - accuracy: 0.7500\n",
            "Epoch 110/1000\n",
            "4/4 [==============================] - 0s 13ms/step - loss: 1638.8127 - accuracy: 0.5000\n",
            "Epoch 111/1000\n",
            "4/4 [==============================] - 0s 13ms/step - loss: 1638.7881 - accuracy: 0.7500\n",
            "Epoch 112/1000\n",
            "4/4 [==============================] - 0s 13ms/step - loss: 1639.0898 - accuracy: 0.7500\n",
            "Epoch 113/1000\n",
            "4/4 [==============================] - 0s 13ms/step - loss: 1639.0984 - accuracy: 0.2500\n",
            "Epoch 114/1000\n",
            "4/4 [==============================] - 0s 13ms/step - loss: 1639.0103 - accuracy: 0.0000e+00\n",
            "Epoch 115/1000\n",
            "4/4 [==============================] - 0s 14ms/step - loss: 1638.6138 - accuracy: 0.7500\n",
            "Epoch 116/1000\n",
            "4/4 [==============================] - 0s 13ms/step - loss: 1638.9254 - accuracy: 0.5000\n",
            "Epoch 117/1000\n",
            "4/4 [==============================] - 0s 13ms/step - loss: 1638.6360 - accuracy: 0.7500\n",
            "Epoch 118/1000\n",
            "4/4 [==============================] - 0s 13ms/step - loss: 1639.2085 - accuracy: 0.2500\n",
            "Epoch 119/1000\n",
            "4/4 [==============================] - 0s 13ms/step - loss: 1638.3458 - accuracy: 0.5000\n",
            "Epoch 120/1000\n",
            "4/4 [==============================] - 0s 14ms/step - loss: 1638.6196 - accuracy: 0.0000e+00\n",
            "Epoch 121/1000\n",
            "4/4 [==============================] - 0s 13ms/step - loss: 1637.8214 - accuracy: 0.7500\n",
            "Epoch 122/1000\n",
            "4/4 [==============================] - 0s 13ms/step - loss: 1637.5521 - accuracy: 0.7500\n",
            "Epoch 123/1000\n",
            "4/4 [==============================] - 0s 13ms/step - loss: 1636.9595 - accuracy: 0.7500\n",
            "Epoch 124/1000\n",
            "4/4 [==============================] - 0s 13ms/step - loss: 1636.5273 - accuracy: 0.7500\n",
            "Epoch 125/1000\n",
            "4/4 [==============================] - 0s 13ms/step - loss: 1636.3927 - accuracy: 0.2500\n",
            "Epoch 126/1000\n",
            "4/4 [==============================] - 0s 14ms/step - loss: 1634.7277 - accuracy: 0.5000\n",
            "Epoch 127/1000\n",
            "4/4 [==============================] - 0s 13ms/step - loss: 1633.3411 - accuracy: 0.5000\n",
            "Epoch 128/1000\n",
            "4/4 [==============================] - 0s 13ms/step - loss: 1631.7716 - accuracy: 0.5000\n",
            "Epoch 129/1000\n",
            "4/4 [==============================] - 0s 13ms/step - loss: 1629.1276 - accuracy: 0.7500\n",
            "Epoch 130/1000\n",
            "4/4 [==============================] - 0s 13ms/step - loss: 1626.4742 - accuracy: 0.2500\n",
            "Epoch 131/1000\n",
            "4/4 [==============================] - 0s 13ms/step - loss: 1622.2098 - accuracy: 0.2500\n",
            "Epoch 132/1000\n",
            "4/4 [==============================] - 0s 13ms/step - loss: 1616.6252 - accuracy: 1.0000\n",
            "Epoch 133/1000\n",
            "4/4 [==============================] - 0s 13ms/step - loss: 1609.7830 - accuracy: 0.5000\n",
            "Epoch 134/1000\n",
            "4/4 [==============================] - 0s 13ms/step - loss: 1600.4348 - accuracy: 1.0000\n",
            "Epoch 135/1000\n",
            "4/4 [==============================] - 0s 13ms/step - loss: 1588.4875 - accuracy: 0.7500\n",
            "Epoch 136/1000\n",
            "4/4 [==============================] - 0s 13ms/step - loss: 1572.8192 - accuracy: 0.7500\n",
            "Epoch 137/1000\n",
            "4/4 [==============================] - 0s 13ms/step - loss: 1552.1166 - accuracy: 0.7500\n",
            "Epoch 138/1000\n",
            "4/4 [==============================] - 0s 13ms/step - loss: 1525.1608 - accuracy: 1.0000\n",
            "Epoch 139/1000\n",
            "4/4 [==============================] - 0s 13ms/step - loss: 1490.4207 - accuracy: 1.0000\n",
            "Epoch 140/1000\n",
            "4/4 [==============================] - 0s 13ms/step - loss: 1445.6567 - accuracy: 1.0000\n",
            "Epoch 141/1000\n",
            "4/4 [==============================] - 0s 13ms/step - loss: 1388.5070 - accuracy: 1.0000\n",
            "Epoch 142/1000\n",
            "4/4 [==============================] - 0s 13ms/step - loss: 1316.2769 - accuracy: 1.0000\n",
            "Epoch 143/1000\n",
            "4/4 [==============================] - 0s 13ms/step - loss: 1227.0238 - accuracy: 0.7500\n",
            "Epoch 144/1000\n",
            "4/4 [==============================] - 0s 13ms/step - loss: 1118.5150 - accuracy: 1.0000\n",
            "Epoch 145/1000\n",
            "4/4 [==============================] - 0s 13ms/step - loss: 993.5775 - accuracy: 0.5000\n",
            "Epoch 146/1000\n",
            "4/4 [==============================] - 0s 13ms/step - loss: 860.9291 - accuracy: 0.5000\n",
            "Epoch 147/1000\n",
            "4/4 [==============================] - 0s 13ms/step - loss: 730.0075 - accuracy: 0.5000\n",
            "Epoch 148/1000\n",
            "4/4 [==============================] - 0s 13ms/step - loss: 653.0511 - accuracy: 0.5000\n",
            "Epoch 149/1000\n",
            "4/4 [==============================] - 0s 14ms/step - loss: 700.6371 - accuracy: 0.5000\n",
            "Epoch 150/1000\n",
            "4/4 [==============================] - 0s 13ms/step - loss: 973.6192 - accuracy: 0.5000\n",
            "Epoch 151/1000\n",
            "4/4 [==============================] - 0s 13ms/step - loss: 1303.2611 - accuracy: 0.5000\n",
            "Epoch 152/1000\n",
            "4/4 [==============================] - 0s 14ms/step - loss: 1611.9967 - accuracy: 0.5000\n",
            "Epoch 153/1000\n",
            "4/4 [==============================] - 0s 13ms/step - loss: 1875.5237 - accuracy: 0.5000\n",
            "Epoch 154/1000\n",
            "4/4 [==============================] - 0s 13ms/step - loss: 2067.5845 - accuracy: 0.5000\n",
            "Epoch 155/1000\n",
            "4/4 [==============================] - 0s 13ms/step - loss: 2150.4851 - accuracy: 0.5000\n",
            "Epoch 156/1000\n",
            "4/4 [==============================] - 0s 13ms/step - loss: 2102.2842 - accuracy: 0.5000\n",
            "Epoch 157/1000\n",
            "4/4 [==============================] - 0s 14ms/step - loss: 1952.6141 - accuracy: 0.0000e+00\n",
            "Epoch 158/1000\n",
            "4/4 [==============================] - 0s 13ms/step - loss: 1826.5831 - accuracy: 0.0000e+00\n",
            "Epoch 159/1000\n",
            "4/4 [==============================] - 0s 13ms/step - loss: 2045.0327 - accuracy: 0.5000\n",
            "Epoch 160/1000\n",
            "4/4 [==============================] - 0s 13ms/step - loss: 2633.2568 - accuracy: 0.5000\n"
          ],
          "name": "stdout"
        },
        {
          "output_type": "display_data",
          "data": {
            "image/png": "[encoded data removed]",
            "text/plain": [
              "<Figure size 432x288 with 1 Axes>"
            ]
          },
          "metadata": {
            "tags": [],
            "needs_background": "light"
          }
        }
      ]
    },
    {
      "cell_type": "code",
      "metadata": {
        "id": "p7Jf6hCVsR_T",
        "colab_type": "code",
        "colab": {
          "base_uri": "https://localhost:8080/",
          "height": 424
        },
        "outputId": "6f443172-209a-446f-90cc-118d5341211b"
      },
      "source": [
        "history = model.fit_generator(train_generator_192, \n",
        "                              validation_data=valid_generator_192,\n",
        "                              steps_per_epoch=500, \n",
        "                              validation_steps=50, \n",
        "                              epochs = 100,\n",
        "                              verbose=1,\n",
        "                              callbacks = [keras.callbacks.EarlyStopping(monitor='val_loss',mode='min',patience=10,verbose=1,restore_best_weights = True),keras.callbacks.ModelCheckpoint('/content/drive/My Drive/Files-Covid/.mdl_wts.hdf5', save_best_only=True, monitor='val_loss', mode='min')])\n",
        "\n",
        "model.save(\"/content/drive/My Drive/Files-Covid/model48.h5\")"
      ],
      "execution_count": null,
      "outputs": [
        {
          "output_type": "stream",
          "text": [
            "Epoch 1/100\n",
            " 30/500 [>.............................] - ETA: 39s - loss: 6.2009 - accuracy: 0.5708"
          ],
          "name": "stdout"
        },
        {
          "output_type": "error",
          "ename": "KeyboardInterrupt",
          "evalue": "ignored",
          "traceback": [
            "\u001b[0;31m---------------------------------------------------------------------------\u001b[0m",
            "\u001b[0;31mKeyboardInterrupt\u001b[0m                         Traceback (most recent call last)",
            "\u001b[0;32m<ipython-input-70-913839a1f50c>\u001b[0m in \u001b[0;36m<module>\u001b[0;34m()\u001b[0m\n\u001b[1;32m      5\u001b[0m                               \u001b[0mepochs\u001b[0m \u001b[0;34m=\u001b[0m \u001b[0;36m100\u001b[0m\u001b[0;34m,\u001b[0m\u001b[0;34m\u001b[0m\u001b[0;34m\u001b[0m\u001b[0m\n\u001b[1;32m      6\u001b[0m                               \u001b[0mverbose\u001b[0m\u001b[0;34m=\u001b[0m\u001b[0;36m1\u001b[0m\u001b[0;34m,\u001b[0m\u001b[0;34m\u001b[0m\u001b[0;34m\u001b[0m\u001b[0m\n\u001b[0;32m----> 7\u001b[0;31m                               callbacks = [keras.callbacks.EarlyStopping(monitor='val_loss',mode='min',patience=10,verbose=1,restore_best_weights = True),keras.callbacks.ModelCheckpoint('/content/drive/My Drive/Files-Covid/.mdl_wts.hdf5', save_best_only=True, monitor='val_loss', mode='min')])\n\u001b[0m\u001b[1;32m      8\u001b[0m \u001b[0;34m\u001b[0m\u001b[0m\n\u001b[1;32m      9\u001b[0m \u001b[0mmodel\u001b[0m\u001b[0;34m.\u001b[0m\u001b[0msave\u001b[0m\u001b[0;34m(\u001b[0m\u001b[0;34m\"/content/drive/My Drive/Files-Covid/model48.h5\"\u001b[0m\u001b[0;34m)\u001b[0m\u001b[0;34m\u001b[0m\u001b[0;34m\u001b[0m\u001b[0m\n",
            "\u001b[0;32m/usr/local/lib/python3.6/dist-packages/keras/legacy/interfaces.py\u001b[0m in \u001b[0;36mwrapper\u001b[0;34m(*args, **kwargs)\u001b[0m\n\u001b[1;32m     89\u001b[0m                 warnings.warn('Update your `' + object_name + '` call to the ' +\n\u001b[1;32m     90\u001b[0m                               'Keras 2 API: ' + signature, stacklevel=2)\n\u001b[0;32m---> 91\u001b[0;31m             \u001b[0;32mreturn\u001b[0m \u001b[0mfunc\u001b[0m\u001b[0;34m(\u001b[0m\u001b[0;34m*\u001b[0m\u001b[0margs\u001b[0m\u001b[0;34m,\u001b[0m \u001b[0;34m**\u001b[0m\u001b[0mkwargs\u001b[0m\u001b[0;34m)\u001b[0m\u001b[0;34m\u001b[0m\u001b[0;34m\u001b[0m\u001b[0m\n\u001b[0m\u001b[1;32m     92\u001b[0m         \u001b[0mwrapper\u001b[0m\u001b[0;34m.\u001b[0m\u001b[0m_original_function\u001b[0m \u001b[0;34m=\u001b[0m \u001b[0mfunc\u001b[0m\u001b[0;34m\u001b[0m\u001b[0;34m\u001b[0m\u001b[0m\n\u001b[1;32m     93\u001b[0m         \u001b[0;32mreturn\u001b[0m \u001b[0mwrapper\u001b[0m\u001b[0;34m\u001b[0m\u001b[0;34m\u001b[0m\u001b[0m\n",
            "\u001b[0;32m/usr/local/lib/python3.6/dist-packages/keras/engine/training.py\u001b[0m in \u001b[0;36mfit_generator\u001b[0;34m(self, generator, steps_per_epoch, epochs, verbose, callbacks, validation_data, validation_steps, validation_freq, class_weight, max_queue_size, workers, use_multiprocessing, shuffle, initial_epoch)\u001b[0m\n\u001b[1;32m   1730\u001b[0m             \u001b[0muse_multiprocessing\u001b[0m\u001b[0;34m=\u001b[0m\u001b[0muse_multiprocessing\u001b[0m\u001b[0;34m,\u001b[0m\u001b[0;34m\u001b[0m\u001b[0;34m\u001b[0m\u001b[0m\n\u001b[1;32m   1731\u001b[0m             \u001b[0mshuffle\u001b[0m\u001b[0;34m=\u001b[0m\u001b[0mshuffle\u001b[0m\u001b[0;34m,\u001b[0m\u001b[0;34m\u001b[0m\u001b[0;34m\u001b[0m\u001b[0m\n\u001b[0;32m-> 1732\u001b[0;31m             initial_epoch=initial_epoch)\n\u001b[0m\u001b[1;32m   1733\u001b[0m \u001b[0;34m\u001b[0m\u001b[0m\n\u001b[1;32m   1734\u001b[0m     \u001b[0;34m@\u001b[0m\u001b[0minterfaces\u001b[0m\u001b[0;34m.\u001b[0m\u001b[0mlegacy_generator_methods_support\u001b[0m\u001b[0;34m\u001b[0m\u001b[0;34m\u001b[0m\u001b[0m\n",
            "\u001b[0;32m/usr/local/lib/python3.6/dist-packages/keras/engine/training_generator.py\u001b[0m in \u001b[0;36mfit_generator\u001b[0;34m(model, generator, steps_per_epoch, epochs, verbose, callbacks, validation_data, validation_steps, validation_freq, class_weight, max_queue_size, workers, use_multiprocessing, shuffle, initial_epoch)\u001b[0m\n\u001b[1;32m    218\u001b[0m                                             \u001b[0msample_weight\u001b[0m\u001b[0;34m=\u001b[0m\u001b[0msample_weight\u001b[0m\u001b[0;34m,\u001b[0m\u001b[0;34m\u001b[0m\u001b[0;34m\u001b[0m\u001b[0m\n\u001b[1;32m    219\u001b[0m                                             \u001b[0mclass_weight\u001b[0m\u001b[0;34m=\u001b[0m\u001b[0mclass_weight\u001b[0m\u001b[0;34m,\u001b[0m\u001b[0;34m\u001b[0m\u001b[0;34m\u001b[0m\u001b[0m\n\u001b[0;32m--> 220\u001b[0;31m                                             reset_metrics=False)\n\u001b[0m\u001b[1;32m    221\u001b[0m \u001b[0;34m\u001b[0m\u001b[0m\n\u001b[1;32m    222\u001b[0m                 \u001b[0mouts\u001b[0m \u001b[0;34m=\u001b[0m \u001b[0mto_list\u001b[0m\u001b[0;34m(\u001b[0m\u001b[0mouts\u001b[0m\u001b[0;34m)\u001b[0m\u001b[0;34m\u001b[0m\u001b[0;34m\u001b[0m\u001b[0m\n",
            "\u001b[0;32m/usr/local/lib/python3.6/dist-packages/keras/engine/training.py\u001b[0m in \u001b[0;36mtrain_on_batch\u001b[0;34m(self, x, y, sample_weight, class_weight, reset_metrics)\u001b[0m\n\u001b[1;32m   1512\u001b[0m             \u001b[0mins\u001b[0m \u001b[0;34m=\u001b[0m \u001b[0mx\u001b[0m \u001b[0;34m+\u001b[0m \u001b[0my\u001b[0m \u001b[0;34m+\u001b[0m \u001b[0msample_weights\u001b[0m\u001b[0;34m\u001b[0m\u001b[0;34m\u001b[0m\u001b[0m\n\u001b[1;32m   1513\u001b[0m         \u001b[0mself\u001b[0m\u001b[0;34m.\u001b[0m\u001b[0m_make_train_function\u001b[0m\u001b[0;34m(\u001b[0m\u001b[0;34m)\u001b[0m\u001b[0;34m\u001b[0m\u001b[0;34m\u001b[0m\u001b[0m\n\u001b[0;32m-> 1514\u001b[0;31m         \u001b[0moutputs\u001b[0m \u001b[0;34m=\u001b[0m \u001b[0mself\u001b[0m\u001b[0;34m.\u001b[0m\u001b[0mtrain_function\u001b[0m\u001b[0;34m(\u001b[0m\u001b[0mins\u001b[0m\u001b[0;34m)\u001b[0m\u001b[0;34m\u001b[0m\u001b[0;34m\u001b[0m\u001b[0m\n\u001b[0m\u001b[1;32m   1515\u001b[0m \u001b[0;34m\u001b[0m\u001b[0m\n\u001b[1;32m   1516\u001b[0m         \u001b[0;32mif\u001b[0m \u001b[0mreset_metrics\u001b[0m\u001b[0;34m:\u001b[0m\u001b[0;34m\u001b[0m\u001b[0;34m\u001b[0m\u001b[0m\n",
            "\u001b[0;32m/usr/local/lib/python3.6/dist-packages/tensorflow/python/keras/backend.py\u001b[0m in \u001b[0;36m__call__\u001b[0;34m(self, inputs)\u001b[0m\n\u001b[1;32m   3790\u001b[0m         \u001b[0mvalue\u001b[0m \u001b[0;34m=\u001b[0m \u001b[0mmath_ops\u001b[0m\u001b[0;34m.\u001b[0m\u001b[0mcast\u001b[0m\u001b[0;34m(\u001b[0m\u001b[0mvalue\u001b[0m\u001b[0;34m,\u001b[0m \u001b[0mtensor\u001b[0m\u001b[0;34m.\u001b[0m\u001b[0mdtype\u001b[0m\u001b[0;34m)\u001b[0m\u001b[0;34m\u001b[0m\u001b[0;34m\u001b[0m\u001b[0m\n\u001b[1;32m   3791\u001b[0m       \u001b[0mconverted_inputs\u001b[0m\u001b[0;34m.\u001b[0m\u001b[0mappend\u001b[0m\u001b[0;34m(\u001b[0m\u001b[0mvalue\u001b[0m\u001b[0;34m)\u001b[0m\u001b[0;34m\u001b[0m\u001b[0;34m\u001b[0m\u001b[0m\n\u001b[0;32m-> 3792\u001b[0;31m     \u001b[0moutputs\u001b[0m \u001b[0;34m=\u001b[0m \u001b[0mself\u001b[0m\u001b[0;34m.\u001b[0m\u001b[0m_graph_fn\u001b[0m\u001b[0;34m(\u001b[0m\u001b[0;34m*\u001b[0m\u001b[0mconverted_inputs\u001b[0m\u001b[0;34m)\u001b[0m\u001b[0;34m\u001b[0m\u001b[0;34m\u001b[0m\u001b[0m\n\u001b[0m\u001b[1;32m   3793\u001b[0m \u001b[0;34m\u001b[0m\u001b[0m\n\u001b[1;32m   3794\u001b[0m     \u001b[0;31m# EagerTensor.numpy() will often make a copy to ensure memory safety.\u001b[0m\u001b[0;34m\u001b[0m\u001b[0;34m\u001b[0m\u001b[0;34m\u001b[0m\u001b[0m\n",
            "\u001b[0;32m/usr/local/lib/python3.6/dist-packages/tensorflow/python/eager/function.py\u001b[0m in \u001b[0;36m__call__\u001b[0;34m(self, *args, **kwargs)\u001b[0m\n\u001b[1;32m   1603\u001b[0m       \u001b[0mTypeError\u001b[0m\u001b[0;34m:\u001b[0m \u001b[0mFor\u001b[0m \u001b[0minvalid\u001b[0m \u001b[0mpositional\u001b[0m\u001b[0;34m/\u001b[0m\u001b[0mkeyword\u001b[0m \u001b[0margument\u001b[0m \u001b[0mcombinations\u001b[0m\u001b[0;34m.\u001b[0m\u001b[0;34m\u001b[0m\u001b[0;34m\u001b[0m\u001b[0m\n\u001b[1;32m   1604\u001b[0m     \"\"\"\n\u001b[0;32m-> 1605\u001b[0;31m     \u001b[0;32mreturn\u001b[0m \u001b[0mself\u001b[0m\u001b[0;34m.\u001b[0m\u001b[0m_call_impl\u001b[0m\u001b[0;34m(\u001b[0m\u001b[0margs\u001b[0m\u001b[0;34m,\u001b[0m \u001b[0mkwargs\u001b[0m\u001b[0;34m)\u001b[0m\u001b[0;34m\u001b[0m\u001b[0;34m\u001b[0m\u001b[0m\n\u001b[0m\u001b[1;32m   1606\u001b[0m \u001b[0;34m\u001b[0m\u001b[0m\n\u001b[1;32m   1607\u001b[0m   \u001b[0;32mdef\u001b[0m \u001b[0m_call_impl\u001b[0m\u001b[0;34m(\u001b[0m\u001b[0mself\u001b[0m\u001b[0;34m,\u001b[0m \u001b[0margs\u001b[0m\u001b[0;34m,\u001b[0m \u001b[0mkwargs\u001b[0m\u001b[0;34m,\u001b[0m \u001b[0mcancellation_manager\u001b[0m\u001b[0;34m=\u001b[0m\u001b[0;32mNone\u001b[0m\u001b[0;34m)\u001b[0m\u001b[0;34m:\u001b[0m\u001b[0;34m\u001b[0m\u001b[0;34m\u001b[0m\u001b[0m\n",
            "\u001b[0;32m/usr/local/lib/python3.6/dist-packages/tensorflow/python/eager/function.py\u001b[0m in \u001b[0;36m_call_impl\u001b[0;34m(self, args, kwargs, cancellation_manager)\u001b[0m\n\u001b[1;32m   1643\u001b[0m       raise TypeError(\"Keyword arguments {} unknown. Expected {}.\".format(\n\u001b[1;32m   1644\u001b[0m           list(kwargs.keys()), list(self._arg_keywords)))\n\u001b[0;32m-> 1645\u001b[0;31m     \u001b[0;32mreturn\u001b[0m \u001b[0mself\u001b[0m\u001b[0;34m.\u001b[0m\u001b[0m_call_flat\u001b[0m\u001b[0;34m(\u001b[0m\u001b[0margs\u001b[0m\u001b[0;34m,\u001b[0m \u001b[0mself\u001b[0m\u001b[0;34m.\u001b[0m\u001b[0mcaptured_inputs\u001b[0m\u001b[0;34m,\u001b[0m \u001b[0mcancellation_manager\u001b[0m\u001b[0;34m)\u001b[0m\u001b[0;34m\u001b[0m\u001b[0;34m\u001b[0m\u001b[0m\n\u001b[0m\u001b[1;32m   1646\u001b[0m \u001b[0;34m\u001b[0m\u001b[0m\n\u001b[1;32m   1647\u001b[0m   \u001b[0;32mdef\u001b[0m \u001b[0m_filtered_call\u001b[0m\u001b[0;34m(\u001b[0m\u001b[0mself\u001b[0m\u001b[0;34m,\u001b[0m \u001b[0margs\u001b[0m\u001b[0;34m,\u001b[0m \u001b[0mkwargs\u001b[0m\u001b[0;34m)\u001b[0m\u001b[0;34m:\u001b[0m\u001b[0;34m\u001b[0m\u001b[0;34m\u001b[0m\u001b[0m\n",
            "\u001b[0;32m/usr/local/lib/python3.6/dist-packages/tensorflow/python/eager/function.py\u001b[0m in \u001b[0;36m_call_flat\u001b[0;34m(self, args, captured_inputs, cancellation_manager)\u001b[0m\n\u001b[1;32m   1744\u001b[0m       \u001b[0;31m# No tape is watching; skip to running the function.\u001b[0m\u001b[0;34m\u001b[0m\u001b[0;34m\u001b[0m\u001b[0;34m\u001b[0m\u001b[0m\n\u001b[1;32m   1745\u001b[0m       return self._build_call_outputs(self._inference_function.call(\n\u001b[0;32m-> 1746\u001b[0;31m           ctx, args, cancellation_manager=cancellation_manager))\n\u001b[0m\u001b[1;32m   1747\u001b[0m     forward_backward = self._select_forward_and_backward_functions(\n\u001b[1;32m   1748\u001b[0m         \u001b[0margs\u001b[0m\u001b[0;34m,\u001b[0m\u001b[0;34m\u001b[0m\u001b[0;34m\u001b[0m\u001b[0m\n",
            "\u001b[0;32m/usr/local/lib/python3.6/dist-packages/tensorflow/python/eager/function.py\u001b[0m in \u001b[0;36mcall\u001b[0;34m(self, ctx, args, cancellation_manager)\u001b[0m\n\u001b[1;32m    596\u001b[0m               \u001b[0minputs\u001b[0m\u001b[0;34m=\u001b[0m\u001b[0margs\u001b[0m\u001b[0;34m,\u001b[0m\u001b[0;34m\u001b[0m\u001b[0;34m\u001b[0m\u001b[0m\n\u001b[1;32m    597\u001b[0m               \u001b[0mattrs\u001b[0m\u001b[0;34m=\u001b[0m\u001b[0mattrs\u001b[0m\u001b[0;34m,\u001b[0m\u001b[0;34m\u001b[0m\u001b[0;34m\u001b[0m\u001b[0m\n\u001b[0;32m--> 598\u001b[0;31m               ctx=ctx)\n\u001b[0m\u001b[1;32m    599\u001b[0m         \u001b[0;32melse\u001b[0m\u001b[0;34m:\u001b[0m\u001b[0;34m\u001b[0m\u001b[0;34m\u001b[0m\u001b[0m\n\u001b[1;32m    600\u001b[0m           outputs = execute.execute_with_cancellation(\n",
            "\u001b[0;32m/usr/local/lib/python3.6/dist-packages/tensorflow/python/eager/execute.py\u001b[0m in \u001b[0;36mquick_execute\u001b[0;34m(op_name, num_outputs, inputs, attrs, ctx, name)\u001b[0m\n\u001b[1;32m     58\u001b[0m     \u001b[0mctx\u001b[0m\u001b[0;34m.\u001b[0m\u001b[0mensure_initialized\u001b[0m\u001b[0;34m(\u001b[0m\u001b[0;34m)\u001b[0m\u001b[0;34m\u001b[0m\u001b[0;34m\u001b[0m\u001b[0m\n\u001b[1;32m     59\u001b[0m     tensors = pywrap_tfe.TFE_Py_Execute(ctx._handle, device_name, op_name,\n\u001b[0;32m---> 60\u001b[0;31m                                         inputs, attrs, num_outputs)\n\u001b[0m\u001b[1;32m     61\u001b[0m   \u001b[0;32mexcept\u001b[0m \u001b[0mcore\u001b[0m\u001b[0;34m.\u001b[0m\u001b[0m_NotOkStatusException\u001b[0m \u001b[0;32mas\u001b[0m \u001b[0me\u001b[0m\u001b[0;34m:\u001b[0m\u001b[0;34m\u001b[0m\u001b[0;34m\u001b[0m\u001b[0m\n\u001b[1;32m     62\u001b[0m     \u001b[0;32mif\u001b[0m \u001b[0mname\u001b[0m \u001b[0;32mis\u001b[0m \u001b[0;32mnot\u001b[0m \u001b[0;32mNone\u001b[0m\u001b[0;34m:\u001b[0m\u001b[0;34m\u001b[0m\u001b[0;34m\u001b[0m\u001b[0m\n",
            "\u001b[0;31mKeyboardInterrupt\u001b[0m: "
          ]
        }
      ]
    },
    {
      "cell_type": "code",
      "metadata": {
        "id": "G3znk95H7TDn",
        "colab_type": "code",
        "colab": {
          "base_uri": "https://localhost:8080/",
          "height": 295
        },
        "outputId": "b92888b5-c37f-4e5f-ad88-9a23420fff06"
      },
      "source": [
        "plt.plot(history.history['loss'])\n",
        "plt.plot(history.history['val_loss'])\n",
        "plt.ylabel(\"loss\")\n",
        "plt.xlabel(\"epoch\")\n",
        "plt.title(\"Training- Val accuracy Curve\")\n",
        "plt.legend(['train', 'validation'], loc='upper left')\n",
        "plt.show()"
      ],
      "execution_count": null,
      "outputs": [
        {
          "output_type": "display_data",
          "data": {
            "image/png": "[encoded data removed]",
            "text/plain": [
              "<Figure size 432x288 with 1 Axes>"
            ]
          },
          "metadata": {
            "tags": [],
            "needs_background": "light"
          }
        }
      ]
    },
    {
      "cell_type": "code",
      "metadata": {
        "id": "AxBvxOLqc9nZ",
        "colab_type": "code",
        "colab": {
          "base_uri": "https://localhost:8080/",
          "height": 1000
        },
        "outputId": "bf8dd68f-48b3-4861-d477-0bc74f355081"
      },
      "source": [
        "model = keras.Sequential()\n",
        "model.add(keras.layers.Conv2D(64,kernel_size=(3,3),input_shape = (96,96,3),padding='same',activation='relu'))\n",
        "model.add(keras.layers.Conv2D(64,kernel_size=(3,3),input_shape=(96,96,3),padding='same',activation='relu'))\n",
        "model.add(keras.layers.Conv2D(64,kernel_size=(3,3),input_shape=(96,96,3),padding='same',activation='relu'))\n",
        "model.add(keras.layers.BatchNormalization())\n",
        "model.add(keras.layers.MaxPooling2D(pool_size=(2,2)))\n",
        "print(\"first model\")\n",
        "model.summary()\n",
        "prior = keras.models.load_model(\"/content/drive/My Drive/Files-Covid/model48.h5\", custom_objects={'weighted_loss': get_weighted_loss(pos_weights,neg_weights,epsilon=1e-07)})\n",
        "\n",
        "\n",
        "for layer in prior.layers[0].layers[2:]:\n",
        "    model.add(layer)\n",
        "print(\"second step\")\n",
        "model.summary()\n",
        "# re-add the feedforward layers on top\n",
        "for layer in prior.layers[1:]:\n",
        "    model.add(layer)\n",
        "print(\"third step\")\n",
        "model.summary()\n",
        "# the pretrained CNN layers are already marked non-trainable\n",
        "# mark off the top layers as well\n",
        "for layer in prior.layers[-16:]:\n",
        "    layer.trainable = False\n",
        "print(\"fourth step\")\n",
        "model.summary()\n",
        "model.compile(optimizer=keras.optimizers.Adam(), loss=get_weighted_loss(pos_weights, neg_weights),metrics=['accuracy'])\n",
        "# clr = CyclicLR(base_lr=0.01, max_lr=0.06,\n",
        "#                     step_size=2000., mode='triangular2')\n",
        "\n"
      ],
      "execution_count": null,
      "outputs": [
        {
          "output_type": "stream",
          "text": [
            "first model\n",
            "Model: \"sequential_9\"\n",
            "_________________________________________________________________\n",
            "Layer (type)                 Output Shape              Param #   \n",
            "=================================================================\n",
            "conv2d_14 (Conv2D)           (None, 96, 96, 64)        1792      \n",
            "_________________________________________________________________\n",
            "conv2d_15 (Conv2D)           (None, 96, 96, 64)        36928     \n",
            "_________________________________________________________________\n",
            "conv2d_16 (Conv2D)           (None, 96, 96, 64)        36928     \n",
            "_________________________________________________________________\n",
            "batch_normalization_7 (Batch (None, 96, 96, 64)        256       \n",
            "_________________________________________________________________\n",
            "max_pooling2d_7 (MaxPooling2 (None, 48, 48, 64)        0         \n",
            "=================================================================\n",
            "Total params: 75,904\n",
            "Trainable params: 75,776\n",
            "Non-trainable params: 128\n",
            "_________________________________________________________________\n",
            "second step\n",
            "Model: \"sequential_9\"\n",
            "_________________________________________________________________\n",
            "Layer (type)                 Output Shape              Param #   \n",
            "=================================================================\n",
            "conv2d_14 (Conv2D)           (None, 96, 96, 64)        1792      \n",
            "_________________________________________________________________\n",
            "conv2d_15 (Conv2D)           (None, 96, 96, 64)        36928     \n",
            "_________________________________________________________________\n",
            "conv2d_16 (Conv2D)           (None, 96, 96, 64)        36928     \n",
            "_________________________________________________________________\n",
            "batch_normalization_7 (Batch (None, 96, 96, 64)        256       \n",
            "_________________________________________________________________\n",
            "max_pooling2d_7 (MaxPooling2 (None, 48, 48, 64)        0         \n",
            "_________________________________________________________________\n",
            "block1_conv2 (Conv2D)        (None, 48, 48, 64)        36928     \n",
            "_________________________________________________________________\n",
            "block1_pool (MaxPooling2D)   (None, 24, 24, 64)        0         \n",
            "_________________________________________________________________\n",
            "block2_conv1 (Conv2D)        (None, 24, 24, 128)       73856     \n",
            "_________________________________________________________________\n",
            "block2_conv2 (Conv2D)        (None, 24, 24, 128)       147584    \n",
            "_________________________________________________________________\n",
            "block2_pool (MaxPooling2D)   (None, 12, 12, 128)       0         \n",
            "_________________________________________________________________\n",
            "block3_conv1 (Conv2D)        (None, 12, 12, 256)       295168    \n",
            "_________________________________________________________________\n",
            "block3_conv2 (Conv2D)        (None, 12, 12, 256)       590080    \n",
            "_________________________________________________________________\n",
            "block3_conv3 (Conv2D)        (None, 12, 12, 256)       590080    \n",
            "_________________________________________________________________\n",
            "block3_conv4 (Conv2D)        (None, 12, 12, 256)       590080    \n",
            "_________________________________________________________________\n",
            "block3_pool (MaxPooling2D)   (None, 6, 6, 256)         0         \n",
            "_________________________________________________________________\n",
            "block4_conv1 (Conv2D)        (None, 6, 6, 512)         1180160   \n",
            "_________________________________________________________________\n",
            "block4_conv2 (Conv2D)        (None, 6, 6, 512)         2359808   \n",
            "_________________________________________________________________\n",
            "block4_conv3 (Conv2D)        (None, 6, 6, 512)         2359808   \n",
            "_________________________________________________________________\n",
            "block4_conv4 (Conv2D)        (None, 6, 6, 512)         2359808   \n",
            "_________________________________________________________________\n",
            "block4_pool (MaxPooling2D)   (None, 3, 3, 512)         0         \n",
            "_________________________________________________________________\n",
            "block5_conv1 (Conv2D)        (None, 3, 3, 512)         2359808   \n",
            "_________________________________________________________________\n",
            "block5_conv2 (Conv2D)        (None, 3, 3, 512)         2359808   \n",
            "_________________________________________________________________\n",
            "block5_conv3 (Conv2D)        (None, 3, 3, 512)         2359808   \n",
            "_________________________________________________________________\n",
            "block5_conv4 (Conv2D)        (None, 3, 3, 512)         2359808   \n",
            "_________________________________________________________________\n",
            "block5_pool (MaxPooling2D)   (None, 1, 1, 512)         0         \n",
            "=================================================================\n",
            "Total params: 20,098,496\n",
            "Trainable params: 75,776\n",
            "Non-trainable params: 20,022,720\n",
            "_________________________________________________________________\n",
            "third step\n",
            "Model: \"sequential_9\"\n",
            "_________________________________________________________________\n",
            "Layer (type)                 Output Shape              Param #   \n",
            "=================================================================\n",
            "conv2d_14 (Conv2D)           (None, 96, 96, 64)        1792      \n",
            "_________________________________________________________________\n",
            "conv2d_15 (Conv2D)           (None, 96, 96, 64)        36928     \n",
            "_________________________________________________________________\n",
            "conv2d_16 (Conv2D)           (None, 96, 96, 64)        36928     \n",
            "_________________________________________________________________\n",
            "batch_normalization_7 (Batch (None, 96, 96, 64)        256       \n",
            "_________________________________________________________________\n",
            "max_pooling2d_7 (MaxPooling2 (None, 48, 48, 64)        0         \n",
            "_________________________________________________________________\n",
            "block1_conv2 (Conv2D)        (None, 48, 48, 64)        36928     \n",
            "_________________________________________________________________\n",
            "block1_pool (MaxPooling2D)   (None, 24, 24, 64)        0         \n",
            "_________________________________________________________________\n",
            "block2_conv1 (Conv2D)        (None, 24, 24, 128)       73856     \n",
            "_________________________________________________________________\n",
            "block2_conv2 (Conv2D)        (None, 24, 24, 128)       147584    \n",
            "_________________________________________________________________\n",
            "block2_pool (MaxPooling2D)   (None, 12, 12, 128)       0         \n",
            "_________________________________________________________________\n",
            "block3_conv1 (Conv2D)        (None, 12, 12, 256)       295168    \n",
            "_________________________________________________________________\n",
            "block3_conv2 (Conv2D)        (None, 12, 12, 256)       590080    \n",
            "_________________________________________________________________\n",
            "block3_conv3 (Conv2D)        (None, 12, 12, 256)       590080    \n",
            "_________________________________________________________________\n",
            "block3_conv4 (Conv2D)        (None, 12, 12, 256)       590080    \n",
            "_________________________________________________________________\n",
            "block3_pool (MaxPooling2D)   (None, 6, 6, 256)         0         \n",
            "_________________________________________________________________\n",
            "block4_conv1 (Conv2D)        (None, 6, 6, 512)         1180160   \n",
            "_________________________________________________________________\n",
            "block4_conv2 (Conv2D)        (None, 6, 6, 512)         2359808   \n",
            "_________________________________________________________________\n",
            "block4_conv3 (Conv2D)        (None, 6, 6, 512)         2359808   \n",
            "_________________________________________________________________\n",
            "block4_conv4 (Conv2D)        (None, 6, 6, 512)         2359808   \n",
            "_________________________________________________________________\n",
            "block4_pool (MaxPooling2D)   (None, 3, 3, 512)         0         \n",
            "_________________________________________________________________\n",
            "block5_conv1 (Conv2D)        (None, 3, 3, 512)         2359808   \n",
            "_________________________________________________________________\n",
            "block5_conv2 (Conv2D)        (None, 3, 3, 512)         2359808   \n",
            "_________________________________________________________________\n",
            "block5_conv3 (Conv2D)        (None, 3, 3, 512)         2359808   \n",
            "_________________________________________________________________\n",
            "block5_conv4 (Conv2D)        (None, 3, 3, 512)         2359808   \n",
            "_________________________________________________________________\n",
            "block5_pool (MaxPooling2D)   (None, 1, 1, 512)         0         \n",
            "_________________________________________________________________\n",
            "global_average_pooling2d_2 ( (None, 512)               0         \n",
            "_________________________________________________________________\n",
            "dense_5 (Dense)              (None, 1024)              525312    \n",
            "_________________________________________________________________\n",
            "dropout_2 (Dropout)          (None, 1024)              0         \n",
            "_________________________________________________________________\n",
            "dense_6 (Dense)              (None, 512)               524800    \n",
            "_________________________________________________________________\n",
            "dense_7 (Dense)              (None, 256)               131328    \n",
            "_________________________________________________________________\n",
            "dense_8 (Dense)              (None, 1)                 257       \n",
            "=================================================================\n",
            "Total params: 21,280,193\n",
            "Trainable params: 1,257,473\n",
            "Non-trainable params: 20,022,720\n",
            "_________________________________________________________________\n",
            "fourth step\n",
            "Model: \"sequential_9\"\n",
            "_________________________________________________________________\n",
            "Layer (type)                 Output Shape              Param #   \n",
            "=================================================================\n",
            "conv2d_14 (Conv2D)           (None, 96, 96, 64)        1792      \n",
            "_________________________________________________________________\n",
            "conv2d_15 (Conv2D)           (None, 96, 96, 64)        36928     \n",
            "_________________________________________________________________\n",
            "conv2d_16 (Conv2D)           (None, 96, 96, 64)        36928     \n",
            "_________________________________________________________________\n",
            "batch_normalization_7 (Batch (None, 96, 96, 64)        256       \n",
            "_________________________________________________________________\n",
            "max_pooling2d_7 (MaxPooling2 (None, 48, 48, 64)        0         \n",
            "_________________________________________________________________\n",
            "block1_conv2 (Conv2D)        (None, 48, 48, 64)        36928     \n",
            "_________________________________________________________________\n",
            "block1_pool (MaxPooling2D)   (None, 24, 24, 64)        0         \n",
            "_________________________________________________________________\n",
            "block2_conv1 (Conv2D)        (None, 24, 24, 128)       73856     \n",
            "_________________________________________________________________\n",
            "block2_conv2 (Conv2D)        (None, 24, 24, 128)       147584    \n",
            "_________________________________________________________________\n",
            "block2_pool (MaxPooling2D)   (None, 12, 12, 128)       0         \n",
            "_________________________________________________________________\n",
            "block3_conv1 (Conv2D)        (None, 12, 12, 256)       295168    \n",
            "_________________________________________________________________\n",
            "block3_conv2 (Conv2D)        (None, 12, 12, 256)       590080    \n",
            "_________________________________________________________________\n",
            "block3_conv3 (Conv2D)        (None, 12, 12, 256)       590080    \n",
            "_________________________________________________________________\n",
            "block3_conv4 (Conv2D)        (None, 12, 12, 256)       590080    \n",
            "_________________________________________________________________\n",
            "block3_pool (MaxPooling2D)   (None, 6, 6, 256)         0         \n",
            "_________________________________________________________________\n",
            "block4_conv1 (Conv2D)        (None, 6, 6, 512)         1180160   \n",
            "_________________________________________________________________\n",
            "block4_conv2 (Conv2D)        (None, 6, 6, 512)         2359808   \n",
            "_________________________________________________________________\n",
            "block4_conv3 (Conv2D)        (None, 6, 6, 512)         2359808   \n",
            "_________________________________________________________________\n",
            "block4_conv4 (Conv2D)        (None, 6, 6, 512)         2359808   \n",
            "_________________________________________________________________\n",
            "block4_pool (MaxPooling2D)   (None, 3, 3, 512)         0         \n",
            "_________________________________________________________________\n",
            "block5_conv1 (Conv2D)        (None, 3, 3, 512)         2359808   \n",
            "_________________________________________________________________\n",
            "block5_conv2 (Conv2D)        (None, 3, 3, 512)         2359808   \n",
            "_________________________________________________________________\n",
            "block5_conv3 (Conv2D)        (None, 3, 3, 512)         2359808   \n",
            "_________________________________________________________________\n",
            "block5_conv4 (Conv2D)        (None, 3, 3, 512)         2359808   \n",
            "_________________________________________________________________\n",
            "block5_pool (MaxPooling2D)   (None, 1, 1, 512)         0         \n",
            "_________________________________________________________________\n",
            "global_average_pooling2d_2 ( (None, 512)               0         \n",
            "_________________________________________________________________\n",
            "dense_5 (Dense)              (None, 1024)              525312    \n",
            "_________________________________________________________________\n",
            "dropout_2 (Dropout)          (None, 1024)              0         \n",
            "_________________________________________________________________\n",
            "dense_6 (Dense)              (None, 512)               524800    \n",
            "_________________________________________________________________\n",
            "dense_7 (Dense)              (None, 256)               131328    \n",
            "_________________________________________________________________\n",
            "dense_8 (Dense)              (None, 1)                 257       \n",
            "=================================================================\n",
            "Total params: 21,280,193\n",
            "Trainable params: 75,776\n",
            "Non-trainable params: 21,204,417\n",
            "_________________________________________________________________\n"
          ],
          "name": "stdout"
        }
      ]
    },
    {
      "cell_type": "code",
      "metadata": {
        "id": "q50vaxXOXtu8",
        "colab_type": "code",
        "colab": {
          "base_uri": "https://localhost:8080/",
          "height": 1000
        },
        "outputId": "2e7941cb-83d1-4326-8fb1-9e83255e7138"
      },
      "source": [
        "X_batch, y_batch = next(train_generator_96)\n",
        "X_idxs_resampled, _ = RandomUnderSampler().fit_resample(\n",
        "    np.asarray(range(len(X_batch)))[:, np.newaxis], \n",
        "    y_batch\n",
        ")\n",
        "\n",
        "X_batch, y_batch = X_batch[X_idxs_resampled[:, 0]], y_batch[X_idxs_resampled[:, 0]]\n",
        "print(X_batch.shape)\n",
        "lr_finder = LRFinder(model)\n",
        "lr_finder.find(X_batch, y_batch, start_lr=1e-20, end_lr=1e+50, batch_size=16, epochs=1000)\n",
        "lr_finder.plot_loss()"
      ],
      "execution_count": null,
      "outputs": [
        {
          "output_type": "stream",
          "text": [
            "/usr/local/lib/python3.6/dist-packages/sklearn/utils/deprecation.py:87: FutureWarning: Function safe_indexing is deprecated; safe_indexing is deprecated in version 0.22 and will be removed in version 0.24.\n",
            "  warnings.warn(msg, category=FutureWarning)\n"
          ],
          "name": "stderr"
        },
        {
          "output_type": "stream",
          "text": [
            "(6, 96, 96, 3)\n",
            "Epoch 1/1000\n",
            "6/6 [==============================] - 0s 7ms/step - loss: 1.0222 - accuracy: 0.5000\n",
            "Epoch 2/1000\n",
            "6/6 [==============================] - 0s 7ms/step - loss: 2.0224 - accuracy: 0.5000\n",
            "Epoch 3/1000\n",
            "6/6 [==============================] - 0s 6ms/step - loss: 2.6782 - accuracy: 0.3333\n",
            "Epoch 4/1000\n",
            "6/6 [==============================] - 0s 6ms/step - loss: 1.8999 - accuracy: 0.5000\n",
            "Epoch 5/1000\n",
            "6/6 [==============================] - 0s 6ms/step - loss: 1.9489 - accuracy: 0.5000\n",
            "Epoch 6/1000\n",
            "6/6 [==============================] - 0s 7ms/step - loss: 1.9516 - accuracy: 0.5000\n",
            "Epoch 7/1000\n",
            "6/6 [==============================] - 0s 6ms/step - loss: 2.6714 - accuracy: 0.3333\n",
            "Epoch 8/1000\n",
            "6/6 [==============================] - 0s 6ms/step - loss: 1.4132 - accuracy: 0.3333\n",
            "Epoch 9/1000\n",
            "6/6 [==============================] - 0s 6ms/step - loss: 2.4538 - accuracy: 0.3333\n",
            "Epoch 10/1000\n",
            "6/6 [==============================] - 0s 6ms/step - loss: 1.1308 - accuracy: 0.3333\n",
            "Epoch 11/1000\n",
            "6/6 [==============================] - 0s 6ms/step - loss: 2.7929 - accuracy: 0.3333\n",
            "Epoch 12/1000\n",
            "6/6 [==============================] - 0s 6ms/step - loss: 2.3049 - accuracy: 0.3333\n",
            "Epoch 13/1000\n",
            "6/6 [==============================] - 0s 6ms/step - loss: 1.7765 - accuracy: 0.5000\n",
            "Epoch 14/1000\n",
            "6/6 [==============================] - 0s 6ms/step - loss: 1.8628 - accuracy: 0.3333\n",
            "Epoch 15/1000\n",
            "6/6 [==============================] - 0s 6ms/step - loss: 1.5984 - accuracy: 0.6667\n",
            "Epoch 16/1000\n",
            "6/6 [==============================] - 0s 6ms/step - loss: 1.5944 - accuracy: 0.5000\n",
            "Epoch 17/1000\n",
            "6/6 [==============================] - 0s 6ms/step - loss: 1.2974 - accuracy: 0.5000\n",
            "Epoch 18/1000\n",
            "6/6 [==============================] - 0s 6ms/step - loss: 2.1739 - accuracy: 0.5000\n",
            "Epoch 19/1000\n",
            "6/6 [==============================] - 0s 6ms/step - loss: 1.8467 - accuracy: 0.3333\n",
            "Epoch 20/1000\n",
            "6/6 [==============================] - 0s 6ms/step - loss: 1.9830 - accuracy: 0.3333\n",
            "Epoch 21/1000\n",
            "6/6 [==============================] - 0s 6ms/step - loss: 1.8957 - accuracy: 0.5000\n",
            "Epoch 22/1000\n",
            "6/6 [==============================] - 0s 6ms/step - loss: 1.5100 - accuracy: 0.3333\n",
            "Epoch 23/1000\n",
            "6/6 [==============================] - 0s 6ms/step - loss: 1.7526 - accuracy: 0.5000\n",
            "Epoch 24/1000\n",
            "6/6 [==============================] - 0s 6ms/step - loss: 2.2598 - accuracy: 0.5000\n",
            "Epoch 25/1000\n",
            "6/6 [==============================] - 0s 6ms/step - loss: 1.6266 - accuracy: 0.5000\n",
            "Epoch 26/1000\n",
            "6/6 [==============================] - 0s 6ms/step - loss: 2.3960 - accuracy: 0.3333\n",
            "Epoch 27/1000\n",
            "6/6 [==============================] - 0s 6ms/step - loss: 2.3469 - accuracy: 0.1667\n",
            "Epoch 28/1000\n",
            "6/6 [==============================] - 0s 6ms/step - loss: 2.4233 - accuracy: 0.5000\n",
            "Epoch 29/1000\n",
            "6/6 [==============================] - 0s 6ms/step - loss: 0.8205 - accuracy: 0.6667\n",
            "Epoch 30/1000\n",
            "6/6 [==============================] - 0s 7ms/step - loss: 2.3620 - accuracy: 0.5000\n",
            "Epoch 31/1000\n",
            "6/6 [==============================] - 0s 7ms/step - loss: 0.8351 - accuracy: 0.6667\n",
            "Epoch 32/1000\n",
            "6/6 [==============================] - 0s 6ms/step - loss: 1.8503 - accuracy: 0.3333\n",
            "Epoch 33/1000\n",
            "6/6 [==============================] - 0s 6ms/step - loss: 2.4387 - accuracy: 0.3333\n",
            "Epoch 34/1000\n",
            "6/6 [==============================] - 0s 6ms/step - loss: 1.9773 - accuracy: 0.6667\n",
            "Epoch 35/1000\n",
            "6/6 [==============================] - 0s 6ms/step - loss: 2.1581 - accuracy: 0.1667\n",
            "Epoch 36/1000\n",
            "6/6 [==============================] - 0s 6ms/step - loss: 1.5949 - accuracy: 0.5000\n",
            "Epoch 37/1000\n",
            "6/6 [==============================] - 0s 6ms/step - loss: 1.9501 - accuracy: 0.6667\n",
            "Epoch 38/1000\n",
            "6/6 [==============================] - 0s 6ms/step - loss: 2.1018 - accuracy: 0.5000\n",
            "Epoch 39/1000\n",
            "6/6 [==============================] - 0s 6ms/step - loss: 1.5163 - accuracy: 0.5000\n",
            "Epoch 40/1000\n",
            "6/6 [==============================] - 0s 6ms/step - loss: 1.9713 - accuracy: 0.6667\n",
            "Epoch 41/1000\n",
            "6/6 [==============================] - 0s 6ms/step - loss: 1.8182 - accuracy: 0.3333\n",
            "Epoch 42/1000\n",
            "6/6 [==============================] - 0s 6ms/step - loss: 2.0438 - accuracy: 0.5000\n",
            "Epoch 43/1000\n",
            "6/6 [==============================] - 0s 6ms/step - loss: 2.3188 - accuracy: 0.5000\n",
            "Epoch 44/1000\n",
            "6/6 [==============================] - 0s 6ms/step - loss: 0.9117 - accuracy: 0.6667\n",
            "Epoch 45/1000\n",
            "6/6 [==============================] - 0s 6ms/step - loss: 2.2566 - accuracy: 0.3333\n",
            "Epoch 46/1000\n",
            "6/6 [==============================] - 0s 6ms/step - loss: 2.1197 - accuracy: 0.3333\n",
            "Epoch 47/1000\n",
            "6/6 [==============================] - 0s 6ms/step - loss: 1.1978 - accuracy: 0.3333\n",
            "Epoch 48/1000\n",
            "6/6 [==============================] - 0s 6ms/step - loss: 1.6786 - accuracy: 0.6667\n",
            "Epoch 49/1000\n",
            "6/6 [==============================] - 0s 6ms/step - loss: 1.2313 - accuracy: 0.5000\n",
            "Epoch 50/1000\n",
            "6/6 [==============================] - 0s 6ms/step - loss: 2.0046 - accuracy: 0.1667\n",
            "Epoch 51/1000\n",
            "6/6 [==============================] - 0s 6ms/step - loss: 2.2821 - accuracy: 0.1667\n",
            "Epoch 52/1000\n",
            "6/6 [==============================] - 0s 6ms/step - loss: 1.4078 - accuracy: 0.5000\n",
            "Epoch 53/1000\n",
            "6/6 [==============================] - 0s 6ms/step - loss: 1.8106 - accuracy: 0.6667\n",
            "Epoch 54/1000\n",
            "6/6 [==============================] - 0s 6ms/step - loss: 0.9893 - accuracy: 0.6667\n",
            "Epoch 55/1000\n",
            "6/6 [==============================] - 0s 6ms/step - loss: 1.5871 - accuracy: 0.5000\n",
            "Epoch 56/1000\n",
            "6/6 [==============================] - 0s 6ms/step - loss: 0.6425 - accuracy: 0.8333\n",
            "Epoch 57/1000\n",
            "6/6 [==============================] - 0s 6ms/step - loss: 1.8463 - accuracy: 0.5000\n",
            "Epoch 58/1000\n",
            "6/6 [==============================] - 0s 6ms/step - loss: 1.1179 - accuracy: 0.3333\n",
            "Epoch 59/1000\n",
            "6/6 [==============================] - 0s 6ms/step - loss: 2.1324 - accuracy: 0.5000\n",
            "Epoch 60/1000\n",
            "6/6 [==============================] - 0s 6ms/step - loss: 1.5115 - accuracy: 0.5000\n",
            "Epoch 61/1000\n",
            "6/6 [==============================] - 0s 6ms/step - loss: 1.7902 - accuracy: 0.6667\n",
            "Epoch 62/1000\n",
            "6/6 [==============================] - 0s 6ms/step - loss: 0.9596 - accuracy: 0.6667\n",
            "Epoch 63/1000\n",
            "6/6 [==============================] - 0s 6ms/step - loss: 2.9605 - accuracy: 0.1667\n"
          ],
          "name": "stdout"
        },
        {
          "output_type": "display_data",
          "data": {
            "image/png": "[encoded data removed]",
            "text/plain": [
              "<Figure size 432x288 with 1 Axes>"
            ]
          },
          "metadata": {
            "tags": [],
            "needs_background": "light"
          }
        }
      ]
    },
    {
      "cell_type": "code",
      "metadata": {
        "id": "ZNImhKqY_3sn",
        "colab_type": "code",
        "colab": {
          "base_uri": "https://localhost:8080/",
          "height": 287
        },
        "outputId": "7797c681-5064-480a-d0c8-130668213f15"
      },
      "source": [
        "lr_finder.plot_loss_change(sma=20, n_skip_beginning=10, n_skip_end=5, y_lim=(-0.01, 0.01))"
      ],
      "execution_count": null,
      "outputs": [
        {
          "output_type": "display_data",
          "data": {
            "image/png": "[encoded data removed]",
            "text/plain": [
              "<Figure size 432x288 with 1 Axes>"
            ]
          },
          "metadata": {
            "tags": [],
            "needs_background": "light"
          }
        }
      ]
    },
    {
      "cell_type": "code",
      "metadata": {
        "id": "2ZTC0deCXrOe",
        "colab_type": "code",
        "colab": {
          "base_uri": "https://localhost:8080/",
          "height": 1000
        },
        "outputId": "783329cc-d6bd-498b-c73f-5a2e794d940c"
      },
      "source": [
        "history = model.fit_generator(train_generator_96, \n",
        "                              validation_data=valid_generator_96,\n",
        "                              steps_per_epoch=200, \n",
        "                              validation_steps=100, \n",
        "                              epochs = 100,\n",
        "                              verbose=1,\n",
        "                              callbacks = [keras.callbacks.EarlyStopping(patience=10,verbose=1,restore_best_weights = True),keras.callbacks.ModelCheckpoint('/content/drive/My Drive/Files-Covid/.mdl_96_wts.hdf5', save_best_only=True, monitor='val_loss', mode='min')])\n",
        "\n",
        "model.save(\"/content/drive/My Drive/Files-Covid/model96.h5\")"
      ],
      "execution_count": null,
      "outputs": [
        {
          "output_type": "stream",
          "text": [
            "Epoch 1/100\n",
            "200/200 [==============================] - 16s 80ms/step - loss: 1.2988 - accuracy: 0.5948 - val_loss: 2.0955 - val_accuracy: 0.4162\n",
            "Epoch 2/100\n",
            "200/200 [==============================] - 16s 81ms/step - loss: 0.9485 - accuracy: 0.6298 - val_loss: 4.5784 - val_accuracy: 0.3830\n",
            "Epoch 3/100\n",
            "200/200 [==============================] - 16s 78ms/step - loss: 0.7912 - accuracy: 0.6453 - val_loss: 0.8756 - val_accuracy: 0.3982\n",
            "Epoch 4/100\n",
            "200/200 [==============================] - 15s 77ms/step - loss: 0.7330 - accuracy: 0.6616 - val_loss: 3.2801 - val_accuracy: 0.4378\n",
            "Epoch 5/100\n",
            "200/200 [==============================] - 16s 80ms/step - loss: 0.7854 - accuracy: 0.6580 - val_loss: 3.0225 - val_accuracy: 0.5127\n",
            "Epoch 6/100\n",
            "200/200 [==============================] - 16s 78ms/step - loss: 0.6080 - accuracy: 0.7055 - val_loss: 3.3554 - val_accuracy: 0.4593\n",
            "Epoch 7/100\n",
            "200/200 [==============================] - 15s 76ms/step - loss: 0.5810 - accuracy: 0.7169 - val_loss: 2.2881 - val_accuracy: 0.3959\n",
            "Epoch 8/100\n",
            "200/200 [==============================] - 16s 80ms/step - loss: 0.5063 - accuracy: 0.7347 - val_loss: 2.8660 - val_accuracy: 0.3779\n",
            "Epoch 9/100\n",
            "200/200 [==============================] - 15s 77ms/step - loss: 0.5051 - accuracy: 0.7175 - val_loss: 1.5729 - val_accuracy: 0.4911\n",
            "Epoch 10/100\n",
            "200/200 [==============================] - 16s 79ms/step - loss: 0.5980 - accuracy: 0.7010 - val_loss: 1.3037 - val_accuracy: 0.4797\n",
            "Epoch 11/100\n",
            "200/200 [==============================] - 16s 78ms/step - loss: 0.4703 - accuracy: 0.7424 - val_loss: 1.2815 - val_accuracy: 0.4746\n",
            "Epoch 12/100\n",
            "200/200 [==============================] - 16s 79ms/step - loss: 0.3998 - accuracy: 0.7739 - val_loss: 1.2949 - val_accuracy: 0.4389\n",
            "Epoch 13/100\n",
            "200/200 [==============================] - 15s 77ms/step - loss: 0.3776 - accuracy: 0.7805 - val_loss: 0.7062 - val_accuracy: 0.4061\n",
            "Epoch 14/100\n",
            "200/200 [==============================] - 16s 79ms/step - loss: 0.3167 - accuracy: 0.8347 - val_loss: 1.8094 - val_accuracy: 0.4860\n",
            "Epoch 15/100\n",
            "200/200 [==============================] - 16s 79ms/step - loss: 0.3939 - accuracy: 0.7853 - val_loss: 0.6233 - val_accuracy: 0.5293\n",
            "Epoch 16/100\n",
            "200/200 [==============================] - 16s 79ms/step - loss: 0.3172 - accuracy: 0.8359 - val_loss: 1.4859 - val_accuracy: 0.5431\n",
            "Epoch 17/100\n",
            "200/200 [==============================] - 15s 76ms/step - loss: 0.2816 - accuracy: 0.8543 - val_loss: 1.0058 - val_accuracy: 0.4415\n",
            "Epoch 18/100\n",
            "200/200 [==============================] - 16s 79ms/step - loss: 0.2667 - accuracy: 0.8702 - val_loss: 1.2674 - val_accuracy: 0.5318\n",
            "Epoch 19/100\n",
            "200/200 [==============================] - 16s 79ms/step - loss: 0.2415 - accuracy: 0.8949 - val_loss: 1.9300 - val_accuracy: 0.5596\n",
            "Epoch 20/100\n",
            "200/200 [==============================] - 16s 79ms/step - loss: 0.2176 - accuracy: 0.9205 - val_loss: 1.7358 - val_accuracy: 0.5000\n",
            "Epoch 21/100\n",
            "200/200 [==============================] - 16s 78ms/step - loss: 0.2277 - accuracy: 0.9090 - val_loss: 0.7267 - val_accuracy: 0.5420\n",
            "Epoch 22/100\n",
            "200/200 [==============================] - 16s 78ms/step - loss: 0.4958 - accuracy: 0.7455 - val_loss: 0.9698 - val_accuracy: 0.4810\n",
            "Epoch 23/100\n",
            "200/200 [==============================] - 16s 80ms/step - loss: 0.3350 - accuracy: 0.8227 - val_loss: 1.3177 - val_accuracy: 0.4873\n",
            "Epoch 24/100\n",
            "200/200 [==============================] - 16s 78ms/step - loss: 0.2728 - accuracy: 0.8620 - val_loss: 0.3286 - val_accuracy: 0.5420\n",
            "Epoch 25/100\n",
            "200/200 [==============================] - 16s 80ms/step - loss: 0.2449 - accuracy: 0.8989 - val_loss: 1.5222 - val_accuracy: 0.5190\n",
            "Epoch 26/100\n",
            "200/200 [==============================] - 16s 81ms/step - loss: 0.2464 - accuracy: 0.8980 - val_loss: 1.6063 - val_accuracy: 0.5547\n",
            "Epoch 27/100\n",
            "200/200 [==============================] - 16s 78ms/step - loss: 0.2191 - accuracy: 0.9090 - val_loss: 0.7830 - val_accuracy: 0.5293\n",
            "Epoch 28/100\n",
            "200/200 [==============================] - 16s 79ms/step - loss: 0.2076 - accuracy: 0.9265 - val_loss: 0.5054 - val_accuracy: 0.5457\n",
            "Epoch 29/100\n",
            "200/200 [==============================] - 16s 80ms/step - loss: 0.1935 - accuracy: 0.9377 - val_loss: 0.7710 - val_accuracy: 0.5433\n",
            "Epoch 30/100\n",
            "200/200 [==============================] - 16s 81ms/step - loss: 0.2009 - accuracy: 0.9370 - val_loss: 0.9180 - val_accuracy: 0.5331\n",
            "Epoch 31/100\n",
            "200/200 [==============================] - 15s 77ms/step - loss: 0.1824 - accuracy: 0.9510 - val_loss: 1.7441 - val_accuracy: 0.5431\n",
            "Epoch 32/100\n",
            "200/200 [==============================] - 16s 80ms/step - loss: 0.1730 - accuracy: 0.9631 - val_loss: 1.0038 - val_accuracy: 0.5445\n",
            "Epoch 33/100\n",
            "200/200 [==============================] - 16s 78ms/step - loss: 0.1733 - accuracy: 0.9569 - val_loss: 0.7196 - val_accuracy: 0.5331\n",
            "Epoch 34/100\n",
            "200/200 [==============================] - 16s 78ms/step - loss: 0.3874 - accuracy: 0.8295 - val_loss: 2.4843 - val_accuracy: 0.4594\n",
            "Restoring model weights from the end of the best epoch\n",
            "Epoch 00034: early stopping\n"
          ],
          "name": "stdout"
        }
      ]
    },
    {
      "cell_type": "code",
      "metadata": {
        "id": "UHpShZ4-jaWP",
        "colab_type": "code",
        "colab": {
          "base_uri": "https://localhost:8080/",
          "height": 1000
        },
        "outputId": "490edf27-792f-4471-c43f-21d13caf01a5"
      },
      "source": [
        "model = keras.Sequential()\n",
        "model.add(keras.layers.Conv2D(16,kernel_size=(3,3),input_shape = (192,192,3),padding='same',activation='relu'))\n",
        "model.add(keras.layers.Conv2D(16,kernel_size=(3,3),input_shape = (192,192,3),padding='same',activation='relu'))\n",
        "# model.add(tf.keras.layers.BatchNormalization())\n",
        "model.add(keras.layers.Conv2D(32,kernel_size=(3,3),input_shape = (192,192,3),padding='same',activation='relu'))\n",
        "model.add(keras.layers.Conv2D(32,kernel_size=(3,3),input_shape = (192,192,3),padding='same',activation='relu'))\n",
        "model.add(keras.layers.Conv2D(64,kernel_size=(3,3),padding='same',activation='relu'))\n",
        "# model.add(tf.keras.layers.BatchNormalization())\n",
        "model.add(keras.layers.Conv2D(64,kernel_size=(3,3),padding='same',activation='relu'))\n",
        "model.add(keras.layers.BatchNormalization())\n",
        "model.add(keras.layers.MaxPooling2D(pool_size=(2,2)))\n",
        "model.summary()\n",
        "prior = keras.models.load_model(\"/content/drive/My Drive/Files-Covid/model96.h5\", custom_objects={'weighted_loss': get_weighted_loss(pos_weights,neg_weights,epsilon=1e-07)})\n",
        "prior.summary()\n",
        "# for layer in prior.layers[0].layers[2:]:\n",
        "#   model.add(layer)\n",
        "for layer in prior.layers[1:]:\n",
        "    layer.name += '_prior'  # set layer names to avoid name collisions\n",
        "    model.add(layer)\n",
        "\n",
        "# the pretrained CNN layers are already marked non-trainable\n",
        "# mark off the top layers as well\n",
        "for layer in model.layers[-16:]:\n",
        "    layer.trainable = False\n",
        "    \n",
        "# set layer names (otherwise names may collide)\n",
        "for i, layer in enumerate(model.layers):\n",
        "    layer.name = 'layer_' + str(i)\n",
        "\n",
        "\n",
        "model.compile(optimizer=keras.optimizers.Adam(), loss=get_weighted_loss(pos_weights, neg_weights),metrics=['accuracy'])\n",
        "# clr = CyclicLR(base_lr=0.01, max_lr=0.06,\n",
        "#                     step_size=2000., mode='triangular2')\n"
      ],
      "execution_count": null,
      "outputs": [
        {
          "output_type": "stream",
          "text": [
            "Model: \"sequential_13\"\n",
            "_________________________________________________________________\n",
            "Layer (type)                 Output Shape              Param #   \n",
            "=================================================================\n",
            "conv2d_35 (Conv2D)           (None, 192, 192, 16)      448       \n",
            "_________________________________________________________________\n",
            "conv2d_36 (Conv2D)           (None, 192, 192, 16)      2320      \n",
            "_________________________________________________________________\n",
            "conv2d_37 (Conv2D)           (None, 192, 192, 32)      4640      \n",
            "_________________________________________________________________\n",
            "conv2d_38 (Conv2D)           (None, 192, 192, 32)      9248      \n",
            "_________________________________________________________________\n",
            "conv2d_39 (Conv2D)           (None, 192, 192, 64)      18496     \n",
            "_________________________________________________________________\n",
            "conv2d_40 (Conv2D)           (None, 192, 192, 64)      36928     \n",
            "_________________________________________________________________\n",
            "batch_normalization_10 (Batc (None, 192, 192, 64)      256       \n",
            "_________________________________________________________________\n",
            "max_pooling2d_10 (MaxPooling (None, 96, 96, 64)        0         \n",
            "=================================================================\n",
            "Total params: 72,336\n",
            "Trainable params: 72,208\n",
            "Non-trainable params: 128\n",
            "_________________________________________________________________\n",
            "Model: \"sequential_9\"\n",
            "_________________________________________________________________\n",
            "Layer (type)                 Output Shape              Param #   \n",
            "=================================================================\n",
            "conv2d_14 (Conv2D)           (None, 96, 96, 64)        1792      \n",
            "_________________________________________________________________\n",
            "conv2d_15 (Conv2D)           (None, 96, 96, 64)        36928     \n",
            "_________________________________________________________________\n",
            "conv2d_16 (Conv2D)           (None, 96, 96, 64)        36928     \n",
            "_________________________________________________________________\n",
            "batch_normalization_7 (Batch (None, 96, 96, 64)        256       \n",
            "_________________________________________________________________\n",
            "max_pooling2d_7 (MaxPooling2 (None, 48, 48, 64)        0         \n",
            "_________________________________________________________________\n",
            "block1_conv2 (Conv2D)        (None, 48, 48, 64)        36928     \n",
            "_________________________________________________________________\n",
            "block1_pool (MaxPooling2D)   (None, 24, 24, 64)        0         \n",
            "_________________________________________________________________\n",
            "block2_conv1 (Conv2D)        (None, 24, 24, 128)       73856     \n",
            "_________________________________________________________________\n",
            "block2_conv2 (Conv2D)        (None, 24, 24, 128)       147584    \n",
            "_________________________________________________________________\n",
            "block2_pool (MaxPooling2D)   (None, 12, 12, 128)       0         \n",
            "_________________________________________________________________\n",
            "block3_conv1 (Conv2D)        (None, 12, 12, 256)       295168    \n",
            "_________________________________________________________________\n",
            "block3_conv2 (Conv2D)        (None, 12, 12, 256)       590080    \n",
            "_________________________________________________________________\n",
            "block3_conv3 (Conv2D)        (None, 12, 12, 256)       590080    \n",
            "_________________________________________________________________\n",
            "block3_conv4 (Conv2D)        (None, 12, 12, 256)       590080    \n",
            "_________________________________________________________________\n",
            "block3_pool (MaxPooling2D)   (None, 6, 6, 256)         0         \n",
            "_________________________________________________________________\n",
            "block4_conv1 (Conv2D)        (None, 6, 6, 512)         1180160   \n",
            "_________________________________________________________________\n",
            "block4_conv2 (Conv2D)        (None, 6, 6, 512)         2359808   \n",
            "_________________________________________________________________\n",
            "block4_conv3 (Conv2D)        (None, 6, 6, 512)         2359808   \n",
            "_________________________________________________________________\n",
            "block4_conv4 (Conv2D)        (None, 6, 6, 512)         2359808   \n",
            "_________________________________________________________________\n",
            "block4_pool (MaxPooling2D)   (None, 3, 3, 512)         0         \n",
            "_________________________________________________________________\n",
            "block5_conv1 (Conv2D)        (None, 3, 3, 512)         2359808   \n",
            "_________________________________________________________________\n",
            "block5_conv2 (Conv2D)        (None, 3, 3, 512)         2359808   \n",
            "_________________________________________________________________\n",
            "block5_conv3 (Conv2D)        (None, 3, 3, 512)         2359808   \n",
            "_________________________________________________________________\n",
            "block5_conv4 (Conv2D)        (None, 3, 3, 512)         2359808   \n",
            "_________________________________________________________________\n",
            "block5_pool (MaxPooling2D)   (None, 1, 1, 512)         0         \n",
            "_________________________________________________________________\n",
            "global_average_pooling2d_2 ( (None, 512)               0         \n",
            "_________________________________________________________________\n",
            "dense_5 (Dense)              (None, 1024)              525312    \n",
            "_________________________________________________________________\n",
            "dropout_2 (Dropout)          (None, 1024)              0         \n",
            "_________________________________________________________________\n",
            "dense_6 (Dense)              (None, 512)               524800    \n",
            "_________________________________________________________________\n",
            "dense_7 (Dense)              (None, 256)               131328    \n",
            "_________________________________________________________________\n",
            "dense_8 (Dense)              (None, 1)                 257       \n",
            "=================================================================\n",
            "Total params: 21,280,193\n",
            "Trainable params: 75,776\n",
            "Non-trainable params: 21,204,417\n",
            "_________________________________________________________________\n"
          ],
          "name": "stdout"
        }
      ]
    },
    {
      "cell_type": "code",
      "metadata": {
        "id": "7UJwLzS8iB37",
        "colab_type": "code",
        "colab": {
          "base_uri": "https://localhost:8080/",
          "height": 1000
        },
        "outputId": "291c376d-962c-4a21-ff85-1e7fedad74dd"
      },
      "source": [
        "X_batch, y_batch = next(train_generator_192)\n",
        "X_idxs_resampled, _ = RandomUnderSampler().fit_resample(\n",
        "    np.asarray(range(len(X_batch)))[:, np.newaxis], \n",
        "    y_batch\n",
        ")\n",
        "\n",
        "X_batch, y_batch = X_batch[X_idxs_resampled[:, 0]], y_batch[X_idxs_resampled[:, 0]]\n",
        "print(X_batch.shape)\n",
        "lr_finder = LRFinder(model)\n",
        "lr_finder.find(X_batch, y_batch, start_lr=1e-25, end_lr=1e+20, batch_size=16, epochs=200)\n",
        "lr_finder.plot_loss()"
      ],
      "execution_count": null,
      "outputs": [
        {
          "output_type": "stream",
          "text": [
            "/usr/local/lib/python3.6/dist-packages/sklearn/utils/deprecation.py:87: FutureWarning: Function safe_indexing is deprecated; safe_indexing is deprecated in version 0.22 and will be removed in version 0.24.\n",
            "  warnings.warn(msg, category=FutureWarning)\n"
          ],
          "name": "stderr"
        },
        {
          "output_type": "stream",
          "text": [
            "(6, 192, 192, 3)\n",
            "Epoch 1/200\n",
            "6/6 [==============================] - 0s 17ms/step - loss: 1.6311 - accuracy: 0.3333\n",
            "Epoch 2/200\n",
            "6/6 [==============================] - 0s 17ms/step - loss: 2.1368 - accuracy: 0.5000\n",
            "Epoch 3/200\n",
            "6/6 [==============================] - 0s 17ms/step - loss: 1.3262 - accuracy: 0.6667\n",
            "Epoch 4/200\n",
            "6/6 [==============================] - 0s 17ms/step - loss: 1.6658 - accuracy: 0.5000\n",
            "Epoch 5/200\n",
            "6/6 [==============================] - 0s 17ms/step - loss: 1.3181 - accuracy: 0.5000\n",
            "Epoch 6/200\n",
            "6/6 [==============================] - 0s 17ms/step - loss: 2.6916 - accuracy: 0.5000\n",
            "Epoch 7/200\n",
            "6/6 [==============================] - 0s 17ms/step - loss: 2.0903 - accuracy: 0.3333\n",
            "Epoch 8/200\n",
            "6/6 [==============================] - 0s 17ms/step - loss: 1.2824 - accuracy: 0.6667\n",
            "Epoch 9/200\n",
            "6/6 [==============================] - 0s 17ms/step - loss: 1.1346 - accuracy: 0.3333\n",
            "Epoch 10/200\n",
            "6/6 [==============================] - 0s 17ms/step - loss: 1.6001 - accuracy: 0.5000\n",
            "Epoch 11/200\n",
            "6/6 [==============================] - 0s 17ms/step - loss: 1.1548 - accuracy: 0.3333\n",
            "Epoch 12/200\n",
            "6/6 [==============================] - 0s 17ms/step - loss: 1.6557 - accuracy: 0.5000\n",
            "Epoch 13/200\n",
            "6/6 [==============================] - 0s 17ms/step - loss: 1.6406 - accuracy: 0.3333\n",
            "Epoch 14/200\n",
            "6/6 [==============================] - 0s 17ms/step - loss: 1.7164 - accuracy: 0.3333\n",
            "Epoch 15/200\n",
            "6/6 [==============================] - 0s 17ms/step - loss: 1.9095 - accuracy: 0.5000\n",
            "Epoch 16/200\n",
            "6/6 [==============================] - 0s 17ms/step - loss: 1.8953 - accuracy: 0.3333\n",
            "Epoch 17/200\n",
            "6/6 [==============================] - 0s 17ms/step - loss: 2.5801 - accuracy: 0.3333\n",
            "Epoch 18/200\n",
            "6/6 [==============================] - 0s 17ms/step - loss: 2.0395 - accuracy: 0.3333\n",
            "Epoch 19/200\n",
            "6/6 [==============================] - 0s 17ms/step - loss: 2.0819 - accuracy: 0.3333\n",
            "Epoch 20/200\n",
            "6/6 [==============================] - 0s 17ms/step - loss: 1.3489 - accuracy: 0.3333\n",
            "Epoch 21/200\n",
            "6/6 [==============================] - 0s 17ms/step - loss: 2.1926 - accuracy: 0.5000\n",
            "Epoch 22/200\n",
            "6/6 [==============================] - 0s 17ms/step - loss: 2.1455 - accuracy: 0.3333\n",
            "Epoch 23/200\n",
            "6/6 [==============================] - 0s 17ms/step - loss: 1.7204 - accuracy: 0.5000\n",
            "Epoch 24/200\n",
            "6/6 [==============================] - 0s 17ms/step - loss: 1.1657 - accuracy: 0.5000\n",
            "Epoch 25/200\n",
            "6/6 [==============================] - 0s 17ms/step - loss: 2.0331 - accuracy: 0.5000\n",
            "Epoch 26/200\n",
            "6/6 [==============================] - 0s 17ms/step - loss: 0.8877 - accuracy: 0.3333\n",
            "Epoch 27/200\n",
            "6/6 [==============================] - 0s 17ms/step - loss: 1.7713 - accuracy: 0.3333\n",
            "Epoch 28/200\n",
            "6/6 [==============================] - 0s 17ms/step - loss: 2.0856 - accuracy: 0.5000\n",
            "Epoch 29/200\n",
            "6/6 [==============================] - 0s 17ms/step - loss: 2.2131 - accuracy: 0.5000\n",
            "Epoch 30/200\n",
            "6/6 [==============================] - 0s 17ms/step - loss: 2.4397 - accuracy: 0.6667\n",
            "Epoch 31/200\n",
            "6/6 [==============================] - 0s 17ms/step - loss: 1.9212 - accuracy: 0.5000\n",
            "Epoch 32/200\n",
            "6/6 [==============================] - 0s 17ms/step - loss: 1.6556 - accuracy: 0.5000\n",
            "Epoch 33/200\n",
            "6/6 [==============================] - 0s 17ms/step - loss: 2.0654 - accuracy: 0.3333\n",
            "Epoch 34/200\n",
            "6/6 [==============================] - 0s 17ms/step - loss: 0.6488 - accuracy: 0.1667\n",
            "Epoch 35/200\n",
            "6/6 [==============================] - 0s 17ms/step - loss: 2.4171 - accuracy: 0.3333\n",
            "Epoch 36/200\n",
            "6/6 [==============================] - 0s 17ms/step - loss: 1.0989 - accuracy: 0.6667\n",
            "Epoch 37/200\n",
            "6/6 [==============================] - 0s 17ms/step - loss: 1.1760 - accuracy: 0.3333\n",
            "Epoch 38/200\n",
            "6/6 [==============================] - 0s 17ms/step - loss: 1.3787 - accuracy: 0.8333\n",
            "Epoch 39/200\n",
            "6/6 [==============================] - 0s 17ms/step - loss: 1.3654 - accuracy: 0.8333\n",
            "Epoch 40/200\n",
            "6/6 [==============================] - 0s 17ms/step - loss: 0.9769 - accuracy: 0.3333\n",
            "Epoch 41/200\n",
            "6/6 [==============================] - 0s 17ms/step - loss: 2.1318 - accuracy: 0.3333\n",
            "Epoch 42/200\n",
            "6/6 [==============================] - 0s 17ms/step - loss: 2.5647 - accuracy: 0.5000\n",
            "Epoch 43/200\n",
            "6/6 [==============================] - 0s 17ms/step - loss: 1.8395 - accuracy: 0.6667\n",
            "Epoch 44/200\n",
            "6/6 [==============================] - 0s 17ms/step - loss: 1.6272 - accuracy: 0.6667\n",
            "Epoch 45/200\n",
            "6/6 [==============================] - 0s 17ms/step - loss: 2.5405 - accuracy: 0.6667\n",
            "Epoch 46/200\n",
            "6/6 [==============================] - 0s 17ms/step - loss: 4.0196 - accuracy: 0.5000\n"
          ],
          "name": "stdout"
        },
        {
          "output_type": "display_data",
          "data": {
            "image/png": "[encoded data removed]",
            "text/plain": [
              "<Figure size 432x288 with 1 Axes>"
            ]
          },
          "metadata": {
            "tags": [],
            "needs_background": "light"
          }
        }
      ]
    },
    {
      "cell_type": "code",
      "metadata": {
        "id": "lXBGpm0Gh_-j",
        "colab_type": "code",
        "colab": {
          "base_uri": "https://localhost:8080/",
          "height": 790
        },
        "outputId": "b48ff319-aab1-470a-d7a2-873546a0d714"
      },
      "source": [
        "history = model.fit_generator(train_generator_192, \n",
        "                              validation_data=valid_generator_192,\n",
        "                              steps_per_epoch=200, \n",
        "                              validation_steps=100, \n",
        "                              epochs = 100,\n",
        "                              verbose=1,\n",
        "                              callbacks = [keras.callbacks.EarlyStopping(patience=10,verbose=1,restore_best_weights = True),keras.callbacks.ModelCheckpoint('/content/drive/My Drive/Files-Covid/.mdl_96_wts.hdf5', save_best_only=True, monitor='val_loss', mode='min')])\n",
        "\n",
        "model.save(\"/content/drive/My Drive/Files-Covid/model128.h5\")\n",
        "# tf.keras.backend.clear_session()"
      ],
      "execution_count": null,
      "outputs": [
        {
          "output_type": "stream",
          "text": [
            "Epoch 1/100\n",
            "200/200 [==============================] - 32s 160ms/step - loss: 0.8189 - accuracy: 0.6238 - val_loss: 0.2479 - val_accuracy: 0.4695\n",
            "Epoch 2/100\n",
            "200/200 [==============================] - 31s 157ms/step - loss: 0.5321 - accuracy: 0.7272 - val_loss: 6.6683 - val_accuracy: 0.5954\n",
            "Epoch 3/100\n",
            "200/200 [==============================] - 32s 158ms/step - loss: 0.4889 - accuracy: 0.7441 - val_loss: 0.1287 - val_accuracy: 0.5611\n",
            "Epoch 4/100\n",
            "200/200 [==============================] - 31s 157ms/step - loss: 0.6213 - accuracy: 0.6927 - val_loss: 1.3348 - val_accuracy: 0.5140\n",
            "Epoch 5/100\n",
            "200/200 [==============================] - 31s 157ms/step - loss: 0.4679 - accuracy: 0.7519 - val_loss: 7.3593 - val_accuracy: 0.5547\n",
            "Epoch 6/100\n",
            "200/200 [==============================] - 31s 157ms/step - loss: 0.4514 - accuracy: 0.7562 - val_loss: 1.3554 - val_accuracy: 0.5649\n",
            "Epoch 7/100\n",
            "200/200 [==============================] - 31s 156ms/step - loss: 0.3845 - accuracy: 0.7952 - val_loss: 1.0215 - val_accuracy: 0.4619\n",
            "Epoch 8/100\n",
            "200/200 [==============================] - 31s 157ms/step - loss: 0.3815 - accuracy: 0.7929 - val_loss: 7.4660 - val_accuracy: 0.5216\n",
            "Epoch 9/100\n",
            "200/200 [==============================] - 31s 156ms/step - loss: 0.3995 - accuracy: 0.7945 - val_loss: 0.1586 - val_accuracy: 0.5293\n",
            "Epoch 10/100\n",
            "200/200 [==============================] - 31s 156ms/step - loss: 0.3522 - accuracy: 0.8098 - val_loss: 1.9171 - val_accuracy: 0.5165\n",
            "Epoch 11/100\n",
            "200/200 [==============================] - 31s 157ms/step - loss: 0.3765 - accuracy: 0.7926 - val_loss: 7.8850 - val_accuracy: 0.4835\n",
            "Epoch 12/100\n",
            "200/200 [==============================] - 31s 157ms/step - loss: 0.3857 - accuracy: 0.8087 - val_loss: 0.1259 - val_accuracy: 0.5382\n",
            "Epoch 13/100\n",
            "200/200 [==============================] - 31s 156ms/step - loss: 0.4621 - accuracy: 0.7621 - val_loss: 1.9171 - val_accuracy: 0.4873\n",
            "Epoch 14/100\n",
            "200/200 [==============================] - 31s 157ms/step - loss: 0.3464 - accuracy: 0.8132 - val_loss: 6.7818 - val_accuracy: 0.4847\n",
            "Epoch 15/100\n",
            "200/200 [==============================] - 31s 156ms/step - loss: 0.4141 - accuracy: 0.7955 - val_loss: 1.9582 - val_accuracy: 0.4822\n",
            "Epoch 16/100\n",
            "200/200 [==============================] - 31s 157ms/step - loss: 0.3692 - accuracy: 0.7948 - val_loss: 1.9172 - val_accuracy: 0.4480\n",
            "Epoch 17/100\n",
            "200/200 [==============================] - 31s 157ms/step - loss: 0.3368 - accuracy: 0.8282 - val_loss: 5.6724 - val_accuracy: 0.5369\n",
            "Epoch 18/100\n",
            "200/200 [==============================] - 31s 156ms/step - loss: 0.3429 - accuracy: 0.8246 - val_loss: 6.0965 - val_accuracy: 0.4338\n",
            "Epoch 19/100\n",
            "200/200 [==============================] - 31s 157ms/step - loss: 0.3329 - accuracy: 0.8238 - val_loss: 1.9171 - val_accuracy: 0.4289\n",
            "Epoch 20/100\n",
            "200/200 [==============================] - 31s 157ms/step - loss: 0.4059 - accuracy: 0.8060 - val_loss: 5.6724 - val_accuracy: 0.5331\n",
            "Epoch 21/100\n",
            "200/200 [==============================] - 31s 157ms/step - loss: 0.3351 - accuracy: 0.8151 - val_loss: 7.2906 - val_accuracy: 0.4720\n",
            "Epoch 22/100\n",
            "200/200 [==============================] - 31s 156ms/step - loss: 0.3051 - accuracy: 0.8505 - val_loss: 7.2906 - val_accuracy: 0.5609\n",
            "Restoring model weights from the end of the best epoch\n",
            "Epoch 00022: early stopping\n"
          ],
          "name": "stdout"
        }
      ]
    },
    {
      "cell_type": "code",
      "metadata": {
        "id": "Lks5fyvn9ADO",
        "colab_type": "code",
        "colab": {
          "base_uri": "https://localhost:8080/",
          "height": 295
        },
        "outputId": "63bca284-97e6-4acc-b14d-d7ab8988a97f"
      },
      "source": [
        "plt.plot(history.history['loss'])\n",
        "plt.plot(history.history['val_loss'])\n",
        "plt.ylabel(\"loss\")\n",
        "plt.xlabel(\"epoch\")\n",
        "plt.title(\"Training- Val loss Curve\")\n",
        "plt.legend(['train', 'validation'], loc='upper left')\n",
        "plt.show()"
      ],
      "execution_count": null,
      "outputs": [
        {
          "output_type": "display_data",
          "data": {
            "image/png": "[encoded data removed]",
            "text/plain": [
              "<Figure size 432x288 with 1 Axes>"
            ]
          },
          "metadata": {
            "tags": [],
            "needs_background": "light"
          }
        }
      ]
    },
    {
      "cell_type": "markdown",
      "metadata": {
        "id": "S400ep0iWHSh",
        "colab_type": "text"
      },
      "source": [
        "# **METRICS**"
      ]
    },
    {
      "cell_type": "code",
      "metadata": {
        "id": "8Bz1eMhF_OcG",
        "colab_type": "code",
        "colab": {}
      },
      "source": [
        "predicted_vals = model.predict_generator(test_generator_192, steps = len(test_generator_192))"
      ],
      "execution_count": null,
      "outputs": []
    },
    {
      "cell_type": "code",
      "metadata": {
        "id": "nwodj4f3GWwY",
        "colab_type": "code",
        "colab": {}
      },
      "source": [
        "from sklearn.metrics import roc_auc_score, roc_curve"
      ],
      "execution_count": null,
      "outputs": []
    },
    {
      "cell_type": "code",
      "metadata": {
        "id": "94q8H_MGHdbR",
        "colab_type": "code",
        "colab": {}
      },
      "source": [
        "def get_roc_curve(labels, predicted_vals, generator):\n",
        "    auc_roc_vals = []\n",
        "    for i in range(len(labels)):\n",
        "        try:\n",
        "            gt = generator.labels[:, i]\n",
        "            pred = predicted_vals[:, i]\n",
        "            auc_roc = roc_auc_score(gt, pred)\n",
        "            auc_roc_vals.append(auc_roc)\n",
        "            fpr_rf, tpr_rf, _ = roc_curve(gt, pred)\n",
        "            plt.figure(1, figsize=(10, 10))\n",
        "            plt.plot([0, 1], [0, 1], 'k--')\n",
        "            plt.plot(fpr_rf, tpr_rf,\n",
        "                     label=labels[i] + \" (\" + str(round(auc_roc, 3)) + \")\")\n",
        "            plt.xlabel('False positive rate')\n",
        "            plt.ylabel('True positive rate')\n",
        "            plt.title('ROC curve')\n",
        "            plt.legend(loc='best')\n",
        "        except:\n",
        "            print(\n",
        "                f\"Error in generating ROC curve for {labels[i]}. \"\n",
        "                f\"Dataset lacks enough examples.\"\n",
        "            )\n",
        "    plt.show()\n",
        "    return auc_roc_vals"
      ],
      "execution_count": null,
      "outputs": []
    },
    {
      "cell_type": "code",
      "metadata": {
        "id": "c4XifA6OHizr",
        "colab_type": "code",
        "colab": {
          "base_uri": "https://localhost:8080/",
          "height": 621
        },
        "outputId": "5bad5000-28cc-41d3-b002-19347dd53b8b"
      },
      "source": [
        "auc_rocs = get_roc_curve(labels, predicted_vals, test_generator_192)"
      ],
      "execution_count": null,
      "outputs": [
        {
          "output_type": "display_data",
          "data": {
            "image/png": "[encoded data removed]",
            "text/plain": [
              "<Figure size 720x720 with 1 Axes>"
            ]
          },
          "metadata": {
            "tags": [],
            "needs_background": "light"
          }
        }
      ]
    },
    {
      "cell_type": "code",
      "metadata": {
        "id": "kFxgFXLTLK0z",
        "colab_type": "code",
        "colab": {}
      },
      "source": [
        "import random\n",
        "\n",
        "import cv2\n",
        "import matplotlib.pyplot as plt\n",
        "import numpy as np\n",
        "from keras import backend as K\n",
        "from keras.preprocessing import image\n",
        "from sklearn.metrics import roc_auc_score, roc_curve\n",
        "from tensorflow.compat.v1.logging import INFO, set_verbosity"
      ],
      "execution_count": null,
      "outputs": []
    },
    {
      "cell_type": "code",
      "metadata": {
        "id": "70Cw3rPkHn1L",
        "colab_type": "code",
        "colab": {}
      },
      "source": [
        "def get_mean_std_per_batch(image_path, df, H=200, W=200):\n",
        "    sample_data = []\n",
        "    for idx, img in enumerate(df.sample(100)[\"Source\"].values):\n",
        "        # path = image_dir + img\n",
        "        sample_data.append(\n",
        "            np.array(image.load_img(image_path, target_size=(H, W))))\n",
        "\n",
        "    mean = np.mean(sample_data[0])\n",
        "    std = np.std(sample_data[0])\n",
        "    return mean, std\n",
        "def load_image(img, image_dir, df, preprocess=True, H=200, W=200):\n",
        "    \"\"\"Load and preprocess image.\"\"\"\n",
        "    img_path = image_dir + img\n",
        "    mean, std = get_mean_std_per_batch(img_path, df, H=H, W=W)\n",
        "    x = image.load_img(img_path, target_size=(H, W))\n",
        "    if preprocess:\n",
        "        x -= mean\n",
        "        x /= std\n",
        "        x = np.expand_dims(x, axis=0)\n",
        "    return x\n",
        "\n",
        "def grad_cam(input_model, image, cls, layer_name, H=200, W=200):\n",
        "    \"\"\"GradCAM method for visualizing input saliency.\"\"\"\n",
        "    y_c = input_model.output[0, cls]\n",
        "    conv_output = input_model.get_layer(layer_name).output\n",
        "    grads = K.gradients(y_c, conv_output)[0]\n",
        "\n",
        "    gradient_function = K.function([input_model.input], [conv_output, grads])\n",
        "\n",
        "    output, grads_val = gradient_function([image])\n",
        "    output, grads_val = output[0, :], grads_val[0, :, :, :]\n",
        "\n",
        "    weights = np.mean(grads_val, axis=(0, 1))\n",
        "    cam = np.dot(output, weights)\n",
        "\n",
        "    # Process CAM\n",
        "    cam = cv2.resize(cam, (W, H), cv2.INTER_LINEAR)\n",
        "    cam = np.maximum(cam, 0)\n",
        "    cam = cam / cam.max()\n",
        "    return cam\n",
        "\n",
        "\n",
        "def compute_gradcam(model, img, image_dir, df, labels, selected_labels,\n",
        "                    layer_name='conv5_block3_2_bn'):\n",
        "    preprocessed_input = load_image(img, image_dir, df)\n",
        "    predictions = model.predict(preprocessed_input)\n",
        "\n",
        "    print(\"Loading original image\")\n",
        "    plt.figure(figsize=(15, 10))\n",
        "    plt.subplot(151)\n",
        "    plt.title(\"Original\")\n",
        "    plt.axis('off')\n",
        "    plt.imshow(load_image(img, image_dir, df, preprocess=False), cmap='gray')\n",
        "\n",
        "    j = 1\n",
        "    for i in range(len(labels)):\n",
        "        if labels[i] in selected_labels:\n",
        "            print(f\"Generating gradcam for class {labels[i]}\")\n",
        "            gradcam = grad_cam(model, preprocessed_input, i, layer_name)\n",
        "            plt.subplot(151 + j)\n",
        "            plt.title(f\"{labels[i]}: p={predictions[0][i]:.3f}\")\n",
        "            plt.axis('off')\n",
        "            plt.imshow(load_image(img, image_dir, df, preprocess=False),\n",
        "                       cmap='gray')\n",
        "            plt.imshow(gradcam, cmap='jet', alpha=min(0.5, predictions[0][i]))\n",
        "            j += 1"
      ],
      "execution_count": null,
      "outputs": []
    },
    {
      "cell_type": "code",
      "metadata": {
        "id": "V4Og2_7mH6_Z",
        "colab_type": "code",
        "colab": {}
      },
      "source": [
        "labels_to_show = np.take(labels, np.argsort(auc_rocs)[::-1])"
      ],
      "execution_count": null,
      "outputs": []
    },
    {
      "cell_type": "code",
      "metadata": {
        "id": "RZdqstDxIIJP",
        "colab_type": "code",
        "colab": {}
      },
      "source": [
        "IMG_DIR = \"/content/drive/My Drive/Files-Covid/IMG_DIR/\"\n",
        "compute_gradcam(model,'2020.03.26.20041426-p11-128.png', IMG_DIR, test_df, labels, labels_to_show)"
      ],
      "execution_count": null,
      "outputs": []
    },
    {
      "cell_type": "code",
      "metadata": {
        "id": "JZtnFejgJ8_X",
        "colab_type": "code",
        "colab": {}
      },
      "source": [
        "labels"
      ],
      "execution_count": null,
      "outputs": []
    },
    {
      "cell_type": "code",
      "metadata": {
        "id": "HP9iyt3GNar3",
        "colab_type": "code",
        "colab": {}
      },
      "source": [
        "class_labes = ['Covid']\n",
        "pred_labels = ['Covid_pred']"
      ],
      "execution_count": null,
      "outputs": []
    },
    {
      "cell_type": "code",
      "metadata": {
        "id": "EkDvmehB9FT5",
        "colab_type": "code",
        "colab": {}
      },
      "source": [
        "def true_positives(y, pred, th=0.4):\n",
        "    \"\"\"\n",
        "    Count true positives.\n",
        "\n",
        "    Args:\n",
        "        y (np.array): ground truth, size (n_examples)\n",
        "        pred (np.array): model output, size (n_examples)\n",
        "        th (float): cutoff value for positive prediction from model\n",
        "    Returns:\n",
        "        TP (int): true positives\n",
        "    \"\"\"\n",
        "    TP = 0\n",
        "    \n",
        "    # get thresholded predictions\n",
        "    thresholded_preds = pred >= th\n",
        "\n",
        "    # compute TP\n",
        "    TP = np.sum((y == 1) & (thresholded_preds == 1))\n",
        "    \n",
        "    return TP\n",
        "\n",
        "def true_negatives(y, pred, th=0.4):\n",
        "    \"\"\"\n",
        "    Count true negatives.\n",
        "\n",
        "    Args:\n",
        "        y (np.array): ground truth, size (n_examples)\n",
        "        pred (np.array): model output, size (n_examples)\n",
        "        th (float): cutoff value for positive prediction from model\n",
        "    Returns:\n",
        "        TN (int): true negatives\n",
        "    \"\"\"\n",
        "    TN = 0\n",
        "    \n",
        "    # get thresholded predictions\n",
        "    thresholded_preds = pred >= th\n",
        "\n",
        "    ### START CODE HERE (REPLACE INSTANCES OF 'None' with your code) ###\n",
        "    \n",
        "    # compute TN\n",
        "    TN =  np.sum((y == 0) & (thresholded_preds == 0))\n",
        "    \n",
        "    ### END CODE HERE ###\n",
        "    \n",
        "    return TN\n",
        "\n",
        "def false_positives(y, pred, th=0.4):\n",
        "    \"\"\"\n",
        "    Count false positives.\n",
        "\n",
        "    Args:\n",
        "        y (np.array): ground truth, size (n_examples)\n",
        "        pred (np.array): model output, size (n_examples)\n",
        "        th (float): cutoff value for positive prediction from model\n",
        "    Returns:\n",
        "        FP (int): false positives\n",
        "    \"\"\"\n",
        "    FP = 0\n",
        "    \n",
        "    # get thresholded predictions\n",
        "    thresholded_preds = pred >= th\n",
        "    \n",
        "    ### START CODE HERE (REPLACE INSTANCES OF 'None' with your code) ###\n",
        "\n",
        "    # compute FP\n",
        "    FP =  np.sum((y == 0) & (thresholded_preds == 1))\n",
        "    \n",
        "    ### END CODE HERE ###\n",
        "    \n",
        "    return FP\n",
        "\n",
        "def false_negatives(y, pred, th=0.4):\n",
        "    \"\"\"\n",
        "    Count false positives.\n",
        "\n",
        "    Args:\n",
        "        y (np.array): ground truth, size (n_examples)\n",
        "        pred (np.array): model output, size (n_examples)\n",
        "        th (float): cutoff value for positive prediction from model\n",
        "    Returns:\n",
        "        FN (int): false negatives\n",
        "    \"\"\"\n",
        "    FN = 0\n",
        "    \n",
        "    # get thresholded predictions\n",
        "    thresholded_preds = pred >= th\n",
        "\n",
        "    ### START CODE HERE (REPLACE INSTANCES OF 'None' with your code) ###\n",
        "    \n",
        "    # compute FN\n",
        "    FN =  np.sum((y == 1) & (thresholded_preds == 0))\n",
        "    \n",
        "    ### END CODE HERE ###\n",
        "    \n",
        "    return FN"
      ],
      "execution_count": null,
      "outputs": []
    },
    {
      "cell_type": "code",
      "metadata": {
        "id": "C7e43C_O9W3_",
        "colab_type": "code",
        "colab": {}
      },
      "source": [
        "import matplotlib.pyplot as plt\n",
        "import numpy as np\n",
        "import pandas as pd\n",
        "from sklearn.metrics import (\n",
        "    average_precision_score,\n",
        "    precision_recall_curve,\n",
        "    roc_auc_score,\n",
        "    roc_curve,\n",
        ")\n",
        "\n",
        "\n",
        "def get_true_pos(y, pred, th=0.4):\n",
        "    pred_t = (pred > th)\n",
        "    return np.sum((pred_t == True) & (y == 1))\n",
        "\n",
        "\n",
        "def get_true_neg(y, pred, th=0.4):\n",
        "    pred_t = (pred > th)\n",
        "    return np.sum((pred_t == False) & (y == 0))\n",
        "\n",
        "\n",
        "def get_false_neg(y, pred, th=0.4):\n",
        "    pred_t = (pred > th)\n",
        "    return np.sum((pred_t == False) & (y == 1))\n",
        "\n",
        "\n",
        "def get_false_pos(y, pred, th=0.4):\n",
        "    pred_t = (pred > th)\n",
        "    return np.sum((pred_t == True) & (y == 0))\n",
        "\n",
        "\n",
        "def get_performance_metrics(y, pred, class_labels, tp=get_true_pos,\n",
        "                            tn=get_true_neg, fp=get_false_pos,\n",
        "                            fn=get_false_neg,\n",
        "                            acc=None, prevalence=None, spec=None,\n",
        "                            sens=None, ppv=None, npv=None, auc=None, f1=None,\n",
        "                            thresholds=[]):\n",
        "    if len(thresholds) != len(class_labels):\n",
        "        thresholds = [.4] * len(class_labels)\n",
        "\n",
        "    columns = [\"\", \"TP\", \"TN\", \"FP\", \"FN\", \"Accuracy\", \"Prevalence\",\n",
        "               \"Sensitivity\",\n",
        "               \"Specificity\", \"PPV\", \"NPV\", \"AUC\", \"F1\", \"Threshold\"]\n",
        "    df = pd.DataFrame(columns=columns)\n",
        "    for i in range(len(class_labels)):\n",
        "        df.loc[i] = [\"\"] + [0] * (len(columns) - 1)\n",
        "        df.loc[i][0] = class_labels[i]\n",
        "        df.loc[i][1] = round(tp(y[:, i], pred[:, i]),\n",
        "                             3) if tp != None else \"Not Defined\"\n",
        "        df.loc[i][2] = round(tn(y[:, i], pred[:, i]),\n",
        "                             3) if tn != None else \"Not Defined\"\n",
        "        df.loc[i][3] = round(fp(y[:, i], pred[:, i]),\n",
        "                             3) if fp != None else \"Not Defined\"\n",
        "        df.loc[i][4] = round(fn(y[:, i], pred[:, i]),\n",
        "                             3) if fn != None else \"Not Defined\"\n",
        "        df.loc[i][5] = round(acc(y[:, i], pred[:, i], thresholds[i]),\n",
        "                             3) if acc != None else \"Not Defined\"\n",
        "        df.loc[i][6] = round(prevalence(y[:, i]),\n",
        "                             3) if prevalence != None else \"Not Defined\"\n",
        "        df.loc[i][7] = round(sens(y[:, i], pred[:, i], thresholds[i]),\n",
        "                             3) if sens != None else \"Not Defined\"\n",
        "        df.loc[i][8] = round(spec(y[:, i], pred[:, i], thresholds[i]),\n",
        "                             3) if spec != None else \"Not Defined\"\n",
        "        df.loc[i][9] = round(ppv(y[:, i], pred[:, i], thresholds[i]),\n",
        "                             3) if ppv != None else \"Not Defined\"\n",
        "        df.loc[i][10] = round(npv(y[:, i], pred[:, i], thresholds[i]),\n",
        "                              3) if npv != None else \"Not Defined\"\n",
        "        df.loc[i][11] = round(auc(y[:, i], pred[:, i]),\n",
        "                              3) if auc != None else \"Not Defined\"\n",
        "        df.loc[i][12] = round(f1(y[:, i], pred[:, i] > thresholds[i]),\n",
        "                              3) if f1 != None else \"Not Defined\"\n",
        "        df.loc[i][13] = round(thresholds[i], 3)\n",
        "\n",
        "    df = df.set_index(\"\")\n",
        "    return df\n",
        "\n",
        "\n",
        "def print_confidence_intervals(class_labels, statistics):\n",
        "    df = pd.DataFrame(columns=[\"Mean AUC (CI 5%-95%)\"])\n",
        "    for i in range(len(class_labels)):\n",
        "        mean = statistics.mean(axis=1)[i]\n",
        "        max_ = np.quantile(statistics, .95, axis=1)[i]\n",
        "        min_ = np.quantile(statistics, .05, axis=1)[i]\n",
        "        df.loc[class_labels[i]] = [\"%.2f (%.2f-%.2f)\" % (mean, min_, max_)]\n",
        "    return df\n",
        "\n",
        "\n",
        "def get_curve(gt, pred, target_names, curve='roc'):\n",
        "    for i in range(len(target_names)):\n",
        "        if curve == 'roc':\n",
        "            curve_function = roc_curve\n",
        "            auc_roc = roc_auc_score(gt[:, i], pred[:, i])\n",
        "            label = target_names[i] + \" AUC: %.3f \" % auc_roc\n",
        "            xlabel = \"False positive rate\"\n",
        "            ylabel = \"True positive rate\"\n",
        "            a, b, _ = curve_function(gt[:, i], pred[:, i])\n",
        "            plt.figure(1, figsize=(7, 7))\n",
        "            plt.plot([0, 1], [0, 1], 'k--')\n",
        "            plt.plot(a, b, label=label)\n",
        "            plt.xlabel(xlabel)\n",
        "            plt.ylabel(ylabel)\n",
        "\n",
        "            plt.legend(loc='upper center', bbox_to_anchor=(1.3, 1),\n",
        "                       fancybox=True, ncol=1)\n",
        "        elif curve == 'prc':\n",
        "            precision, recall, _ = precision_recall_curve(gt[:, i], pred[:, i])\n",
        "            average_precision = average_precision_score(gt[:, i], pred[:, i])\n",
        "            label = target_names[i] + \" Avg.: %.3f \" % average_precision\n",
        "            plt.figure(1, figsize=(7, 7))\n",
        "            plt.step(recall, precision, where='post', label=label)\n",
        "            plt.xlabel('Recall')\n",
        "            plt.ylabel('Precision')\n",
        "            plt.ylim([0.0, 1.05])\n",
        "            plt.xlim([0.0, 1.0])\n",
        "            plt.legend(loc='upper center', bbox_to_anchor=(1.3, 1),\n",
        "                       fancybox=True, ncol=1)"
      ],
      "execution_count": null,
      "outputs": []
    },
    {
      "cell_type": "code",
      "metadata": {
        "id": "o7kn9Ajk-Ge1",
        "colab_type": "code",
        "colab": {}
      },
      "source": [
        "df1 = pd.DataFrame(test_generator.labels, columns= ['Covid'])"
      ],
      "execution_count": null,
      "outputs": []
    },
    {
      "cell_type": "code",
      "metadata": {
        "id": "9BR44CGSNJPu",
        "colab_type": "code",
        "colab": {}
      },
      "source": [
        "df1.head()"
      ],
      "execution_count": null,
      "outputs": []
    },
    {
      "cell_type": "code",
      "metadata": {
        "id": "Gy5r7kdmOFCx",
        "colab_type": "code",
        "colab": {}
      },
      "source": [
        "df2 = pd.DataFrame(predicted_vals,columns=['Covid_pred'])"
      ],
      "execution_count": null,
      "outputs": []
    },
    {
      "cell_type": "code",
      "metadata": {
        "id": "AUih-mBOOQUA",
        "colab_type": "code",
        "colab": {}
      },
      "source": [
        "df = [df1 , df2]\n",
        "\n",
        "result = pd.concat(df,axis=1)"
      ],
      "execution_count": null,
      "outputs": []
    },
    {
      "cell_type": "code",
      "metadata": {
        "id": "gLhsp7gVOrI5",
        "colab_type": "code",
        "colab": {}
      },
      "source": [
        "result"
      ],
      "execution_count": null,
      "outputs": []
    },
    {
      "cell_type": "code",
      "metadata": {
        "id": "Qa1TSk5jOtlq",
        "colab_type": "code",
        "colab": {}
      },
      "source": [
        "y = result[class_labes].values\n",
        "pred = result[pred_labels].values"
      ],
      "execution_count": null,
      "outputs": []
    },
    {
      "cell_type": "code",
      "metadata": {
        "id": "xoSybZYEPCY4",
        "colab_type": "code",
        "colab": {}
      },
      "source": [
        "result[np.concatenate([class_labes, pred_labels])].head()"
      ],
      "execution_count": null,
      "outputs": []
    },
    {
      "cell_type": "code",
      "metadata": {
        "id": "Jye_1OAOPMMb",
        "colab_type": "code",
        "colab": {}
      },
      "source": [
        "get_performance_metrics(y, pred, class_labes)"
      ],
      "execution_count": null,
      "outputs": []
    },
    {
      "cell_type": "code",
      "metadata": {
        "id": "p-pWsNbYPZe4",
        "colab_type": "code",
        "colab": {}
      },
      "source": [
        "def get_accuracy(y, pred, th=0.5):\n",
        "    \"\"\"\n",
        "    Compute accuracy of predictions at threshold.\n",
        "\n",
        "    Args:\n",
        "        y (np.array): ground truth, size (n_examples)\n",
        "        pred (np.array): model output, size (n_examples)\n",
        "        th (float): cutoff value for positive prediction from model\n",
        "    Returns:\n",
        "        accuracy (float): accuracy of predictions at threshold\n",
        "    \"\"\"\n",
        "    accuracy = 0.0\n",
        "    \n",
        "    ### START CODE HERE (REPLACE INSTANCES OF 'None' with your code) ###\n",
        "    \n",
        "    # get TP, FP, TN, FN using our previously defined functions\n",
        "    TP = true_positives(y,pred,th=0.5)\n",
        "    FP = false_positives(y,pred, th=0.5)\n",
        "    TN = true_negatives(y, pred, th=0.5)\n",
        "    FN = false_negatives(y, pred, th=0.5)\n",
        "\n",
        "    # Compute accuracy using TP, FP, TN, FN\n",
        "    accuracy = (TP+TN)/(TP+TN+FP+FN)\n",
        "    \n",
        "    ### END CODE HERE ###\n",
        "    \n",
        "    return accuracy"
      ],
      "execution_count": null,
      "outputs": []
    },
    {
      "cell_type": "code",
      "metadata": {
        "id": "J8dcuURxR9sL",
        "colab_type": "code",
        "colab": {}
      },
      "source": [
        "get_performance_metrics(y, pred, class_labes, acc=get_accuracy)"
      ],
      "execution_count": null,
      "outputs": []
    },
    {
      "cell_type": "code",
      "metadata": {
        "id": "5kI9jk80SV1w",
        "colab_type": "code",
        "colab": {}
      },
      "source": [
        "get_accuracy(result[\"Covid\"].values, np.zeros(len(result)))"
      ],
      "execution_count": null,
      "outputs": []
    },
    {
      "cell_type": "code",
      "metadata": {
        "id": "_aAu1QXPSrX7",
        "colab_type": "code",
        "colab": {}
      },
      "source": [
        "def get_prevalence(y):\n",
        "    \"\"\"\n",
        "    Compute accuracy of predictions at threshold.\n",
        "\n",
        "    Args:\n",
        "        y (np.array): ground truth, size (n_examples)\n",
        "    Returns:\n",
        "        prevalence (float): prevalence of positive cases\n",
        "    \"\"\"\n",
        "    prevalence = 0.0\n",
        "    \n",
        "    ### START CODE HERE (REPLACE INSTANCES OF 'None' with your code) ###\n",
        "    \n",
        "    prevalence = np.mean(y)\n",
        "    \n",
        "    ### END CODE HERE ###\n",
        "    \n",
        "    return prevalence"
      ],
      "execution_count": null,
      "outputs": []
    },
    {
      "cell_type": "code",
      "metadata": {
        "id": "YNzZ9S9gS2Ka",
        "colab_type": "code",
        "colab": {}
      },
      "source": [
        "get_performance_metrics(y, pred, class_labes, acc=get_accuracy, prevalence=get_prevalence)"
      ],
      "execution_count": null,
      "outputs": []
    },
    {
      "cell_type": "code",
      "metadata": {
        "id": "mcAZNPxVS754",
        "colab_type": "code",
        "colab": {}
      },
      "source": [
        "def get_sensitivity(y, pred, th=0.5):\n",
        "    \"\"\"\n",
        "    Compute sensitivity of predictions at threshold.\n",
        "\n",
        "    Args:\n",
        "        y (np.array): ground truth, size (n_examples)\n",
        "        pred (np.array): model output, size (n_examples)\n",
        "        th (float): cutoff value for positive prediction from model\n",
        "    Returns:\n",
        "        sensitivity (float): probability that our test outputs positive given that the case is actually positive\n",
        "    \"\"\"\n",
        "    sensitivity = 0.0\n",
        "    \n",
        "    ### START CODE HERE (REPLACE INSTANCES OF 'None' with your code) ###\n",
        "    \n",
        "    # get TP and FN using our previously defined functions\n",
        "    TP = true_positives(y,pred, th =0.5)\n",
        "    FN = false_negatives(y,pred, th=0.5)\n",
        "\n",
        "    # use TP and FN to compute sensitivity\n",
        "    sensitivity = TP / (TP+FN)\n",
        "    \n",
        "    ### END CODE HERE ###\n",
        "    \n",
        "    return sensitivity\n",
        "\n",
        "def get_specificity(y, pred, th=0.5):\n",
        "    \"\"\"\n",
        "    Compute specificity of predictions at threshold.\n",
        "\n",
        "    Args:\n",
        "        y (np.array): ground truth, size (n_examples)\n",
        "        pred (np.array): model output, size (n_examples)\n",
        "        th (float): cutoff value for positive prediction from model\n",
        "    Returns:\n",
        "        specificity (float): probability that the test outputs negative given that the case is actually negative\n",
        "    \"\"\"\n",
        "    specificity = 0.0\n",
        "    \n",
        "    ### START CODE HERE (REPLACE INSTANCES OF 'None' with your code) ###\n",
        "    \n",
        "    # get TN and FP using our previously defined functions\n",
        "    TN = true_negatives(y,pred,th=0.5)\n",
        "    FP = false_positives(y,pred, th=0.5)\n",
        "    \n",
        "    # use TN and FP to compute specificity \n",
        "    specificity = TN / (TN+FP)\n",
        "    \n",
        "    ### END CODE HERE ###\n",
        "    \n",
        "    return specificity"
      ],
      "execution_count": null,
      "outputs": []
    },
    {
      "cell_type": "code",
      "metadata": {
        "id": "6rr2hy6jTIEZ",
        "colab_type": "code",
        "colab": {}
      },
      "source": [
        "get_performance_metrics(y, pred, class_labes, acc=get_accuracy, prevalence=get_prevalence, \n",
        "                        sens=get_sensitivity, spec=get_specificity)"
      ],
      "execution_count": null,
      "outputs": []
    },
    {
      "cell_type": "code",
      "metadata": {
        "id": "bP0DDjZETLp7",
        "colab_type": "code",
        "colab": {}
      },
      "source": [
        "# UNQ_C5 (UNIQUE CELL IDENTIFIER, DO NOT EDIT)\n",
        "def get_ppv(y, pred, th=0.5):\n",
        "    \"\"\"\n",
        "    Compute PPV of predictions at threshold.\n",
        "\n",
        "    Args:\n",
        "        y (np.array): ground truth, size (n_examples)\n",
        "        pred (np.array): model output, size (n_examples)\n",
        "        th (float): cutoff value for positive prediction from model\n",
        "    Returns:\n",
        "        PPV (float): positive predictive value of predictions at threshold\n",
        "    \"\"\"\n",
        "    PPV = 0.0\n",
        "    \n",
        "    ### START CODE HERE (REPLACE INSTANCES OF 'None' with your code) ###\n",
        "    \n",
        "    # get TP and FP using our previously defined functions\n",
        "    TP = true_positives(y,pred,th=0.5)\n",
        "    FP = false_positives(y,pred, th =0.5)\n",
        "\n",
        "    # use TP and FP to compute PPV\n",
        "    PPV = TP / (TP+FP)\n",
        "    \n",
        "    ### END CODE HERE ###\n",
        "    \n",
        "    return PPV\n",
        "\n",
        "def get_npv(y, pred, th=0.5):\n",
        "    \"\"\"\n",
        "    Compute NPV of predictions at threshold.\n",
        "\n",
        "    Args:\n",
        "        y (np.array): ground truth, size (n_examples)\n",
        "        pred (np.array): model output, size (n_examples)\n",
        "        th (float): cutoff value for positive prediction from model\n",
        "    Returns:\n",
        "        NPV (float): negative predictive value of predictions at threshold\n",
        "    \"\"\"\n",
        "    NPV = 0.0\n",
        "    \n",
        "    ### START CODE HERE (REPLACE INSTANCES OF 'None' with your code) ###\n",
        "    \n",
        "    # get TN and FN using our previously defined functions\n",
        "    TN = true_negatives(y,pred,th=0.5)\n",
        "    FN = false_negatives(y,pred,th=0.5)\n",
        "\n",
        "    # use TN and FN to compute NPV\n",
        "    NPV = TN / (FN+TN)\n",
        "    \n",
        "    ### END CODE HERE ###\n",
        "    \n",
        "    return NPV"
      ],
      "execution_count": null,
      "outputs": []
    },
    {
      "cell_type": "code",
      "metadata": {
        "id": "Oy6U9qRqULtP",
        "colab_type": "code",
        "colab": {}
      },
      "source": [
        "get_performance_metrics(y, pred, class_labes, acc=get_accuracy, prevalence=get_prevalence, \n",
        "                        sens=get_sensitivity, spec=get_specificity, ppv=get_ppv, npv=get_npv)"
      ],
      "execution_count": null,
      "outputs": []
    },
    {
      "cell_type": "code",
      "metadata": {
        "id": "k1ZHhwDMUOuh",
        "colab_type": "code",
        "colab": {}
      },
      "source": [
        "get_curve(y, pred, class_labes)"
      ],
      "execution_count": null,
      "outputs": []
    },
    {
      "cell_type": "code",
      "metadata": {
        "id": "zrJWnzyGU12-",
        "colab_type": "code",
        "colab": {}
      },
      "source": [
        "from sklearn.metrics import roc_auc_score\n",
        "get_performance_metrics(y, pred, class_labes, acc=get_accuracy, prevalence=get_prevalence, \n",
        "                        sens=get_sensitivity, spec=get_specificity, ppv=get_ppv, npv=get_npv, auc=roc_auc_score)"
      ],
      "execution_count": null,
      "outputs": []
    },
    {
      "cell_type": "code",
      "metadata": {
        "id": "zfQScUIHU9Rn",
        "colab_type": "code",
        "colab": {}
      },
      "source": [
        "def bootstrap_auc(y, pred, classes, bootstraps = 100, fold_size = 1000):\n",
        "    statistics = np.zeros((len(classes), bootstraps))\n",
        "\n",
        "    for c in range(len(classes)):\n",
        "        df = pd.DataFrame(columns=['y', 'pred'])\n",
        "        df.loc[:, 'y'] = y[:, c]\n",
        "        df.loc[:, 'pred'] = pred[:, c]\n",
        "        # get positive examples for stratified sampling\n",
        "        df_pos = df[df.y == 1]\n",
        "        df_neg = df[df.y == 0]\n",
        "        prevalence = len(df_pos) / len(df)\n",
        "        for i in range(bootstraps):\n",
        "            # stratified sampling of positive and negative examples\n",
        "            pos_sample = df_pos.sample(n = int(fold_size * prevalence), replace=True)\n",
        "            neg_sample = df_neg.sample(n = int(fold_size * (1-prevalence)), replace=True)\n",
        "\n",
        "            y_sample = np.concatenate([pos_sample.y.values, neg_sample.y.values])\n",
        "            pred_sample = np.concatenate([pos_sample.pred.values, neg_sample.pred.values])\n",
        "            score = roc_auc_score(y_sample, pred_sample)\n",
        "            statistics[c][i] = score\n",
        "    return statistics\n",
        "\n",
        "statistics = bootstrap_auc(y, pred, class_labes)"
      ],
      "execution_count": null,
      "outputs": []
    },
    {
      "cell_type": "code",
      "metadata": {
        "id": "IT_4jHscVVsi",
        "colab_type": "code",
        "colab": {}
      },
      "source": [
        "print_confidence_intervals(class_labes, statistics)"
      ],
      "execution_count": null,
      "outputs": []
    },
    {
      "cell_type": "code",
      "metadata": {
        "id": "GFwto3bpVjxu",
        "colab_type": "code",
        "colab": {}
      },
      "source": [
        "get_curve(y, pred, class_labes, curve='prc')"
      ],
      "execution_count": null,
      "outputs": []
    },
    {
      "cell_type": "code",
      "metadata": {
        "id": "Hbq5c9LFVx1F",
        "colab_type": "code",
        "colab": {}
      },
      "source": [
        "from sklearn.metrics import f1_score\n",
        "get_performance_metrics(y, pred, class_labes, acc=get_accuracy, prevalence=get_prevalence, \n",
        "                        sens=get_sensitivity, spec=get_specificity, ppv=get_ppv, npv=get_npv, auc=roc_auc_score,f1=f1_score)"
      ],
      "execution_count": null,
      "outputs": []
    },
    {
      "cell_type": "code",
      "metadata": {
        "id": "Vn9NrtceV4T_",
        "colab_type": "code",
        "colab": {}
      },
      "source": [
        "from sklearn.calibration import calibration_curve\n",
        "def plot_calibration_curve(y, pred):\n",
        "    plt.figure(figsize=(20, 20))\n",
        "    for i in range(len(class_labes)):\n",
        "        plt.subplot(4, 4, i + 1)\n",
        "        fraction_of_positives, mean_predicted_value = calibration_curve(y[:,i], pred[:,i], n_bins=20)\n",
        "        plt.plot([0, 1], [0, 1], linestyle='--')\n",
        "        plt.plot(mean_predicted_value, fraction_of_positives, marker='.')\n",
        "        plt.xlabel(\"Predicted Value\")\n",
        "        plt.ylabel(\"Fraction of Positives\")\n",
        "        plt.title(class_labes[i])\n",
        "    plt.tight_layout()\n",
        "    plt.show()"
      ],
      "execution_count": null,
      "outputs": []
    },
    {
      "cell_type": "code",
      "metadata": {
        "id": "krq6ohImWKXu",
        "colab_type": "code",
        "colab": {}
      },
      "source": [
        "plot_calibration_curve(y, pred)"
      ],
      "execution_count": null,
      "outputs": []
    },
    {
      "cell_type": "code",
      "metadata": {
        "id": "eipiQ7EQWR03",
        "colab_type": "code",
        "colab": {}
      },
      "source": [
        ""
      ],
      "execution_count": null,
      "outputs": []
    },
    {
      "cell_type": "code",
      "metadata": {
        "id": "spa-Oux4oHK7",
        "colab_type": "code",
        "colab": {}
      },
      "source": [
        ""
      ],
      "execution_count": null,
      "outputs": []
    }
  ]
}