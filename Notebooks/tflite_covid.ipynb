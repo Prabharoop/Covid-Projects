{
  "nbformat": 4,
  "nbformat_minor": 0,
  "metadata": {
    "colab": {
      "name": "tflite-covid.ipynb",
      "provenance": [],
      "toc_visible": true
    },
    "kernelspec": {
      "name": "python3",
      "display_name": "Python 3"
    },
    "accelerator": "GPU"
  },
  "cells": [
    {
      "cell_type": "markdown",
      "metadata": {
        "id": "Vg8MPwIaV-13",
        "colab_type": "text"
      },
      "source": [
        "# **IMPORTS AND HELPER FUNCTIONS**"
      ]
    },
    {
      "cell_type": "code",
      "metadata": {
        "id": "1KZUS_StVzuV",
        "colab_type": "code",
        "colab": {
          "base_uri": "https://localhost:8080/",
          "height": 104
        },
        "outputId": "8828651a-7c41-47b7-9c83-4bb849bf90ce"
      },
      "source": [
        "import pandas as pd\n",
        "import numpy as np\n",
        "import matplotlib.pyplot as plt\n",
        "import tensorflow as tf\n",
        "import tensorflow.keras.backend as K\n",
        "from tensorflow.keras.layers import Dense, Flatten, MaxPooling2D, GlobalAveragePooling2D, AveragePooling2D, Dropout, BatchNormalization, Input\n",
        "from tensorflow.keras.models import load_model, Sequential, Model\n",
        "from tensorflow.keras.preprocessing.image import ImageDataGenerator\n",
        "from imblearn.under_sampling import RandomUnderSampler\n",
        "from tensorflow.keras.applications import VGG16, VGG19, ResNet50, ResNet101\n",
        "from sklearn.model_selection import KFold\n",
        "from tensorflow.keras.metrics import AUC, BinaryAccuracy\n",
        "from tensorflow.keras.regularizers import l2, l1, l1_l2\n",
        "from tensorflow.keras.activations import sigmoid, relu\n",
        "from tensorflow.keras.callbacks import EarlyStopping, ModelCheckpoint\n",
        "from tensorflow.keras.optimizers import Adam\n",
        "from tensorflow.keras.callbacks import Callback, LambdaCallback\n",
        "import math"
      ],
      "execution_count": null,
      "outputs": [
        {
          "output_type": "stream",
          "text": [
            "/usr/local/lib/python3.6/dist-packages/sklearn/externals/six.py:31: FutureWarning: The module is deprecated in version 0.21 and will be removed in version 0.23 since we've dropped support for Python 2.7. Please rely on the official version of six (https://pypi.org/project/six/).\n",
            "  \"(https://pypi.org/project/six/).\", FutureWarning)\n",
            "/usr/local/lib/python3.6/dist-packages/sklearn/utils/deprecation.py:144: FutureWarning: The sklearn.neighbors.base module is  deprecated in version 0.22 and will be removed in version 0.24. The corresponding classes / functions should instead be imported from sklearn.neighbors. Anything that cannot be imported from sklearn.neighbors is now part of the private API.\n",
            "  warnings.warn(message, FutureWarning)\n"
          ],
          "name": "stderr"
        }
      ]
    },
    {
      "cell_type": "code",
      "metadata": {
        "id": "IZoOH3esWV8V",
        "colab_type": "code",
        "colab": {}
      },
      "source": [
        "class CyclicLR(Callback):\n",
        "    \"\"\"This callback implements a cyclical learning rate policy (CLR).\n",
        "    The method cycles the learning rate between two boundaries with\n",
        "    some constant frequency.\n",
        "    # Arguments\n",
        "        base_lr: initial learning rate which is the\n",
        "            lower boundary in the cycle.\n",
        "        max_lr: upper boundary in the cycle. Functionally,\n",
        "            it defines the cycle amplitude (max_lr - base_lr).\n",
        "            The lr at any cycle is the sum of base_lr\n",
        "            and some scaling of the amplitude; therefore\n",
        "            max_lr may not actually be reached depending on\n",
        "            scaling function.\n",
        "        step_size: number of training iterations per\n",
        "            half cycle. Authors suggest setting step_size\n",
        "            2-8 x training iterations in epoch.\n",
        "        mode: one of {triangular, triangular2, exp_range}.\n",
        "            Default 'triangular'.\n",
        "            Values correspond to policies detailed above.\n",
        "            If scale_fn is not None, this argument is ignored.\n",
        "        gamma: constant in 'exp_range' scaling function:\n",
        "            gamma**(cycle iterations)\n",
        "        scale_fn: Custom scaling policy defined by a single\n",
        "            argument lambda function, where\n",
        "            0 <= scale_fn(x) <= 1 for all x >= 0.\n",
        "            mode paramater is ignored\n",
        "        scale_mode: {'cycle', 'iterations'}.\n",
        "            Defines whether scale_fn is evaluated on\n",
        "            cycle number or cycle iterations (training\n",
        "            iterations since start of cycle). Default is 'cycle'.\n",
        "\n",
        "    The amplitude of the cycle can be scaled on a per-iteration or\n",
        "    per-cycle basis.\n",
        "    This class has three built-in policies, as put forth in the paper.\n",
        "    \"triangular\":\n",
        "        A basic triangular cycle w/ no amplitude scaling.\n",
        "    \"triangular2\":\n",
        "        A basic triangular cycle that scales initial amplitude by half each cycle.\n",
        "    \"exp_range\":\n",
        "        A cycle that scales initial amplitude by gamma**(cycle iterations) at each\n",
        "        cycle iteration.\n",
        "    For more detail, please see paper.\n",
        "\n",
        "    # Example for CIFAR-10 w/ batch size 100:\n",
        "        ```python\n",
        "            clr = CyclicLR(base_lr=0.001, max_lr=0.006,\n",
        "                                step_size=2000., mode='triangular')\n",
        "            model.fit(X_train, Y_train, callbacks=[clr])\n",
        "        ```\n",
        "\n",
        "    Class also supports custom scaling functions:\n",
        "        ```python\n",
        "            clr_fn = lambda x: 0.5*(1+np.sin(x*np.pi/2.))\n",
        "            clr = CyclicLR(base_lr=0.001, max_lr=0.006,\n",
        "                                step_size=2000., scale_fn=clr_fn,\n",
        "                                scale_mode='cycle')\n",
        "            model.fit(X_train, Y_train, callbacks=[clr])\n",
        "        ```\n",
        "\n",
        "    # References\n",
        "\n",
        "      - [Cyclical Learning Rates for Training Neural Networks](\n",
        "      https://arxiv.org/abs/1506.01186)\n",
        "    \"\"\"\n",
        "\n",
        "    def __init__(\n",
        "            self,\n",
        "            base_lr=0.001,\n",
        "            max_lr=0.006,\n",
        "            step_size=2000.,\n",
        "            mode='triangular',\n",
        "            gamma=1.,\n",
        "            scale_fn=None,\n",
        "            scale_mode='cycle'):\n",
        "        super(CyclicLR, self).__init__()\n",
        "\n",
        "        if mode not in ['triangular', 'triangular2',\n",
        "                        'exp_range']:\n",
        "            raise KeyError(\"mode must be one of 'triangular', \"\n",
        "                           \"'triangular2', or 'exp_range'\")\n",
        "        self.base_lr = base_lr\n",
        "        self.max_lr = max_lr\n",
        "        self.step_size = step_size\n",
        "        self.mode = mode\n",
        "        self.gamma = gamma\n",
        "        if scale_fn is None:\n",
        "            if self.mode == 'triangular':\n",
        "                self.scale_fn = lambda x: 1.\n",
        "                self.scale_mode = 'cycle'\n",
        "            elif self.mode == 'triangular2':\n",
        "                self.scale_fn = lambda x: 1 / (2.**(x - 1))\n",
        "                self.scale_mode = 'cycle'\n",
        "            elif self.mode == 'exp_range':\n",
        "                self.scale_fn = lambda x: gamma ** x\n",
        "                self.scale_mode = 'iterations'\n",
        "        else:\n",
        "            self.scale_fn = scale_fn\n",
        "            self.scale_mode = scale_mode\n",
        "        self.clr_iterations = 0.\n",
        "        self.trn_iterations = 0.\n",
        "        self.history = {}\n",
        "\n",
        "        self._reset()\n",
        "\n",
        "    def _reset(self, new_base_lr=None, new_max_lr=None,\n",
        "               new_step_size=None):\n",
        "        \"\"\"Resets cycle iterations.\n",
        "        Optional boundary/step size adjustment.\n",
        "        \"\"\"\n",
        "        if new_base_lr is not None:\n",
        "            self.base_lr = new_base_lr\n",
        "        if new_max_lr is not None:\n",
        "            self.max_lr = new_max_lr\n",
        "        if new_step_size is not None:\n",
        "            self.step_size = new_step_size\n",
        "        self.clr_iterations = 0.\n",
        "\n",
        "    def clr(self):\n",
        "        cycle = np.floor(1 + self.clr_iterations / (2 * self.step_size))\n",
        "        x = np.abs(self.clr_iterations / self.step_size - 2 * cycle + 1)\n",
        "        if self.scale_mode == 'cycle':\n",
        "            return self.base_lr + (self.max_lr - self.base_lr) * \\\n",
        "                np.maximum(0, (1 - x)) * self.scale_fn(cycle)\n",
        "        else:\n",
        "            return self.base_lr + (self.max_lr - self.base_lr) * \\\n",
        "                np.maximum(0, (1 - x)) * self.scale_fn(self.clr_iterations)\n",
        "\n",
        "    def on_train_begin(self, logs={}):\n",
        "        logs = logs or {}\n",
        "\n",
        "        if self.clr_iterations == 0:\n",
        "            K.set_value(self.model.optimizer.lr, self.base_lr)\n",
        "        else:\n",
        "            K.set_value(self.model.optimizer.lr, self.clr())\n",
        "\n",
        "    def on_batch_end(self, epoch, logs=None):\n",
        "\n",
        "        logs = logs or {}\n",
        "        self.trn_iterations += 1\n",
        "        self.clr_iterations += 1\n",
        "        K.set_value(self.model.optimizer.lr, self.clr())\n",
        "\n",
        "        self.history.setdefault(\n",
        "            'lr', []).append(\n",
        "            K.get_value(\n",
        "                self.model.optimizer.lr))\n",
        "        self.history.setdefault('iterations', []).append(self.trn_iterations)\n",
        "\n",
        "        for k, v in logs.items():\n",
        "            self.history.setdefault(k, []).append(v)\n",
        "\n",
        "    def on_epoch_end(self, epoch, logs=None):\n",
        "        logs = logs or {}\n",
        "        logs['lr'] = K.get_value(self.model.optimizer.lr)"
      ],
      "execution_count": null,
      "outputs": []
    },
    {
      "cell_type": "code",
      "metadata": {
        "id": "Oqaq-voYY8zZ",
        "colab_type": "code",
        "colab": {}
      },
      "source": [
        "def get_train_generator(df, image_dir, x_col, y_cols, shuffle=True, batch_size=8, seed=1, target_w = 200, target_h =200):\n",
        "    \"\"\"\n",
        "    Return generator for training set, normalizing using batch\n",
        "    statistics.\n",
        "\n",
        "    Args:\n",
        "      train_df (dataframe): dataframe specifying training data.\n",
        "      image_dir (str): directory where image files are held.\n",
        "      x_col (str): name of column in df that holds filenames.\n",
        "      y_cols (list): list of strings that hold y labels for images.\n",
        "      sample_size (int): size of sample to use for normalization statistics.\n",
        "      batch_size (int): images per batch to be fed into model during training.\n",
        "      seed (int): random seed.\n",
        "      target_w (int): final width of input images.\n",
        "      target_h (int): final height of input images.\n",
        "    \n",
        "    Returns:\n",
        "        train_generator (DataFrameIterator): iterator over training set\n",
        "    \"\"\"        \n",
        "    print(\"getting train generator...\") \n",
        "    # normalize images\n",
        "    image_generator = ImageDataGenerator(\n",
        "        samplewise_center=True,\n",
        "        samplewise_std_normalization= True)\n",
        "    \n",
        "    # flow from directory with specified batch size\n",
        "    # and target image size\n",
        "    generator = image_generator.flow_from_dataframe(\n",
        "            dataframe=df,\n",
        "            directory=image_dir,\n",
        "            x_col=x_col,\n",
        "            y_col=y_cols,\n",
        "            class_mode=\"raw\",\n",
        "            batch_size=batch_size,\n",
        "            shuffle=shuffle,\n",
        "            seed=seed,\n",
        "            target_size=(target_w,target_h))\n",
        "    \n",
        "    return generator\n",
        "\n",
        "def get_test_and_valid_generator(valid_df, test_df, train_df, image_dir, x_col, y_cols, sample_size=100, batch_size=8, seed=1, target_w = 200, target_h = 200):\n",
        "    \"\"\"\n",
        "    Return generator for validation set and test test set using \n",
        "    normalization statistics from training set.\n",
        "\n",
        "    Args:\n",
        "      valid_df (dataframe): dataframe specifying validation data.\n",
        "      test_df (dataframe): dataframe specifying test data.\n",
        "      train_df (dataframe): dataframe specifying training data.\n",
        "      image_dir (str): directory where image files are held.\n",
        "      x_col (str): name of column in df that holds filenames.\n",
        "      y_cols (list): list of strings that hold y labels for images.\n",
        "      sample_size (int): size of sample to use for normalization statistics.\n",
        "      batch_size (int): images per batch to be fed into model during training.\n",
        "      seed (int): random seed.\n",
        "      target_w (int): final width of input images.\n",
        "      target_h (int): final height of input images.\n",
        "    \n",
        "    Returns:\n",
        "        test_generator (DataFrameIterator) and valid_generator: iterators over test set and validation set respectively\n",
        "    \"\"\"\n",
        "    print(\"getting train and valid generators...\")\n",
        "    # get generator to sample dataset\n",
        "    raw_train_generator = ImageDataGenerator().flow_from_dataframe(\n",
        "        dataframe=train_df, \n",
        "        directory=IMG_DIR, \n",
        "        x_col=\"Source\", \n",
        "        y_col=labels, \n",
        "        class_mode=\"raw\", \n",
        "        batch_size=sample_size, \n",
        "        shuffle=True, \n",
        "        target_size=(target_w, target_h))\n",
        "    \n",
        "    # get data sample\n",
        "    batch = raw_train_generator.next()\n",
        "    data_sample = batch[0]\n",
        "\n",
        "    # use sample to fit mean and std for test set generator\n",
        "    image_generator = ImageDataGenerator(\n",
        "        featurewise_center=True,\n",
        "        featurewise_std_normalization= True)\n",
        "    \n",
        "    # fit generator to sample from training data\n",
        "    image_generator.fit(data_sample)\n",
        "\n",
        "    # get test generator\n",
        "    valid_generator = image_generator.flow_from_dataframe(\n",
        "            dataframe=valid_df,\n",
        "            directory=image_dir,\n",
        "            x_col=x_col,\n",
        "            y_col=y_cols,\n",
        "            class_mode=\"raw\",\n",
        "            batch_size=batch_size,\n",
        "            shuffle=False,\n",
        "            seed=seed,\n",
        "            target_size=(target_w,target_h))\n",
        "\n",
        "    test_generator = image_generator.flow_from_dataframe(\n",
        "            dataframe=test_df,\n",
        "            directory=image_dir,\n",
        "            x_col=x_col,\n",
        "            y_col=y_cols,\n",
        "            class_mode=\"raw\",\n",
        "            batch_size=batch_size,\n",
        "            shuffle=False,\n",
        "            seed=seed,\n",
        "            target_size=(target_w,target_h))\n",
        "    return valid_generator, test_generator"
      ],
      "execution_count": null,
      "outputs": []
    },
    {
      "cell_type": "code",
      "metadata": {
        "id": "9DbCG_JwZJSd",
        "colab_type": "code",
        "colab": {}
      },
      "source": [
        "def get_weighted_loss(pos_weights, neg_weights, epsilon=1e-7):\n",
        "    \"\"\"\n",
        "    Return weighted loss function given negative weights and positive weights.\n",
        "\n",
        "    Args:\n",
        "      pos_weights (np.array): array of positive weights for each class, size (num_classes)\n",
        "      neg_weights (np.array): array of negative weights for each class, size (num_classes)\n",
        "    \n",
        "    Returns:\n",
        "      weighted_loss (function): weighted loss function\n",
        "    \"\"\"\n",
        "    def weighted_loss(y_true, y_pred):\n",
        "        \"\"\"\n",
        "        Return weighted loss value. \n",
        "\n",
        "        Args:\n",
        "            y_true (Tensor): Tensor of true labels, size is (num_examples, num_classes)\n",
        "            y_pred (Tensor): Tensor of predicted labels, size is (num_examples, num_classes)\n",
        "        Returns:\n",
        "            loss (Tensor): overall scalar loss summed across all classes\n",
        "        \"\"\"\n",
        "        # initialize loss to zero\n",
        "        loss = 0.0\n",
        "        \n",
        "\n",
        "        for i in range(len(pos_weights)):\n",
        "            # for each class, add average weighted loss for that class \n",
        "            loss += -K.mean(pos_weights[i]*y_true[:,i]*K.log(y_pred[:,i]+epsilon) + neg_weights[i]*(1-y_true[:,i])*K.log(1-y_pred[:,i]+epsilon)) \n",
        "        return loss\n",
        "    return weighted_loss"
      ],
      "execution_count": null,
      "outputs": []
    },
    {
      "cell_type": "code",
      "metadata": {
        "id": "SmB--NUoZ_Jj",
        "colab_type": "code",
        "colab": {}
      },
      "source": [
        "def compute_class_freqs(labels):\n",
        "    \"\"\"\n",
        "    Compute positive and negative frequences for each class.\n",
        "\n",
        "    Args:\n",
        "        labels (np.array): matrix of labels, size (num_examples, num_classes)\n",
        "    Returns:\n",
        "        positive_frequencies (np.array): array of positive frequences for each\n",
        "                                         class, size (num_classes)\n",
        "        negative_frequencies (np.array): array of negative frequences for each\n",
        "                                         class, size (num_classes)\n",
        "    \"\"\"\n",
        "    ### START CODE HERE (REPLACE INSTANCES OF 'None' with your code) ###\n",
        "    \n",
        "    # total number of patients (rows)\n",
        "    N = labels.shape[0]\n",
        "    \n",
        "    positive_frequencies = np.sum(labels,axis=0)/N\n",
        "    negative_frequencies = np.ones_like(positive_frequencies) - positive_frequencies\n",
        "\n",
        "    ### END CODE HERE ###\n",
        "    return positive_frequencies, negative_frequencies"
      ],
      "execution_count": null,
      "outputs": []
    },
    {
      "cell_type": "code",
      "metadata": {
        "id": "u5gQeeYEaBGH",
        "colab_type": "code",
        "colab": {}
      },
      "source": [
        "class LRFinder:\n",
        "    \"\"\"\n",
        "    Plots the change of the loss function of a Keras model when the learning rate is exponentially increasing.\n",
        "    See for details:\n",
        "    https://towardsdatascience.com/estimating-optimal-learning-rate-for-a-deep-neural-network-ce32f2556ce0\n",
        "    \"\"\"\n",
        "\n",
        "    def __init__(self, model):\n",
        "        self.model = model\n",
        "        self.losses = []\n",
        "        self.lrs = []\n",
        "        self.best_loss = 1e9\n",
        "\n",
        "    def on_batch_end(self, batch, logs):\n",
        "        # Log the learning rate\n",
        "        lr = K.get_value(self.model.optimizer.learning_rate)\n",
        "        self.lrs.append(lr)\n",
        "\n",
        "        # Log the loss\n",
        "        loss = logs['loss']\n",
        "        self.losses.append(loss)\n",
        "\n",
        "        # Check whether the loss got too large or NaN\n",
        "        if batch > 5 and (math.isnan(loss) or loss > self.best_loss * 4):\n",
        "            self.model.stop_training = True\n",
        "            return\n",
        "\n",
        "        if loss < self.best_loss:\n",
        "            self.best_loss = loss\n",
        "\n",
        "        # Increase the learning rate for the next batch\n",
        "        lr *= self.lr_mult\n",
        "        K.set_value(self.model.optimizer.learning_rate, lr)\n",
        "\n",
        "    def find(self, x_train, y_train, start_lr, end_lr, batch_size=64, epochs=1):\n",
        "        # If x_train contains data for multiple inputs, use length of the first input.\n",
        "        # Assumption: the first element in the list is single input; NOT a list of inputs.\n",
        "        N = x_train[0].shape[0] if isinstance(x_train, list) else x_train.shape[0]\n",
        "\n",
        "        # Compute number of batches and LR multiplier\n",
        "        num_batches = epochs * N / batch_size\n",
        "        self.lr_mult = (float(end_lr) / float(start_lr)) ** (float(1) / float(num_batches))\n",
        "        # Save weights into a file\n",
        "        self.model.save_weights('tmp.h5')\n",
        "\n",
        "        # Remember the original learning rate\n",
        "        original_lr = K.get_value(self.model.optimizer.learning_rate)\n",
        "\n",
        "        # Set the initial learning rate\n",
        "        K.set_value(self.model.optimizer.learning_rate, start_lr)\n",
        "\n",
        "        self.model.fit(x_train, y_train,\n",
        "                       batch_size=batch_size, epochs=epochs,\n",
        "                       callbacks=[LambdaCallback(on_batch_end=lambda batch, logs: self.on_batch_end(batch, logs))])\n",
        "\n",
        "        # Restore the weights to the state before model fitting\n",
        "        self.model.load_weights('tmp.h5')\n",
        "\n",
        "        # Restore the original learning rate\n",
        "        K.set_value(self.model.optimizer.learning_rate, original_lr)\n",
        "\n",
        "    def find_generator(self, generator, start_lr, end_lr, epochs=1, steps_per_epoch=None, **kw_fit):\n",
        "        if steps_per_epoch is None:\n",
        "            try:\n",
        "                steps_per_epoch = len(generator)\n",
        "            except (ValueError, NotImplementedError) as e:\n",
        "                raise e('`steps_per_epoch=None` is only valid for a'\n",
        "                        ' generator based on the '\n",
        "                        '`keras.utils.Sequence`'\n",
        "                        ' class. Please specify `steps_per_epoch` '\n",
        "                        'or use the `keras.utils.Sequence` class.')\n",
        "        self.lr_mult = (float(end_lr) / float(start_lr)) ** (float(1) / float(epochs * steps_per_epoch))\n",
        "\n",
        "        # Save weights into a file\n",
        "        self.model.save_weights('tmp.h5')\n",
        "\n",
        "        # Remember the original learning rate\n",
        "        original_lr = K.get_value(self.model.optimizer.learning_rate)\n",
        "\n",
        "        # Set the initial learning rate\n",
        "        K.set_value(self.model.optimizer.learning_rate, start_lr)\n",
        "\n",
        "\n",
        "        self.model.fit_generator(generator=generator,\n",
        "                                 epochs=epochs,\n",
        "                                 steps_per_epoch=steps_per_epoch,\n",
        "                                 callbacks=[ LambdaCallback(on_batch_end=lambda batch,\n",
        "                                                      logs: self.on_batch_end(batch, logs))],\n",
        "                                 **kw_fit)\n",
        "\n",
        "        # Restore the weights to the state before model fitting\n",
        "        self.model.load_weights('tmp.h5')\n",
        "\n",
        "        # Restore the original learning rate\n",
        "        K.set_value(self.model.optimizer.learning_rate, original_lr)\n",
        "\n",
        "    def plot_loss(self, n_skip_beginning=10, n_skip_end=5, x_scale='log'):\n",
        "        \"\"\"\n",
        "        Plots the loss.\n",
        "        Parameters:\n",
        "            n_skip_beginning - number of batches to skip on the left.\n",
        "            n_skip_end - number of batches to skip on the right.\n",
        "        \"\"\"\n",
        "        plt.ylabel(\"loss\")\n",
        "        plt.xlabel(\"learning rate (log scale)\")\n",
        "        plt.plot(self.lrs[n_skip_beginning:-n_skip_end], self.losses[n_skip_beginning:-n_skip_end])\n",
        "        plt.xscale(x_scale)\n",
        "        plt.show()\n",
        "\n",
        "    def plot_loss_change(self, sma=1, n_skip_beginning=10, n_skip_end=5, y_lim=(-0.01, 0.01)):\n",
        "        \"\"\"\n",
        "        Plots rate of change of the loss function.\n",
        "        Parameters:\n",
        "            sma - number of batches for simple moving average to smooth out the curve.\n",
        "            n_skip_beginning - number of batches to skip on the left.\n",
        "            n_skip_end - number of batches to skip on the right.\n",
        "            y_lim - limits for the y axis.\n",
        "        \"\"\"\n",
        "        derivatives = self.get_derivatives(sma)[n_skip_beginning:-n_skip_end]\n",
        "        lrs = self.lrs[n_skip_beginning:-n_skip_end]\n",
        "        plt.ylabel(\"rate of loss change\")\n",
        "        plt.xlabel(\"learning rate (log scale)\")\n",
        "        plt.plot(lrs, derivatives)\n",
        "        plt.xscale('log')\n",
        "        plt.ylim(y_lim)\n",
        "        plt.show()\n",
        "\n",
        "    def get_derivatives(self, sma):\n",
        "        assert sma >= 1\n",
        "        derivatives = [0] * sma\n",
        "        for i in range(sma, len(self.lrs)):\n",
        "            derivatives.append((self.losses[i] - self.losses[i - sma]) / sma)\n",
        "        return derivatives\n",
        "\n",
        "    def get_best_lr(self, sma, n_skip_beginning=10, n_skip_end=5):\n",
        "        derivatives = self.get_derivatives(sma)\n",
        "        best_der_idx = np.argmax(derivatives[n_skip_beginning:-n_skip_end])[0]\n",
        "        return self.lrs[n_skip_beginning:-n_skip_end][best_der_idx]"
      ],
      "execution_count": null,
      "outputs": []
    },
    {
      "cell_type": "code",
      "metadata": {
        "id": "g2LE5mY4bzhb",
        "colab_type": "code",
        "colab": {}
      },
      "source": [
        "def find_lr(model_parm, data,epochs):\n",
        "  X_batch, y_batch = next(data)\n",
        "  X_idxs_resampled, _ = RandomUnderSampler().fit_resample(\n",
        "      np.asarray(range(len(X_batch)))[:, np.newaxis], \n",
        "      y_batch)\n",
        "  X_batch, y_batch = X_batch[X_idxs_resampled[:, 0]], y_batch[X_idxs_resampled[:, 0]]\n",
        "  print(X_batch.shape)\n",
        "  lr_finder = LRFinder(model_parm)\n",
        "  lr_finder.find(X_batch, y_batch, start_lr=1e-20, end_lr=1e+5, batch_size=16, epochs=epochs)\n",
        "  return lr_finder.plot_loss()"
      ],
      "execution_count": null,
      "outputs": []
    },
    {
      "cell_type": "code",
      "metadata": {
        "id": "oUs7frUFmsNo",
        "colab_type": "code",
        "colab": {}
      },
      "source": [
        "def get_model_name(k):\n",
        "    return 'model_{}.h5'.format(k)"
      ],
      "execution_count": null,
      "outputs": []
    },
    {
      "cell_type": "markdown",
      "metadata": {
        "id": "5QdrRCDlaZSW",
        "colab_type": "text"
      },
      "source": [
        "# **DATA HANDLING**"
      ]
    },
    {
      "cell_type": "code",
      "metadata": {
        "id": "fF9MiQbkacuk",
        "colab_type": "code",
        "colab": {}
      },
      "source": [
        "train_df = pd.read_excel('/content/drive/My Drive/Files-Covid/train.xlsx')\n",
        "test_df = pd.read_excel('/content/drive/My Drive/Files-Covid/test.xlsx')\n",
        "valid_df = pd.read_excel('/content/drive/My Drive/Files-Covid/valid.xlsx')\n",
        "labels = ['Covid']"
      ],
      "execution_count": null,
      "outputs": []
    },
    {
      "cell_type": "code",
      "metadata": {
        "id": "orXIBD17alq8",
        "colab_type": "code",
        "colab": {
          "base_uri": "https://localhost:8080/",
          "height": 218
        },
        "outputId": "9236f9a9-374f-47bd-e500-32e44dc0b6bc"
      },
      "source": [
        "IMG_DIR = \"/content/drive/My Drive/Files-Covid/IMG_DIR/\"\n",
        "train_generator_96 = get_train_generator(train_df, IMG_DIR, \"Source\", labels,target_w = 96, target_h = 96)\n",
        "valid_generator_96, test_generator_96= get_test_and_valid_generator(valid_df, test_df, train_df, IMG_DIR, \"Source\", labels, target_w = 96, target_h = 96)\n",
        "\n",
        "train_generator_192 = get_train_generator(train_df, IMG_DIR, \"Source\", labels,target_w = 192, target_h = 192)\n",
        "valid_generator_192, test_generator_192= get_test_and_valid_generator(valid_df, test_df, train_df, IMG_DIR, \"Source\", labels, target_w = 192, target_h = 192)"
      ],
      "execution_count": null,
      "outputs": [
        {
          "output_type": "stream",
          "text": [
            "getting train generator...\n",
            "Found 425 validated image filenames.\n",
            "getting train and valid generators...\n",
            "Found 425 validated image filenames.\n",
            "Found 118 validated image filenames.\n",
            "Found 203 validated image filenames.\n",
            "getting train generator...\n",
            "Found 425 validated image filenames.\n",
            "getting train and valid generators...\n",
            "Found 425 validated image filenames.\n",
            "Found 118 validated image filenames.\n",
            "Found 203 validated image filenames.\n"
          ],
          "name": "stdout"
        }
      ]
    },
    {
      "cell_type": "code",
      "metadata": {
        "id": "Hq9koOztanmn",
        "colab_type": "code",
        "colab": {
          "base_uri": "https://localhost:8080/",
          "height": 84
        },
        "outputId": "eadf7864-81e2-4efe-d746-05f465dd377f"
      },
      "source": [
        "freq_pos_96, freq_neg_96 = compute_class_freqs(train_generator_96.labels)\n",
        "freq_pos_192, freq_neg_192 = compute_class_freqs(train_generator_192.labels)\n",
        "print(freq_pos_96)\n",
        "print(freq_neg_96)\n",
        "print(freq_pos_192)\n",
        "print(freq_neg_192)\n",
        "pos_weights_96 = freq_neg_96\n",
        "neg_weights_96 = freq_pos_96\n",
        "pos_contribution = freq_pos_96 * pos_weights_96 \n",
        "neg_contribution = freq_neg_96 * neg_weights_96"
      ],
      "execution_count": null,
      "outputs": [
        {
          "output_type": "stream",
          "text": [
            "[0.44941176]\n",
            "[0.55058824]\n",
            "[0.44941176]\n",
            "[0.55058824]\n"
          ],
          "name": "stdout"
        }
      ]
    },
    {
      "cell_type": "code",
      "metadata": {
        "id": "6tBaJie6a2x6",
        "colab_type": "code",
        "colab": {}
      },
      "source": [
        "main_df = [train_df,valid_df]\n",
        "main_df = pd.concat(main_df)"
      ],
      "execution_count": null,
      "outputs": []
    },
    {
      "cell_type": "markdown",
      "metadata": {
        "id": "Aa3ewqVza71M",
        "colab_type": "text"
      },
      "source": [
        "# **MODEL AND TUNING**"
      ]
    },
    {
      "cell_type": "code",
      "metadata": {
        "id": "YfdSucUDa-_b",
        "colab_type": "code",
        "colab": {
          "base_uri": "https://localhost:8080/",
          "height": 840
        },
        "outputId": "146fdfd0-0bea-468f-9509-9db88d306d77"
      },
      "source": [
        "learn_96 = VGG16(include_top=False, weights = 'imagenet', input_tensor=Input(shape=(96, 96, 3)))\n",
        "print(learn_96.summary())\n",
        "model = Sequential()\n",
        "model.add(learn_96)\n",
        "model.add(AveragePooling2D())\n",
        "model.add(BatchNormalization())\n",
        "model.add(Flatten())\n",
        "model.add(BatchNormalization())\n",
        "model.add(Dropout(0.4))\n",
        "model.add(Dense(512,activation=relu,kernel_regularizer=l2(0.00001)))\n",
        "model.add(BatchNormalization())\n",
        "model.add(Dropout(0.3))\n",
        "model.add(Dense(1,activation=sigmoid))\n",
        "\n",
        "for cnn_block_layer in learn_96.layers:\n",
        "    cnn_block_layer.trainable = False\n",
        "\n",
        "model.compile(optimizer=Adam(),\n",
        "              loss=get_weighted_loss(pos_weights_96,neg_weights_96),\n",
        "              metrics=['accuracy',AUC()])"
      ],
      "execution_count": null,
      "outputs": [
        {
          "output_type": "stream",
          "text": [
            "Downloading data from https://storage.googleapis.com/tensorflow/keras-applications/vgg16/vgg16_weights_tf_dim_ordering_tf_kernels_notop.h5\n",
            "58892288/58889256 [==============================] - 1s 0us/step\n",
            "Model: \"vgg16\"\n",
            "_________________________________________________________________\n",
            "Layer (type)                 Output Shape              Param #   \n",
            "=================================================================\n",
            "input_1 (InputLayer)         [(None, 96, 96, 3)]       0         \n",
            "_________________________________________________________________\n",
            "block1_conv1 (Conv2D)        (None, 96, 96, 64)        1792      \n",
            "_________________________________________________________________\n",
            "block1_conv2 (Conv2D)        (None, 96, 96, 64)        36928     \n",
            "_________________________________________________________________\n",
            "block1_pool (MaxPooling2D)   (None, 48, 48, 64)        0         \n",
            "_________________________________________________________________\n",
            "block2_conv1 (Conv2D)        (None, 48, 48, 128)       73856     \n",
            "_________________________________________________________________\n",
            "block2_conv2 (Conv2D)        (None, 48, 48, 128)       147584    \n",
            "_________________________________________________________________\n",
            "block2_pool (MaxPooling2D)   (None, 24, 24, 128)       0         \n",
            "_________________________________________________________________\n",
            "block3_conv1 (Conv2D)        (None, 24, 24, 256)       295168    \n",
            "_________________________________________________________________\n",
            "block3_conv2 (Conv2D)        (None, 24, 24, 256)       590080    \n",
            "_________________________________________________________________\n",
            "block3_conv3 (Conv2D)        (None, 24, 24, 256)       590080    \n",
            "_________________________________________________________________\n",
            "block3_pool (MaxPooling2D)   (None, 12, 12, 256)       0         \n",
            "_________________________________________________________________\n",
            "block4_conv1 (Conv2D)        (None, 12, 12, 512)       1180160   \n",
            "_________________________________________________________________\n",
            "block4_conv2 (Conv2D)        (None, 12, 12, 512)       2359808   \n",
            "_________________________________________________________________\n",
            "block4_conv3 (Conv2D)        (None, 12, 12, 512)       2359808   \n",
            "_________________________________________________________________\n",
            "block4_pool (MaxPooling2D)   (None, 6, 6, 512)         0         \n",
            "_________________________________________________________________\n",
            "block5_conv1 (Conv2D)        (None, 6, 6, 512)         2359808   \n",
            "_________________________________________________________________\n",
            "block5_conv2 (Conv2D)        (None, 6, 6, 512)         2359808   \n",
            "_________________________________________________________________\n",
            "block5_conv3 (Conv2D)        (None, 6, 6, 512)         2359808   \n",
            "_________________________________________________________________\n",
            "block5_pool (MaxPooling2D)   (None, 3, 3, 512)         0         \n",
            "=================================================================\n",
            "Total params: 14,714,688\n",
            "Trainable params: 14,714,688\n",
            "Non-trainable params: 0\n",
            "_________________________________________________________________\n",
            "None\n"
          ],
          "name": "stdout"
        }
      ]
    },
    {
      "cell_type": "code",
      "metadata": {
        "id": "0bEa1tc9cupC",
        "colab_type": "code",
        "colab": {}
      },
      "source": [
        "clr = CyclicLR(base_lr=1e-4, max_lr=1e-2,\n",
        "                    step_size=1000., mode='triangular')"
      ],
      "execution_count": null,
      "outputs": []
    },
    {
      "cell_type": "code",
      "metadata": {
        "id": "bt-ODivkdHkH",
        "colab_type": "code",
        "colab": {}
      },
      "source": [
        "img_indexes = list(main_df['Source'])\n",
        "train_datagen = ImageDataGenerator(\n",
        "    rescale=1. / 255,\n",
        ")\n",
        "valid_datagen = ImageDataGenerator(\n",
        "    rescale=1. / 255\n",
        ")"
      ],
      "execution_count": null,
      "outputs": []
    },
    {
      "cell_type": "code",
      "metadata": {
        "id": "btaXejcadKhN",
        "colab_type": "code",
        "colab": {
          "base_uri": "https://localhost:8080/",
          "height": 1000
        },
        "outputId": "75961e38-32e2-44e5-8c5b-2cd898db4088"
      },
      "source": [
        "VALIDATION_ACCURACY = []\n",
        "VALIDAITON_LOSS = []\n",
        "kfold = KFold(n_splits=10, shuffle=True)\n",
        "save_model = '/content/drive/My Drive/Files-Covid/'\n",
        "fold_var = 1\n",
        "for train_index,val_index in kfold.split(img_indexes):\n",
        "  traindf = main_df.iloc[train_index, :].reset_index()\n",
        "  validdf = main_df.iloc[val_index, :].reset_index()\n",
        "  train_generator = train_datagen.flow_from_dataframe(dataframe=traindf,\n",
        "                                                    directory=IMG_DIR,\n",
        "                                                    x_col=\"Source\",\n",
        "                                                    y_col=\"Covid\",\n",
        "                                                    class_mode=\"raw\",\n",
        "                                                    target_size=(96, 96),\n",
        "                                                    batch_size=16)\n",
        "\n",
        "  valid_generator = valid_datagen.flow_from_dataframe(dataframe=validdf,\n",
        "                                                    directory=IMG_DIR,\n",
        "                                                    x_col=\"Source\",\n",
        "                                                    y_col=\"Covid\",\n",
        "                                                    class_mode=\"raw\",\n",
        "                                                    target_size=(96, 96),\n",
        "                                                    batch_size=16)\n",
        "  history = model.fit_generator(train_generator, \n",
        "                              validation_data=valid_generator,\n",
        "                              steps_per_epoch=len(train_df.index)/16, \n",
        "                              validation_steps=len(valid_df.index)/16, \n",
        "                              epochs = 20,\n",
        "                              verbose=1,\n",
        "                              callbacks = [EarlyStopping(monitor='val_loss',mode='min',patience=4,verbose=1,restore_best_weights = True),ModelCheckpoint(filepath='/content/drive/My Drive/Files-Covid/model_96_{}.h5'.format(fold_var), save_best_only=True, monitor='val_accuracy', mode='max'),clr])\n",
        "  # model.load_weights('/content/drive/My Drive/Files-Covid/model_96_{}.h5'.format(fold_var))\n",
        "\n",
        "  # results = model.evaluate_generator(valid_generator)\n",
        "  # results = dict(zip(model.metrics_names,results))\n",
        "\n",
        "  # VALIDATION_ACCURACY.append(results['accuracy'])\n",
        "  # VALIDATION_LOSS.append(results['loss'])\n",
        "\n",
        "  fold_var += 1"
      ],
      "execution_count": null,
      "outputs": [
        {
          "output_type": "stream",
          "text": [
            "Found 488 validated image filenames.\n",
            "Found 55 validated image filenames.\n",
            "WARNING:tensorflow:From <ipython-input-16-e9e0ab4b46d6>:30: Model.fit_generator (from tensorflow.python.keras.engine.training) is deprecated and will be removed in a future version.\n",
            "Instructions for updating:\n",
            "Please use Model.fit, which supports generators.\n",
            "Epoch 1/20\n",
            "27/26 [==============================] - 147s 5s/step - loss: 0.4622 - accuracy: 0.5579 - auc: 0.5587 - val_loss: 0.3333 - val_accuracy: 0.6182 - val_auc: 0.7812 - lr: 3.6730e-04\n",
            "Epoch 2/20\n",
            "27/26 [==============================] - 17s 616ms/step - loss: 0.3256 - accuracy: 0.6840 - auc: 0.7570 - val_loss: 0.3100 - val_accuracy: 0.6818 - val_auc: 0.7900 - lr: 6.3460e-04\n",
            "Epoch 3/20\n",
            "27/26 [==============================] - 5s 168ms/step - loss: 0.2641 - accuracy: 0.7547 - auc: 0.8376 - val_loss: 0.2948 - val_accuracy: 0.7273 - val_auc: 0.7838 - lr: 9.0190e-04\n",
            "Epoch 4/20\n",
            "27/26 [==============================] - 4s 152ms/step - loss: 0.2166 - accuracy: 0.8113 - auc: 0.8920 - val_loss: 0.2791 - val_accuracy: 0.7909 - val_auc: 0.8232 - lr: 0.0012\n",
            "Epoch 5/20\n",
            "27/26 [==============================] - 4s 141ms/step - loss: 0.2377 - accuracy: 0.8042 - auc: 0.8792 - val_loss: 0.2560 - val_accuracy: 0.7636 - val_auc: 0.8720 - lr: 0.0014\n",
            "Epoch 6/20\n",
            "27/26 [==============================] - 5s 175ms/step - loss: 0.2237 - accuracy: 0.7925 - auc: 0.8885 - val_loss: 0.2164 - val_accuracy: 0.8818 - val_auc: 0.9134 - lr: 0.0017\n",
            "Epoch 7/20\n",
            "27/26 [==============================] - 4s 142ms/step - loss: 0.2228 - accuracy: 0.8066 - auc: 0.8974 - val_loss: 0.2676 - val_accuracy: 0.7909 - val_auc: 0.8362 - lr: 0.0020\n",
            "Epoch 8/20\n",
            "27/26 [==============================] - 4s 150ms/step - loss: 0.1851 - accuracy: 0.8657 - auc: 0.9248 - val_loss: 0.2399 - val_accuracy: 0.8000 - val_auc: 0.8724 - lr: 0.0022\n",
            "Epoch 9/20\n",
            "27/26 [==============================] - 4s 161ms/step - loss: 0.1506 - accuracy: 0.8986 - auc: 0.9496 - val_loss: 0.2093 - val_accuracy: 0.8364 - val_auc: 0.9038 - lr: 0.0025\n",
            "Epoch 10/20\n",
            "27/26 [==============================] - 4s 151ms/step - loss: 0.1766 - accuracy: 0.8420 - auc: 0.9309 - val_loss: 0.2156 - val_accuracy: 0.8182 - val_auc: 0.8915 - lr: 0.0028\n",
            "Epoch 11/20\n",
            "27/26 [==============================] - 4s 144ms/step - loss: 0.1737 - accuracy: 0.8561 - auc: 0.9357 - val_loss: 0.2371 - val_accuracy: 0.7909 - val_auc: 0.8702 - lr: 0.0030\n",
            "Epoch 12/20\n",
            "27/26 [==============================] - 4s 141ms/step - loss: 0.1984 - accuracy: 0.8278 - auc: 0.9192 - val_loss: 0.2678 - val_accuracy: 0.8000 - val_auc: 0.8375 - lr: 0.0033\n",
            "Epoch 13/20\n",
            "27/26 [==============================] - ETA: 0s - loss: 0.1614 - accuracy: 0.8750 - auc: 0.9420Restoring model weights from the end of the best epoch.\n",
            "27/26 [==============================] - 4s 153ms/step - loss: 0.1614 - accuracy: 0.8750 - auc: 0.9420 - val_loss: 0.2619 - val_accuracy: 0.7636 - val_auc: 0.8594 - lr: 0.0036\n",
            "Epoch 00013: early stopping\n",
            "Found 488 validated image filenames.\n",
            "Found 55 validated image filenames.\n",
            "Epoch 1/20\n",
            "27/26 [==============================] - 8s 286ms/step - loss: 0.1995 - accuracy: 0.8310 - auc: 0.9216 - val_loss: 0.1649 - val_accuracy: 0.9091 - val_auc: 0.9676 - lr: 0.0038\n",
            "Epoch 2/20\n",
            "27/26 [==============================] - 4s 151ms/step - loss: 0.1970 - accuracy: 0.8373 - auc: 0.9196 - val_loss: 0.2383 - val_accuracy: 0.7818 - val_auc: 0.8480 - lr: 0.0041\n",
            "Epoch 3/20\n",
            "27/26 [==============================] - 4s 139ms/step - loss: 0.2100 - accuracy: 0.8255 - auc: 0.9127 - val_loss: 0.3000 - val_accuracy: 0.6909 - val_auc: 0.8263 - lr: 0.0044\n",
            "Epoch 4/20\n",
            "27/26 [==============================] - 4s 159ms/step - loss: 0.1668 - accuracy: 0.8608 - auc: 0.9385 - val_loss: 0.2291 - val_accuracy: 0.7545 - val_auc: 0.8702 - lr: 0.0046\n",
            "Epoch 5/20\n",
            "27/26 [==============================] - ETA: 0s - loss: 0.2055 - accuracy: 0.8538 - auc: 0.9170Restoring model weights from the end of the best epoch.\n",
            "27/26 [==============================] - 4s 139ms/step - loss: 0.2055 - accuracy: 0.8538 - auc: 0.9170 - val_loss: 0.1907 - val_accuracy: 0.7818 - val_auc: 0.9187 - lr: 0.0049\n",
            "Epoch 00005: early stopping\n",
            "Found 488 validated image filenames.\n",
            "Found 55 validated image filenames.\n",
            "Epoch 1/20\n",
            "27/26 [==============================] - 8s 292ms/step - loss: 0.2358 - accuracy: 0.8241 - auc: 0.8930 - val_loss: 0.1339 - val_accuracy: 0.9455 - val_auc: 0.9715 - lr: 0.0052\n",
            "Epoch 2/20\n",
            "27/26 [==============================] - 4s 143ms/step - loss: 0.2126 - accuracy: 0.8443 - auc: 0.9056 - val_loss: 0.2208 - val_accuracy: 0.8182 - val_auc: 0.8964 - lr: 0.0054\n",
            "Epoch 3/20\n",
            "27/26 [==============================] - 4s 140ms/step - loss: 0.2197 - accuracy: 0.8208 - auc: 0.9038 - val_loss: 0.1192 - val_accuracy: 0.9455 - val_auc: 0.9897 - lr: 0.0057\n",
            "Epoch 4/20\n",
            "27/26 [==============================] - 4s 149ms/step - loss: 0.1761 - accuracy: 0.8538 - auc: 0.9362 - val_loss: 0.1421 - val_accuracy: 0.8727 - val_auc: 0.9711 - lr: 0.0060\n",
            "Epoch 5/20\n",
            "27/26 [==============================] - 4s 141ms/step - loss: 0.1901 - accuracy: 0.8420 - auc: 0.9271 - val_loss: 0.1566 - val_accuracy: 0.8364 - val_auc: 0.9389 - lr: 0.0062\n",
            "Epoch 6/20\n",
            "27/26 [==============================] - 4s 140ms/step - loss: 0.1678 - accuracy: 0.8679 - auc: 0.9441 - val_loss: 0.1410 - val_accuracy: 0.9000 - val_auc: 0.9617 - lr: 0.0065\n",
            "Epoch 7/20\n",
            "27/26 [==============================] - ETA: 0s - loss: 0.1906 - accuracy: 0.8467 - auc: 0.9337Restoring model weights from the end of the best epoch.\n",
            "27/26 [==============================] - 4s 141ms/step - loss: 0.1906 - accuracy: 0.8467 - auc: 0.9337 - val_loss: 0.1848 - val_accuracy: 0.8455 - val_auc: 0.9253 - lr: 0.0068\n",
            "Epoch 00007: early stopping\n",
            "Found 489 validated image filenames.\n",
            "Found 54 validated image filenames.\n",
            "Epoch 1/20\n",
            "27/26 [==============================] - 7s 243ms/step - loss: 0.1939 - accuracy: 0.8403 - auc: 0.9226 - val_loss: 0.1645 - val_accuracy: 0.8333 - val_auc: 0.9462 - lr: 0.0070\n",
            "Epoch 2/20\n",
            "27/26 [==============================] - 4s 155ms/step - loss: 0.1947 - accuracy: 0.8518 - auc: 0.9235 - val_loss: 0.1900 - val_accuracy: 0.8241 - val_auc: 0.9260 - lr: 0.0073\n",
            "Epoch 3/20\n",
            "27/26 [==============================] - 4s 158ms/step - loss: 0.1959 - accuracy: 0.8729 - auc: 0.9292 - val_loss: 0.1632 - val_accuracy: 0.8889 - val_auc: 0.9478 - lr: 0.0076\n",
            "Epoch 4/20\n",
            "27/26 [==============================] - 4s 146ms/step - loss: 0.1999 - accuracy: 0.8376 - auc: 0.9230 - val_loss: 0.2460 - val_accuracy: 0.6944 - val_auc: 0.8490 - lr: 0.0079\n",
            "Epoch 5/20\n",
            "27/26 [==============================] - 4s 148ms/step - loss: 0.1659 - accuracy: 0.8824 - auc: 0.9469 - val_loss: 0.2657 - val_accuracy: 0.7963 - val_auc: 0.9076 - lr: 0.0081\n",
            "Epoch 6/20\n",
            "27/26 [==============================] - 4s 142ms/step - loss: 0.1942 - accuracy: 0.8518 - auc: 0.9369 - val_loss: 0.2261 - val_accuracy: 0.8426 - val_auc: 0.9180 - lr: 0.0084\n",
            "Epoch 7/20\n",
            "27/26 [==============================] - ETA: 0s - loss: 0.1835 - accuracy: 0.8706 - auc: 0.9419Restoring model weights from the end of the best epoch.\n",
            "27/26 [==============================] - 4s 139ms/step - loss: 0.1835 - accuracy: 0.8706 - auc: 0.9419 - val_loss: 0.3732 - val_accuracy: 0.6574 - val_auc: 0.8331 - lr: 0.0087\n",
            "Epoch 00007: early stopping\n",
            "Found 489 validated image filenames.\n",
            "Found 54 validated image filenames.\n",
            "Epoch 1/20\n",
            "27/26 [==============================] - 6s 238ms/step - loss: 0.1970 - accuracy: 0.8634 - auc: 0.9257 - val_loss: 0.1519 - val_accuracy: 0.8889 - val_auc: 0.9505 - lr: 0.0089\n",
            "Epoch 2/20\n",
            "27/26 [==============================] - 4s 141ms/step - loss: 0.2027 - accuracy: 0.8471 - auc: 0.9258 - val_loss: 0.1778 - val_accuracy: 0.8889 - val_auc: 0.9454 - lr: 0.0092\n",
            "Epoch 3/20\n",
            "27/26 [==============================] - 4s 147ms/step - loss: 0.2042 - accuracy: 0.8706 - auc: 0.9342 - val_loss: 0.2080 - val_accuracy: 0.8704 - val_auc: 0.9269 - lr: 0.0095\n",
            "Epoch 4/20\n",
            "27/26 [==============================] - 4s 145ms/step - loss: 0.2079 - accuracy: 0.8329 - auc: 0.9237 - val_loss: 0.2340 - val_accuracy: 0.8426 - val_auc: 0.9141 - lr: 0.0097\n",
            "Epoch 5/20\n",
            "27/26 [==============================] - 4s 146ms/step - loss: 0.1886 - accuracy: 0.8824 - auc: 0.9426 - val_loss: 0.1508 - val_accuracy: 0.8889 - val_auc: 0.9560 - lr: 0.0100\n",
            "Epoch 6/20\n",
            "27/26 [==============================] - 4s 142ms/step - loss: 0.1721 - accuracy: 0.8776 - auc: 0.9502 - val_loss: 0.2387 - val_accuracy: 0.8148 - val_auc: 0.9111 - lr: 0.0097\n",
            "Epoch 7/20\n",
            "27/26 [==============================] - 4s 145ms/step - loss: 0.2038 - accuracy: 0.8588 - auc: 0.9366 - val_loss: 0.2471 - val_accuracy: 0.7222 - val_auc: 0.8949 - lr: 0.0095\n",
            "Epoch 8/20\n",
            "27/26 [==============================] - 4s 143ms/step - loss: 0.1748 - accuracy: 0.8681 - auc: 0.9504 - val_loss: 0.2047 - val_accuracy: 0.8241 - val_auc: 0.9348 - lr: 0.0092\n",
            "Epoch 9/20\n",
            "27/26 [==============================] - ETA: 0s - loss: 0.1785 - accuracy: 0.8824 - auc: 0.9537Restoring model weights from the end of the best epoch.\n",
            "27/26 [==============================] - 4s 155ms/step - loss: 0.1785 - accuracy: 0.8824 - auc: 0.9537 - val_loss: 0.3608 - val_accuracy: 0.7778 - val_auc: 0.8468 - lr: 0.0089\n",
            "Epoch 00009: early stopping\n",
            "Found 489 validated image filenames.\n",
            "Found 54 validated image filenames.\n",
            "Epoch 1/20\n",
            "27/26 [==============================] - 8s 309ms/step - loss: 0.2178 - accuracy: 0.8449 - auc: 0.9229 - val_loss: 0.0969 - val_accuracy: 0.9444 - val_auc: 0.9945 - lr: 0.0087\n",
            "Epoch 2/20\n",
            "27/26 [==============================] - 4s 156ms/step - loss: 0.1880 - accuracy: 0.8588 - auc: 0.9418 - val_loss: 0.0948 - val_accuracy: 0.9444 - val_auc: 0.9966 - lr: 0.0084\n",
            "Epoch 3/20\n",
            "27/26 [==============================] - 6s 220ms/step - loss: 0.1648 - accuracy: 0.8918 - auc: 0.9552 - val_loss: 0.0934 - val_accuracy: 0.9722 - val_auc: 0.9993 - lr: 0.0081\n",
            "Epoch 4/20\n",
            "27/26 [==============================] - 4s 153ms/step - loss: 0.1807 - accuracy: 0.8847 - auc: 0.9460 - val_loss: 0.1443 - val_accuracy: 0.9167 - val_auc: 0.9759 - lr: 0.0079\n",
            "Epoch 5/20\n",
            "27/26 [==============================] - 4s 145ms/step - loss: 0.1501 - accuracy: 0.9059 - auc: 0.9663 - val_loss: 0.1376 - val_accuracy: 0.8889 - val_auc: 0.9834 - lr: 0.0076\n",
            "Epoch 6/20\n",
            "27/26 [==============================] - 4s 153ms/step - loss: 0.1525 - accuracy: 0.9106 - auc: 0.9639 - val_loss: 0.1252 - val_accuracy: 0.9630 - val_auc: 0.9818 - lr: 0.0073\n",
            "Epoch 7/20\n",
            "27/26 [==============================] - 4s 150ms/step - loss: 0.1498 - accuracy: 0.9012 - auc: 0.9654 - val_loss: 0.0932 - val_accuracy: 0.9444 - val_auc: 0.9937 - lr: 0.0071\n",
            "Epoch 8/20\n",
            "27/26 [==============================] - 4s 147ms/step - loss: 0.1376 - accuracy: 0.9120 - auc: 0.9730 - val_loss: 0.1192 - val_accuracy: 0.9259 - val_auc: 0.9845 - lr: 0.0068\n",
            "Epoch 9/20\n",
            "27/26 [==============================] - 4s 147ms/step - loss: 0.1648 - accuracy: 0.9106 - auc: 0.9598 - val_loss: 0.1367 - val_accuracy: 0.9074 - val_auc: 0.9834 - lr: 0.0065\n",
            "Epoch 10/20\n",
            "27/26 [==============================] - 4s 147ms/step - loss: 0.1041 - accuracy: 0.9459 - auc: 0.9888 - val_loss: 0.1169 - val_accuracy: 0.9167 - val_auc: 0.9884 - lr: 0.0063\n",
            "Epoch 11/20\n",
            "27/26 [==============================] - ETA: 0s - loss: 0.1108 - accuracy: 0.9435 - auc: 0.9850Restoring model weights from the end of the best epoch.\n",
            "27/26 [==============================] - 4s 149ms/step - loss: 0.1108 - accuracy: 0.9435 - auc: 0.9850 - val_loss: 0.1760 - val_accuracy: 0.9074 - val_auc: 0.9794 - lr: 0.0060\n",
            "Epoch 00011: early stopping\n",
            "Found 489 validated image filenames.\n",
            "Found 54 validated image filenames.\n",
            "Epoch 1/20\n",
            "27/26 [==============================] - 7s 244ms/step - loss: 0.1296 - accuracy: 0.9213 - auc: 0.9765 - val_loss: 0.0690 - val_accuracy: 0.9815 - val_auc: 0.9985 - lr: 0.0057\n",
            "Epoch 2/20\n",
            "27/26 [==============================] - 4s 152ms/step - loss: 0.1403 - accuracy: 0.9059 - auc: 0.9734 - val_loss: 0.0715 - val_accuracy: 0.9630 - val_auc: 0.9971 - lr: 0.0055\n",
            "Epoch 3/20\n",
            "27/26 [==============================] - 4s 151ms/step - loss: 0.1476 - accuracy: 0.9106 - auc: 0.9685 - val_loss: 0.0888 - val_accuracy: 0.9167 - val_auc: 0.9945 - lr: 0.0052\n",
            "Epoch 4/20\n",
            "27/26 [==============================] - 4s 153ms/step - loss: 0.1266 - accuracy: 0.9247 - auc: 0.9791 - val_loss: 0.1168 - val_accuracy: 0.9444 - val_auc: 0.9875 - lr: 0.0049\n",
            "Epoch 5/20\n",
            "27/26 [==============================] - ETA: 0s - loss: 0.1203 - accuracy: 0.9341 - auc: 0.9815Restoring model weights from the end of the best epoch.\n",
            "27/26 [==============================] - 4s 150ms/step - loss: 0.1203 - accuracy: 0.9341 - auc: 0.9815 - val_loss: 0.1057 - val_accuracy: 0.9444 - val_auc: 0.9877 - lr: 0.0047\n",
            "Epoch 00005: early stopping\n",
            "Found 489 validated image filenames.\n",
            "Found 54 validated image filenames.\n",
            "Epoch 1/20\n",
            "27/26 [==============================] - 7s 256ms/step - loss: 0.1299 - accuracy: 0.9120 - auc: 0.9781 - val_loss: 0.0882 - val_accuracy: 0.9444 - val_auc: 0.9938 - lr: 0.0044\n",
            "Epoch 2/20\n",
            "27/26 [==============================] - 4s 158ms/step - loss: 0.1391 - accuracy: 0.9176 - auc: 0.9724 - val_loss: 0.1424 - val_accuracy: 0.9537 - val_auc: 0.9571 - lr: 0.0041\n",
            "Epoch 3/20\n",
            "27/26 [==============================] - 4s 167ms/step - loss: 0.1533 - accuracy: 0.9012 - auc: 0.9669 - val_loss: 0.1001 - val_accuracy: 0.9907 - val_auc: 0.9735 - lr: 0.0039\n",
            "Epoch 4/20\n",
            "27/26 [==============================] - 4s 147ms/step - loss: 0.1267 - accuracy: 0.9247 - auc: 0.9778 - val_loss: 0.1015 - val_accuracy: 0.9815 - val_auc: 0.9780 - lr: 0.0036\n",
            "Epoch 5/20\n",
            "27/26 [==============================] - ETA: 0s - loss: 0.1231 - accuracy: 0.9271 - auc: 0.9807Restoring model weights from the end of the best epoch.\n",
            "27/26 [==============================] - 4s 153ms/step - loss: 0.1231 - accuracy: 0.9271 - auc: 0.9807 - val_loss: 0.1221 - val_accuracy: 0.9444 - val_auc: 0.9776 - lr: 0.0033\n",
            "Epoch 00005: early stopping\n",
            "Found 489 validated image filenames.\n",
            "Found 54 validated image filenames.\n",
            "Epoch 1/20\n",
            "27/26 [==============================] - 7s 273ms/step - loss: 0.1347 - accuracy: 0.9282 - auc: 0.9749 - val_loss: 0.0537 - val_accuracy: 1.0000 - val_auc: 1.0000 - lr: 0.0031\n",
            "Epoch 2/20\n",
            "27/26 [==============================] - 4s 148ms/step - loss: 0.1142 - accuracy: 0.9224 - auc: 0.9838 - val_loss: 0.0585 - val_accuracy: 1.0000 - val_auc: 1.0000 - lr: 0.0028\n",
            "Epoch 3/20\n",
            "27/26 [==============================] - 4s 152ms/step - loss: 0.1085 - accuracy: 0.9318 - auc: 0.9862 - val_loss: 0.0586 - val_accuracy: 0.9815 - val_auc: 1.0000 - lr: 0.0025\n",
            "Epoch 4/20\n",
            "27/26 [==============================] - 4s 144ms/step - loss: 0.1222 - accuracy: 0.9294 - auc: 0.9806 - val_loss: 0.0569 - val_accuracy: 1.0000 - val_auc: 1.0000 - lr: 0.0023\n",
            "Epoch 5/20\n",
            "27/26 [==============================] - ETA: 0s - loss: 0.1134 - accuracy: 0.9459 - auc: 0.9829Restoring model weights from the end of the best epoch.\n",
            "27/26 [==============================] - 4s 158ms/step - loss: 0.1134 - accuracy: 0.9459 - auc: 0.9829 - val_loss: 0.0645 - val_accuracy: 0.9815 - val_auc: 1.0000 - lr: 0.0020\n",
            "Epoch 00005: early stopping\n",
            "Found 489 validated image filenames.\n",
            "Found 54 validated image filenames.\n",
            "Epoch 1/20\n",
            "27/26 [==============================] - 7s 265ms/step - loss: 0.1318 - accuracy: 0.9213 - auc: 0.9762 - val_loss: 0.0489 - val_accuracy: 1.0000 - val_auc: 1.0000 - lr: 0.0017\n",
            "Epoch 2/20\n",
            "27/26 [==============================] - 4s 165ms/step - loss: 0.1440 - accuracy: 0.9247 - auc: 0.9697 - val_loss: 0.0485 - val_accuracy: 1.0000 - val_auc: 1.0000 - lr: 0.0015\n",
            "Epoch 3/20\n",
            "27/26 [==============================] - 4s 151ms/step - loss: 0.1122 - accuracy: 0.9271 - auc: 0.9844 - val_loss: 0.0487 - val_accuracy: 1.0000 - val_auc: 1.0000 - lr: 0.0012\n",
            "Epoch 4/20\n",
            "27/26 [==============================] - 4s 163ms/step - loss: 0.1231 - accuracy: 0.9341 - auc: 0.9786 - val_loss: 0.0474 - val_accuracy: 1.0000 - val_auc: 1.0000 - lr: 9.2170e-04\n",
            "Epoch 5/20\n",
            "27/26 [==============================] - 4s 158ms/step - loss: 0.1238 - accuracy: 0.9200 - auc: 0.9798 - val_loss: 0.0476 - val_accuracy: 1.0000 - val_auc: 1.0000 - lr: 6.5440e-04\n",
            "Epoch 6/20\n",
            "27/26 [==============================] - 4s 158ms/step - loss: 0.1001 - accuracy: 0.9506 - auc: 0.9889 - val_loss: 0.0453 - val_accuracy: 1.0000 - val_auc: 1.0000 - lr: 3.8710e-04\n",
            "Epoch 7/20\n",
            "27/26 [==============================] - 4s 156ms/step - loss: 0.0978 - accuracy: 0.9529 - auc: 0.9883 - val_loss: 0.0451 - val_accuracy: 1.0000 - val_auc: 1.0000 - lr: 1.1980e-04\n",
            "Epoch 8/20\n",
            "27/26 [==============================] - 4s 160ms/step - loss: 0.1373 - accuracy: 0.9120 - auc: 0.9722 - val_loss: 0.0449 - val_accuracy: 1.0000 - val_auc: 1.0000 - lr: 3.4750e-04\n",
            "Epoch 9/20\n",
            "27/26 [==============================] - 4s 157ms/step - loss: 0.1220 - accuracy: 0.9341 - auc: 0.9816 - val_loss: 0.0463 - val_accuracy: 1.0000 - val_auc: 1.0000 - lr: 6.1480e-04\n",
            "Epoch 10/20\n",
            "27/26 [==============================] - 4s 156ms/step - loss: 0.1065 - accuracy: 0.9435 - auc: 0.9861 - val_loss: 0.0471 - val_accuracy: 1.0000 - val_auc: 1.0000 - lr: 8.8210e-04\n",
            "Epoch 11/20\n",
            "27/26 [==============================] - 4s 163ms/step - loss: 0.1038 - accuracy: 0.9459 - auc: 0.9875 - val_loss: 0.0469 - val_accuracy: 1.0000 - val_auc: 1.0000 - lr: 0.0011\n",
            "Epoch 12/20\n",
            "27/26 [==============================] - ETA: 0s - loss: 0.0889 - accuracy: 0.9529 - auc: 0.9928Restoring model weights from the end of the best epoch.\n",
            "27/26 [==============================] - 4s 150ms/step - loss: 0.0889 - accuracy: 0.9529 - auc: 0.9928 - val_loss: 0.0459 - val_accuracy: 1.0000 - val_auc: 1.0000 - lr: 0.0014\n",
            "Epoch 00012: early stopping\n"
          ],
          "name": "stdout"
        }
      ]
    },
    {
      "cell_type": "code",
      "metadata": {
        "id": "bYBf-pmNXFLw",
        "colab_type": "code",
        "colab": {
          "base_uri": "https://localhost:8080/",
          "height": 34
        },
        "outputId": "ad8fff5f-ede2-4ea9-b7e2-73876b00d2d7"
      },
      "source": [
        "learn_96.trainable = True\n",
        "len(learn_96.layers)"
      ],
      "execution_count": null,
      "outputs": [
        {
          "output_type": "execute_result",
          "data": {
            "text/plain": [
              "19"
            ]
          },
          "metadata": {
            "tags": []
          },
          "execution_count": 17
        }
      ]
    },
    {
      "cell_type": "code",
      "metadata": {
        "id": "XSorW-kjm4Z4",
        "colab_type": "code",
        "colab": {}
      },
      "source": [
        "for layer in learn_96.layers[:13]:\n",
        "  layer.trainable =  False"
      ],
      "execution_count": null,
      "outputs": []
    },
    {
      "cell_type": "code",
      "metadata": {
        "id": "Hjd9YMq4m7kF",
        "colab_type": "code",
        "colab": {}
      },
      "source": [
        "model.compile(optimizer=Adam(),\n",
        "              loss=get_weighted_loss(pos_weights_96,neg_weights_96),\n",
        "              metrics=['accuracy',AUC()])"
      ],
      "execution_count": null,
      "outputs": []
    },
    {
      "cell_type": "code",
      "metadata": {
        "id": "gDOJyAWdnBo3",
        "colab_type": "code",
        "colab": {
          "base_uri": "https://localhost:8080/",
          "height": 1000
        },
        "outputId": "a6198172-73c4-472f-f1c6-2a7b2b4f2cf4"
      },
      "source": [
        "\n",
        "kfold = KFold(n_splits=10, shuffle=True)\n",
        "save_model = '/content/drive/My Drive/Files-Covid/'\n",
        "fold_var = 1\n",
        "for train_index,val_index in kfold.split(img_indexes):\n",
        "  traindf = main_df.iloc[train_index, :].reset_index()\n",
        "  validdf = main_df.iloc[val_index, :].reset_index()\n",
        "  train_generator = train_datagen.flow_from_dataframe(dataframe=traindf,\n",
        "                                                    directory=IMG_DIR,\n",
        "                                                    x_col=\"Source\",\n",
        "                                                    y_col=\"Covid\",\n",
        "                                                    class_mode=\"raw\",\n",
        "                                                    target_size=(96, 96),\n",
        "                                                    batch_size=16)\n",
        "\n",
        "  valid_generator = valid_datagen.flow_from_dataframe(dataframe=validdf,\n",
        "                                                    directory=IMG_DIR,\n",
        "                                                    x_col=\"Source\",\n",
        "                                                    y_col=\"Covid\",\n",
        "                                                    class_mode=\"raw\",\n",
        "                                                    target_size=(96, 96),\n",
        "                                                    batch_size=16)\n",
        "  history = model.fit_generator(train_generator, \n",
        "                              validation_data=valid_generator,\n",
        "                              steps_per_epoch=len(train_df.index)/16, \n",
        "                              validation_steps=len(valid_df.index)/16, \n",
        "                              epochs = 20,\n",
        "                              verbose=1,\n",
        "                              callbacks = [EarlyStopping(monitor='val_loss',mode='min',patience=4,verbose=1,restore_best_weights = True),ModelCheckpoint(filepath='/content/drive/My Drive/Files-Covid/model_96_fine_tune_{}.h5'.format(fold_var), save_best_only=True, monitor='val_accuracy', mode='max'),clr])\n",
        "  # model.load_weights('/content/drive/My Drive/Files-Covid/model_96_{}.h5'.format(fold_var))\n",
        "\n",
        "  # results = model.evaluate_generator(valid_generator)\n",
        "  # results = dict(zip(model.metrics_names,results))\n",
        "\n",
        "  # VALIDATION_ACCURACY.append(results['accuracy'])\n",
        "  # VALIDATION_LOSS.append(results['loss'])\n",
        "\n",
        "  fold_var += 1"
      ],
      "execution_count": null,
      "outputs": [
        {
          "output_type": "stream",
          "text": [
            "Found 488 validated image filenames.\n",
            "Found 55 validated image filenames.\n",
            "Epoch 1/20\n",
            "27/26 [==============================] - 5s 194ms/step - loss: 0.4493 - accuracy: 0.6667 - auc_1: 0.7102 - val_loss: 1.0395 - val_accuracy: 0.5818 - val_auc_1: 0.6386 - lr: 0.0017\n",
            "Epoch 2/20\n",
            "27/26 [==============================] - 4s 159ms/step - loss: 0.4594 - accuracy: 0.6297 - auc_1: 0.6713 - val_loss: 3.7844 - val_accuracy: 0.4727 - val_auc_1: 0.5000 - lr: 0.0020\n",
            "Epoch 3/20\n",
            "27/26 [==============================] - 5s 177ms/step - loss: 0.3899 - accuracy: 0.6840 - auc_1: 0.7511 - val_loss: 3.6781 - val_accuracy: 0.4909 - val_auc_1: 0.5000 - lr: 0.0022\n",
            "Epoch 4/20\n",
            "27/26 [==============================] - 6s 215ms/step - loss: 0.3309 - accuracy: 0.7382 - auc_1: 0.8117 - val_loss: 0.8964 - val_accuracy: 0.6364 - val_auc_1: 0.7315 - lr: 0.0025\n",
            "Epoch 5/20\n",
            "27/26 [==============================] - 4s 159ms/step - loss: 0.3131 - accuracy: 0.7665 - auc_1: 0.8291 - val_loss: 1.5641 - val_accuracy: 0.4909 - val_auc_1: 0.6936 - lr: 0.0028\n",
            "Epoch 6/20\n",
            "27/26 [==============================] - 5s 177ms/step - loss: 0.2477 - accuracy: 0.8349 - auc_1: 0.8961 - val_loss: 0.3469 - val_accuracy: 0.7364 - val_auc_1: 0.8548 - lr: 0.0030\n",
            "Epoch 7/20\n",
            "27/26 [==============================] - 5s 182ms/step - loss: 0.2072 - accuracy: 0.8373 - auc_1: 0.9198 - val_loss: 0.4428 - val_accuracy: 0.8545 - val_auc_1: 0.8830 - lr: 0.0033\n",
            "Epoch 8/20\n",
            "27/26 [==============================] - 4s 155ms/step - loss: 0.1825 - accuracy: 0.8657 - auc_1: 0.9429 - val_loss: 2.7254 - val_accuracy: 0.4818 - val_auc_1: 0.5902 - lr: 0.0036\n",
            "Epoch 9/20\n",
            "27/26 [==============================] - 5s 178ms/step - loss: 0.1583 - accuracy: 0.9057 - auc_1: 0.9590 - val_loss: 1.4385 - val_accuracy: 0.7091 - val_auc_1: 0.7672 - lr: 0.0038\n",
            "Epoch 10/20\n",
            "27/26 [==============================] - ETA: 0s - loss: 0.1856 - accuracy: 0.8679 - auc_1: 0.9423Restoring model weights from the end of the best epoch.\n",
            "27/26 [==============================] - 4s 153ms/step - loss: 0.1856 - accuracy: 0.8679 - auc_1: 0.9423 - val_loss: 1.4470 - val_accuracy: 0.5727 - val_auc_1: 0.7249 - lr: 0.0041\n",
            "Epoch 00010: early stopping\n",
            "Found 488 validated image filenames.\n",
            "Found 55 validated image filenames.\n",
            "Epoch 1/20\n",
            "27/26 [==============================] - 5s 177ms/step - loss: 0.2160 - accuracy: 0.8333 - auc_1: 0.9145 - val_loss: 3.8068 - val_accuracy: 0.4727 - val_auc_1: 0.5000 - lr: 0.0044\n",
            "Epoch 2/20\n",
            "27/26 [==============================] - 5s 178ms/step - loss: 0.1699 - accuracy: 0.8750 - auc_1: 0.9514 - val_loss: 2.2755 - val_accuracy: 0.5636 - val_auc_1: 0.6250 - lr: 0.0046\n",
            "Epoch 3/20\n",
            "27/26 [==============================] - 5s 180ms/step - loss: 0.1510 - accuracy: 0.9198 - auc_1: 0.9679 - val_loss: 1.2833 - val_accuracy: 0.7000 - val_auc_1: 0.7778 - lr: 0.0049\n",
            "Epoch 4/20\n",
            "27/26 [==============================] - 4s 150ms/step - loss: 0.1589 - accuracy: 0.8892 - auc_1: 0.9579 - val_loss: 3.7697 - val_accuracy: 0.5273 - val_auc_1: 0.5000 - lr: 0.0052\n",
            "Epoch 5/20\n",
            "27/26 [==============================] - 4s 161ms/step - loss: 0.1377 - accuracy: 0.9222 - auc_1: 0.9692 - val_loss: 4.2215 - val_accuracy: 0.4364 - val_auc_1: 0.4556 - lr: 0.0054\n",
            "Epoch 6/20\n",
            "27/26 [==============================] - 4s 165ms/step - loss: 0.1253 - accuracy: 0.9222 - auc_1: 0.9763 - val_loss: 3.6665 - val_accuracy: 0.4909 - val_auc_1: 0.5000 - lr: 0.0057\n",
            "Epoch 7/20\n",
            "27/26 [==============================] - ETA: 0s - loss: 0.1104 - accuracy: 0.9245 - auc_1: 0.9839Restoring model weights from the end of the best epoch.\n",
            "27/26 [==============================] - 4s 154ms/step - loss: 0.1104 - accuracy: 0.9245 - auc_1: 0.9839 - val_loss: 4.0002 - val_accuracy: 0.4364 - val_auc_1: 0.5000 - lr: 0.0060\n",
            "Epoch 00007: early stopping\n",
            "Found 488 validated image filenames.\n",
            "Found 55 validated image filenames.\n",
            "Epoch 1/20\n",
            "27/26 [==============================] - 5s 175ms/step - loss: 0.2003 - accuracy: 0.8519 - auc_1: 0.9335 - val_loss: 3.6756 - val_accuracy: 0.4909 - val_auc_1: 0.5000 - lr: 0.0062\n",
            "Epoch 2/20\n",
            "27/26 [==============================] - 5s 176ms/step - loss: 0.1680 - accuracy: 0.8774 - auc_1: 0.9538 - val_loss: 3.5458 - val_accuracy: 0.5091 - val_auc_1: 0.5000 - lr: 0.0065\n",
            "Epoch 3/20\n",
            "27/26 [==============================] - 4s 152ms/step - loss: 0.1129 - accuracy: 0.9387 - auc_1: 0.9818 - val_loss: 3.7514 - val_accuracy: 0.4727 - val_auc_1: 0.5000 - lr: 0.0068\n",
            "Epoch 4/20\n",
            "27/26 [==============================] - 4s 153ms/step - loss: 0.1122 - accuracy: 0.9245 - auc_1: 0.9837 - val_loss: 3.3534 - val_accuracy: 0.4909 - val_auc_1: 0.5357 - lr: 0.0070\n",
            "Epoch 5/20\n",
            "27/26 [==============================] - 4s 165ms/step - loss: 0.1885 - accuracy: 0.8844 - auc_1: 0.9483 - val_loss: 4.2918 - val_accuracy: 0.5091 - val_auc_1: 0.4861 - lr: 0.0073\n",
            "Epoch 6/20\n",
            "27/26 [==============================] - 4s 161ms/step - loss: 0.1156 - accuracy: 0.9363 - auc_1: 0.9810 - val_loss: 3.1367 - val_accuracy: 0.5000 - val_auc_1: 0.5000 - lr: 0.0076\n",
            "Epoch 7/20\n",
            "27/26 [==============================] - 4s 153ms/step - loss: 0.0868 - accuracy: 0.9552 - auc_1: 0.9913 - val_loss: 3.2351 - val_accuracy: 0.5000 - val_auc_1: 0.5182 - lr: 0.0078\n",
            "Epoch 8/20\n",
            "27/26 [==============================] - 4s 142ms/step - loss: 0.1210 - accuracy: 0.9306 - auc_1: 0.9777 - val_loss: 3.8057 - val_accuracy: 0.4727 - val_auc_1: 0.5000 - lr: 0.0081\n",
            "Epoch 9/20\n",
            "27/26 [==============================] - 4s 155ms/step - loss: 0.1045 - accuracy: 0.9434 - auc_1: 0.9823 - val_loss: 3.6754 - val_accuracy: 0.4909 - val_auc_1: 0.5000 - lr: 0.0084\n",
            "Epoch 10/20\n",
            "27/26 [==============================] - ETA: 0s - loss: 0.0703 - accuracy: 0.9575 - auc_1: 0.9959Restoring model weights from the end of the best epoch.\n",
            "27/26 [==============================] - 4s 162ms/step - loss: 0.0703 - accuracy: 0.9575 - auc_1: 0.9959 - val_loss: 3.5191 - val_accuracy: 0.5091 - val_auc_1: 0.5000 - lr: 0.0086\n",
            "Epoch 00010: early stopping\n",
            "Found 489 validated image filenames.\n",
            "Found 54 validated image filenames.\n",
            "Epoch 1/20\n",
            "27/26 [==============================] - 5s 185ms/step - loss: 0.1486 - accuracy: 0.9028 - auc_1: 0.9661 - val_loss: 4.5396 - val_accuracy: 0.3704 - val_auc_1: 0.5000 - lr: 0.0089\n",
            "Epoch 2/20\n",
            "27/26 [==============================] - 5s 176ms/step - loss: 0.1333 - accuracy: 0.9224 - auc_1: 0.9736 - val_loss: 0.8650 - val_accuracy: 0.6944 - val_auc_1: 0.8676 - lr: 0.0092\n",
            "Epoch 3/20\n",
            "27/26 [==============================] - 4s 150ms/step - loss: 0.1277 - accuracy: 0.9129 - auc_1: 0.9789 - val_loss: 4.9381 - val_accuracy: 0.3148 - val_auc_1: 0.5000 - lr: 0.0094\n",
            "Epoch 4/20\n",
            "27/26 [==============================] - 4s 144ms/step - loss: 0.1095 - accuracy: 0.9482 - auc_1: 0.9856 - val_loss: 4.4735 - val_accuracy: 0.3796 - val_auc_1: 0.5000 - lr: 0.0097\n",
            "Epoch 5/20\n",
            "27/26 [==============================] - 5s 175ms/step - loss: 0.1109 - accuracy: 0.9459 - auc_1: 0.9840 - val_loss: 4.5397 - val_accuracy: 0.3704 - val_auc_1: 0.5000 - lr: 0.0100\n",
            "Epoch 6/20\n",
            "27/26 [==============================] - ETA: 0s - loss: 0.0862 - accuracy: 0.9576 - auc_1: 0.9922Restoring model weights from the end of the best epoch.\n",
            "27/26 [==============================] - 4s 146ms/step - loss: 0.0862 - accuracy: 0.9576 - auc_1: 0.9922 - val_loss: 4.6677 - val_accuracy: 0.3426 - val_auc_1: 0.5000 - lr: 0.0098\n",
            "Epoch 00006: early stopping\n",
            "Found 489 validated image filenames.\n",
            "Found 54 validated image filenames.\n",
            "Epoch 1/20\n",
            "27/26 [==============================] - 5s 177ms/step - loss: 0.1043 - accuracy: 0.9306 - auc_1: 0.9869 - val_loss: 3.4778 - val_accuracy: 0.5185 - val_auc_1: 0.5000 - lr: 0.0095\n",
            "Epoch 2/20\n",
            "27/26 [==============================] - 5s 178ms/step - loss: 0.1044 - accuracy: 0.9412 - auc_1: 0.9855 - val_loss: 3.2125 - val_accuracy: 0.5556 - val_auc_1: 0.5000 - lr: 0.0092\n",
            "Epoch 3/20\n",
            "27/26 [==============================] - 4s 152ms/step - loss: 0.0698 - accuracy: 0.9624 - auc_1: 0.9939 - val_loss: 3.6927 - val_accuracy: 0.4722 - val_auc_1: 0.5000 - lr: 0.0090\n",
            "Epoch 4/20\n",
            "27/26 [==============================] - 5s 181ms/step - loss: 0.0602 - accuracy: 0.9694 - auc_1: 0.9975 - val_loss: 0.3071 - val_accuracy: 0.8889 - val_auc_1: 0.9314 - lr: 0.0087\n",
            "Epoch 5/20\n",
            "27/26 [==============================] - 4s 161ms/step - loss: 0.0567 - accuracy: 0.9788 - auc_1: 0.9977 - val_loss: 0.8549 - val_accuracy: 0.7407 - val_auc_1: 0.8462 - lr: 0.0084\n",
            "Epoch 6/20\n",
            "27/26 [==============================] - 4s 159ms/step - loss: 0.1370 - accuracy: 0.9271 - auc_1: 0.9727 - val_loss: 0.8241 - val_accuracy: 0.7130 - val_auc_1: 0.8173 - lr: 0.0082\n",
            "Epoch 7/20\n",
            "27/26 [==============================] - 4s 156ms/step - loss: 0.0782 - accuracy: 0.9600 - auc_1: 0.9934 - val_loss: 0.5958 - val_accuracy: 0.8333 - val_auc_1: 0.9215 - lr: 0.0079\n",
            "Epoch 8/20\n",
            "27/26 [==============================] - 6s 212ms/step - loss: 0.0935 - accuracy: 0.9560 - auc_1: 0.9866 - val_loss: 0.0866 - val_accuracy: 0.9444 - val_auc_1: 1.0000 - lr: 0.0076\n",
            "Epoch 9/20\n",
            "27/26 [==============================] - 4s 154ms/step - loss: 0.0445 - accuracy: 0.9906 - auc_1: 0.9983 - val_loss: 2.8533 - val_accuracy: 0.5370 - val_auc_1: 0.6250 - lr: 0.0074\n",
            "Epoch 10/20\n",
            "27/26 [==============================] - 4s 157ms/step - loss: 0.0348 - accuracy: 0.9929 - auc_1: 0.9999 - val_loss: 1.3162 - val_accuracy: 0.6852 - val_auc_1: 0.8190 - lr: 0.0071\n",
            "Epoch 11/20\n",
            "27/26 [==============================] - 6s 224ms/step - loss: 0.0333 - accuracy: 0.9953 - auc_1: 1.0000 - val_loss: 0.1301 - val_accuracy: 0.9630 - val_auc_1: 0.9791 - lr: 0.0068\n",
            "Epoch 12/20\n",
            "27/26 [==============================] - ETA: 0s - loss: 0.0533 - accuracy: 0.9859 - auc_1: 0.9964Restoring model weights from the end of the best epoch.\n",
            "27/26 [==============================] - 4s 156ms/step - loss: 0.0533 - accuracy: 0.9859 - auc_1: 0.9964 - val_loss: 1.0168 - val_accuracy: 0.7685 - val_auc_1: 0.8772 - lr: 0.0066\n",
            "Epoch 00012: early stopping\n",
            "Found 489 validated image filenames.\n",
            "Found 54 validated image filenames.\n",
            "Epoch 1/20\n",
            "27/26 [==============================] - 5s 179ms/step - loss: 0.0779 - accuracy: 0.9514 - auc_1: 0.9916 - val_loss: 0.0365 - val_accuracy: 0.9815 - val_auc_1: 1.0000 - lr: 0.0063\n",
            "Epoch 2/20\n",
            "27/26 [==============================] - 5s 198ms/step - loss: 0.0458 - accuracy: 0.9859 - auc_1: 0.9994 - val_loss: 0.0260 - val_accuracy: 1.0000 - val_auc_1: 1.0000 - lr: 0.0060\n",
            "Epoch 3/20\n",
            "27/26 [==============================] - 4s 154ms/step - loss: 0.0331 - accuracy: 0.9953 - auc_1: 0.9999 - val_loss: 0.2744 - val_accuracy: 0.8981 - val_auc_1: 0.9286 - lr: 0.0058\n",
            "Epoch 4/20\n",
            "27/26 [==============================] - 4s 147ms/step - loss: 0.0287 - accuracy: 0.9976 - auc_1: 1.0000 - val_loss: 1.0339 - val_accuracy: 0.7593 - val_auc_1: 0.8243 - lr: 0.0055\n",
            "Epoch 5/20\n",
            "27/26 [==============================] - 5s 173ms/step - loss: 0.0547 - accuracy: 0.9859 - auc_1: 0.9934 - val_loss: 0.5858 - val_accuracy: 0.8519 - val_auc_1: 0.9167 - lr: 0.0052\n",
            "Epoch 6/20\n",
            "27/26 [==============================] - 4s 158ms/step - loss: 0.0332 - accuracy: 0.9953 - auc_1: 0.9999 - val_loss: 0.0231 - val_accuracy: 1.0000 - val_auc_1: 1.0000 - lr: 0.0050\n",
            "Epoch 7/20\n",
            "27/26 [==============================] - 4s 148ms/step - loss: 0.0285 - accuracy: 0.9976 - auc_1: 0.9999 - val_loss: 0.7334 - val_accuracy: 0.8148 - val_auc_1: 0.8598 - lr: 0.0047\n",
            "Epoch 8/20\n",
            "27/26 [==============================] - 4s 151ms/step - loss: 0.0355 - accuracy: 0.9884 - auc_1: 0.9997 - val_loss: 1.6948 - val_accuracy: 0.6667 - val_auc_1: 0.6211 - lr: 0.0044\n",
            "Epoch 9/20\n",
            "27/26 [==============================] - 4s 159ms/step - loss: 0.0279 - accuracy: 0.9953 - auc_1: 1.0000 - val_loss: 2.7941 - val_accuracy: 0.6481 - val_auc_1: 0.4861 - lr: 0.0041\n",
            "Epoch 10/20\n",
            "27/26 [==============================] - ETA: 0s - loss: 0.0252 - accuracy: 1.0000 - auc_1: 1.0000Restoring model weights from the end of the best epoch.\n",
            "27/26 [==============================] - 4s 166ms/step - loss: 0.0252 - accuracy: 1.0000 - auc_1: 1.0000 - val_loss: 2.7922 - val_accuracy: 0.6204 - val_auc_1: 0.4855 - lr: 0.0039\n",
            "Epoch 00010: early stopping\n",
            "Found 489 validated image filenames.\n",
            "Found 54 validated image filenames.\n",
            "Epoch 1/20\n",
            "27/26 [==============================] - 5s 192ms/step - loss: 0.0347 - accuracy: 0.9907 - auc_1: 0.9997 - val_loss: 0.2836 - val_accuracy: 0.9074 - val_auc_1: 0.9583 - lr: 0.0036\n",
            "Epoch 2/20\n",
            "27/26 [==============================] - 4s 160ms/step - loss: 0.0295 - accuracy: 0.9976 - auc_1: 0.9999 - val_loss: 1.0210 - val_accuracy: 0.6574 - val_auc_1: 0.8300 - lr: 0.0033\n",
            "Epoch 3/20\n",
            "27/26 [==============================] - 4s 151ms/step - loss: 0.0247 - accuracy: 1.0000 - auc_1: 1.0000 - val_loss: 1.1170 - val_accuracy: 0.7130 - val_auc_1: 0.7717 - lr: 0.0031\n",
            "Epoch 4/20\n",
            "27/26 [==============================] - 4s 164ms/step - loss: 0.0259 - accuracy: 1.0000 - auc_1: 1.0000 - val_loss: 1.1978 - val_accuracy: 0.6759 - val_auc_1: 0.8021 - lr: 0.0028\n",
            "Epoch 5/20\n",
            "27/26 [==============================] - ETA: 0s - loss: 0.0239 - accuracy: 1.0000 - auc_1: 1.0000Restoring model weights from the end of the best epoch.\n",
            "27/26 [==============================] - 4s 155ms/step - loss: 0.0239 - accuracy: 1.0000 - auc_1: 1.0000 - val_loss: 1.1432 - val_accuracy: 0.6667 - val_auc_1: 0.7917 - lr: 0.0025\n",
            "Epoch 00005: early stopping\n",
            "Found 489 validated image filenames.\n",
            "Found 54 validated image filenames.\n",
            "Epoch 1/20\n",
            "27/26 [==============================] - 5s 175ms/step - loss: 0.0469 - accuracy: 0.9838 - auc_1: 0.9984 - val_loss: 0.0384 - val_accuracy: 0.9815 - val_auc_1: 1.0000 - lr: 0.0023\n",
            "Epoch 2/20\n",
            "27/26 [==============================] - 4s 151ms/step - loss: 0.0431 - accuracy: 0.9812 - auc_1: 0.9992 - val_loss: 2.8506 - val_accuracy: 0.5556 - val_auc_1: 0.5729 - lr: 0.0020\n",
            "Epoch 3/20\n",
            "27/26 [==============================] - 4s 149ms/step - loss: 0.0357 - accuracy: 0.9906 - auc_1: 0.9997 - val_loss: 3.0509 - val_accuracy: 0.5185 - val_auc_1: 0.5192 - lr: 0.0017\n",
            "Epoch 4/20\n",
            "27/26 [==============================] - 5s 169ms/step - loss: 0.0268 - accuracy: 0.9976 - auc_1: 1.0000 - val_loss: 1.2648 - val_accuracy: 0.6019 - val_auc_1: 0.7340 - lr: 0.0015\n",
            "Epoch 5/20\n",
            "27/26 [==============================] - ETA: 0s - loss: 0.0267 - accuracy: 0.9976 - auc_1: 1.0000Restoring model weights from the end of the best epoch.\n",
            "27/26 [==============================] - 4s 151ms/step - loss: 0.0267 - accuracy: 0.9976 - auc_1: 1.0000 - val_loss: 1.9686 - val_accuracy: 0.5370 - val_auc_1: 0.5800 - lr: 0.0012\n",
            "Epoch 00005: early stopping\n",
            "Found 489 validated image filenames.\n",
            "Found 54 validated image filenames.\n",
            "Epoch 1/20\n",
            "27/26 [==============================] - 5s 184ms/step - loss: 0.0267 - accuracy: 0.9977 - auc_1: 1.0000 - val_loss: 0.0630 - val_accuracy: 0.9630 - val_auc_1: 1.0000 - lr: 9.4150e-04\n",
            "Epoch 2/20\n",
            "27/26 [==============================] - 4s 151ms/step - loss: 0.0240 - accuracy: 1.0000 - auc_1: 1.0000 - val_loss: 0.1841 - val_accuracy: 0.8704 - val_auc_1: 1.0000 - lr: 6.7420e-04\n",
            "Epoch 3/20\n",
            "27/26 [==============================] - 4s 159ms/step - loss: 0.0255 - accuracy: 0.9976 - auc_1: 1.0000 - val_loss: 0.5202 - val_accuracy: 0.7315 - val_auc_1: 0.9608 - lr: 4.0690e-04\n",
            "Epoch 4/20\n",
            "27/26 [==============================] - 4s 158ms/step - loss: 0.0268 - accuracy: 0.9953 - auc_1: 1.0000 - val_loss: 1.3867 - val_accuracy: 0.5556 - val_auc_1: 0.7895 - lr: 1.3960e-04\n",
            "Epoch 5/20\n",
            "27/26 [==============================] - ETA: 0s - loss: 0.0256 - accuracy: 0.9953 - auc_1: 1.0000Restoring model weights from the end of the best epoch.\n",
            "27/26 [==============================] - 4s 149ms/step - loss: 0.0256 - accuracy: 0.9953 - auc_1: 1.0000 - val_loss: 1.8661 - val_accuracy: 0.5556 - val_auc_1: 0.7037 - lr: 3.2770e-04\n",
            "Epoch 00005: early stopping\n",
            "Found 489 validated image filenames.\n",
            "Found 54 validated image filenames.\n",
            "Epoch 1/20\n",
            "27/26 [==============================] - 5s 172ms/step - loss: 0.0269 - accuracy: 0.9977 - auc_1: 1.0000 - val_loss: 0.4466 - val_accuracy: 0.7963 - val_auc_1: 0.9667 - lr: 5.9500e-04\n",
            "Epoch 2/20\n",
            "27/26 [==============================] - 4s 155ms/step - loss: 0.0320 - accuracy: 0.9929 - auc_1: 0.9999 - val_loss: 0.5095 - val_accuracy: 0.7315 - val_auc_1: 0.9194 - lr: 8.6230e-04\n",
            "Epoch 3/20\n",
            "27/26 [==============================] - 4s 149ms/step - loss: 0.0275 - accuracy: 1.0000 - auc_1: 1.0000 - val_loss: 1.4392 - val_accuracy: 0.5926 - val_auc_1: 0.7719 - lr: 0.0011\n",
            "Epoch 4/20\n",
            "27/26 [==============================] - 4s 157ms/step - loss: 0.0237 - accuracy: 1.0000 - auc_1: 1.0000 - val_loss: 2.5698 - val_accuracy: 0.4722 - val_auc_1: 0.6525 - lr: 0.0014\n",
            "Epoch 5/20\n",
            "27/26 [==============================] - ETA: 0s - loss: 0.0222 - accuracy: 1.0000 - auc_1: 1.0000Restoring model weights from the end of the best epoch.\n",
            "27/26 [==============================] - 4s 150ms/step - loss: 0.0222 - accuracy: 1.0000 - auc_1: 1.0000 - val_loss: 2.9575 - val_accuracy: 0.4630 - val_auc_1: 0.6333 - lr: 0.0017\n",
            "Epoch 00005: early stopping\n"
          ],
          "name": "stdout"
        }
      ]
    },
    {
      "cell_type": "code",
      "metadata": {
        "id": "BAOlE1vVlDfn",
        "colab_type": "code",
        "colab": {}
      },
      "source": [
        "# history = model.fit_generator(train_generator_96, \n",
        "#                               validation_data=valid_generator_96,\n",
        "#                               steps_per_epoch=25, \n",
        "#                               validation_steps=12, \n",
        "#                               epochs = 50,\n",
        "#                               verbose=1,\n",
        "#                               callbacks = [EarlyStopping(monitor='val_loss',mode='min',patience=10,verbose=1,restore_best_weights = True),ModelCheckpoint(filepath='/content/drive/My Drive/Files-Covid/model_96_test1.h5', save_best_only=True, monitor='val_accuracy', mode='max'),clr])"
      ],
      "execution_count": null,
      "outputs": []
    },
    {
      "cell_type": "code",
      "metadata": {
        "id": "BL5eTnKsFno4",
        "colab_type": "code",
        "colab": {
          "base_uri": "https://localhost:8080/",
          "height": 295
        },
        "outputId": "5f99e0f4-8a90-418d-84a6-b64347f7b808"
      },
      "source": [
        "plt.plot(history.history['accuracy'])\n",
        "plt.plot(history.history['val_accuracy'])\n",
        "plt.ylabel(\"loss\")\n",
        "plt.xlabel(\"epoch\")\n",
        "plt.title(\"Training- Val loss Curve\")\n",
        "plt.legend(['train', 'validation'], loc='upper left')\n",
        "plt.show()"
      ],
      "execution_count": null,
      "outputs": [
        {
          "output_type": "display_data",
          "data": {
            "image/png": "[encoded data removed]",
            "text/plain": [
              "<Figure size 432x288 with 1 Axes>"
            ]
          },
          "metadata": {
            "tags": [],
            "needs_background": "light"
          }
        }
      ]
    },
    {
      "cell_type": "code",
      "metadata": {
        "id": "I5lZN8nzzpO-",
        "colab_type": "code",
        "colab": {}
      },
      "source": [
        "# model1 = load_model('/content/drive/My Drive/Files-Covid/model_96_1.h5',custom_objects={'weighted_loss':get_weighted_loss(pos_weights_96,neg_weights_96)})\n",
        "# model2 = load_model('/content/drive/My Drive/Files-Covid/model_96_2.h5',custom_objects={'weighted_loss':get_weighted_loss(pos_weights_96,neg_weights_96)})\n",
        "# model3 = load_model('/content/drive/My Drive/Files-Covid/model_96_3.h5',custom_objects={'weighted_loss':get_weighted_loss(pos_weights_96,neg_weights_96)})\n",
        "# model4 = load_model('/content/drive/My Drive/Files-Covid/model_96_4.h5',custom_objects={'weighted_loss':get_weighted_loss(pos_weights_96,neg_weights_96)})\n",
        "# model5 = load_model('/content/drive/My Drive/Files-Covid/model_96_5.h5',custom_objects={'weighted_loss':get_weighted_loss(pos_weights_96,neg_weights_96)})\n",
        "# model6 = load_model('/content/drive/My Drive/Files-Covid/model_96_6.h5',custom_objects={'weighted_loss':get_weighted_loss(pos_weights_96,neg_weights_96)})\n",
        "# model7 = load_model('/content/drive/My Drive/Files-Covid/model_96_7.h5',custom_objects={'weighted_loss':get_weighted_loss(pos_weights_96,neg_weights_96)})\n",
        "# model8 = load_model('/content/drive/My Drive/Files-Covid/model_96_8.h5',custom_objects={'weighted_loss':get_weighted_loss(pos_weights_96,neg_weights_96)})\n",
        "# model9 = load_model('/content/drive/My Drive/Files-Covid/model_96_9.h5',custom_objects={'weighted_loss':get_weighted_loss(pos_weights_96,neg_weights_96)})\n",
        "# model10 = load_model('/content/drive/My Drive/Files-Covid/model_96_10.h5',custom_objects={'weighted_loss':get_weighted_loss(pos_weights_96,neg_weights_96)})"
      ],
      "execution_count": null,
      "outputs": []
    },
    {
      "cell_type": "code",
      "metadata": {
        "id": "gI5-IWlejaxm",
        "colab_type": "code",
        "colab": {}
      },
      "source": [
        "# model1"
      ],
      "execution_count": null,
      "outputs": []
    },
    {
      "cell_type": "code",
      "metadata": {
        "id": "o_xab4sliQ3o",
        "colab_type": "code",
        "colab": {
          "base_uri": "https://localhost:8080/",
          "height": 87
        },
        "outputId": "9ce8c689-a7d5-4043-b14e-b13f54655639"
      },
      "source": [
        "predicted_vals1 = model.predict_generator(test_generator_96, steps = len(test_generator_96))\n",
        "# predicted_vals2 = model2.predict_generator(test_generator_96, steps = len(test_generator_96))\n",
        "# predicted_vals3 = model3.predict_generator(test_generator_96, steps = len(test_generator_96))\n",
        "# predicted_vals4 = model4.predict_generator(test_generator_96, steps = len(test_generator_96))\n",
        "# predicted_vals5 = model5.predict_generator(test_generator_96, steps = len(test_generator_96))\n",
        "# predicted_vals6 = model6.predict_generator(test_generator_96, steps = len(test_generator_96))\n",
        "# predicted_vals7 = model7.predict_generator(test_generator_96, steps = len(test_generator_96))\n",
        "# predicted_vals8 = model8.predict_generator(test_generator_96, steps = len(test_generator_96))\n",
        "# predicted_vals9 = model9.predict_generator(test_generator_96, steps = len(test_generator_96))\n",
        "# predicted_vals10 = model10.predict_generator(test_generator_96, steps = len(test_generator_96))"
      ],
      "execution_count": null,
      "outputs": [
        {
          "output_type": "stream",
          "text": [
            "WARNING:tensorflow:From <ipython-input-29-83cb47b6c6e5>:1: Model.predict_generator (from tensorflow.python.keras.engine.training) is deprecated and will be removed in a future version.\n",
            "Instructions for updating:\n",
            "Please use Model.predict, which supports generators.\n"
          ],
          "name": "stdout"
        }
      ]
    },
    {
      "cell_type": "code",
      "metadata": {
        "id": "GYrnOBX6mHzn",
        "colab_type": "code",
        "colab": {}
      },
      "source": [
        ""
      ],
      "execution_count": null,
      "outputs": []
    },
    {
      "cell_type": "code",
      "metadata": {
        "id": "YRyMD9v30ByY",
        "colab_type": "code",
        "colab": {}
      },
      "source": [
        "from sklearn.metrics import roc_auc_score, roc_curve"
      ],
      "execution_count": null,
      "outputs": []
    },
    {
      "cell_type": "code",
      "metadata": {
        "id": "GE_zI7WL0E6q",
        "colab_type": "code",
        "colab": {}
      },
      "source": [
        "def get_roc_curve(labels, predicted_vals, generator):\n",
        "    auc_roc_vals = []\n",
        "    for i in range(len(labels)):\n",
        "        try:\n",
        "            gt = generator.labels[:, i]\n",
        "            pred = predicted_vals[:, i]\n",
        "            auc_roc = roc_auc_score(gt, pred)\n",
        "            auc_roc_vals.append(auc_roc)\n",
        "            fpr_rf, tpr_rf, _ = roc_curve(gt, pred)\n",
        "            plt.figure(1, figsize=(10, 10))\n",
        "            plt.plot([0, 1], [0, 1], 'k--')\n",
        "            plt.plot(fpr_rf, tpr_rf,\n",
        "                     label=labels[i] + \" (\" + str(round(auc_roc, 3)) + \")\")\n",
        "            plt.xlabel('False positive rate')\n",
        "            plt.ylabel('True positive rate')\n",
        "            plt.title('ROC curve')\n",
        "            plt.legend(loc='best')\n",
        "        except:\n",
        "            print(\n",
        "                f\"Error in generating ROC curve for {labels[i]}. \"\n",
        "                f\"Dataset lacks enough examples.\"\n",
        "            )\n",
        "    plt.show()\n",
        "    return auc_roc_vals"
      ],
      "execution_count": null,
      "outputs": []
    },
    {
      "cell_type": "code",
      "metadata": {
        "id": "m3yHhi_m0Hd_",
        "colab_type": "code",
        "colab": {
          "base_uri": "https://localhost:8080/",
          "height": 621
        },
        "outputId": "5a5e9cb3-319b-410f-838c-fc418d5da730"
      },
      "source": [
        "auc_rocs = get_roc_curve(labels, predicted_vals1, test_generator_96)"
      ],
      "execution_count": null,
      "outputs": [
        {
          "output_type": "display_data",
          "data": {
            "image/png": "[encoded data removed]",
            "text/plain": [
              "<Figure size 720x720 with 1 Axes>"
            ]
          },
          "metadata": {
            "tags": [],
            "needs_background": "light"
          }
        }
      ]
    },
    {
      "cell_type": "code",
      "metadata": {
        "id": "nNRb2uaH0K0B",
        "colab_type": "code",
        "colab": {
          "base_uri": "https://localhost:8080/",
          "height": 34
        },
        "outputId": "d55fb773-7a23-4e13-b921-46d4c911a5e7"
      },
      "source": [
        "len(test_df.index)/16"
      ],
      "execution_count": null,
      "outputs": [
        {
          "output_type": "execute_result",
          "data": {
            "text/plain": [
              "12.6875"
            ]
          },
          "metadata": {
            "tags": []
          },
          "execution_count": 36
        }
      ]
    },
    {
      "cell_type": "code",
      "metadata": {
        "id": "VC9YPyoIs5KE",
        "colab_type": "code",
        "colab": {
          "base_uri": "https://localhost:8080/",
          "height": 50
        },
        "outputId": "c0b313a4-afcc-447e-c500-c0c3668b0d02"
      },
      "source": [
        "model.evaluate(test_generator_96,batch_size=16, verbose=1, steps=12)"
      ],
      "execution_count": null,
      "outputs": [
        {
          "output_type": "stream",
          "text": [
            "12/12 [==============================] - 1s 61ms/step - loss: 0.6480 - accuracy: 0.8646 - auc_1: 0.7713\n"
          ],
          "name": "stdout"
        },
        {
          "output_type": "execute_result",
          "data": {
            "text/plain": [
              "[0.6480233073234558, 0.8645833134651184, 0.7712963223457336]"
            ]
          },
          "metadata": {
            "tags": []
          },
          "execution_count": 37
        }
      ]
    },
    {
      "cell_type": "code",
      "metadata": {
        "id": "goVZiuWftOo7",
        "colab_type": "code",
        "colab": {
          "base_uri": "https://localhost:8080/",
          "height": 104
        },
        "outputId": "a3777f48-5957-4bf8-d5fe-1e05b1991bbd"
      },
      "source": [
        "export_dir = '/content/drive/My Drive/Files-Covid/saved_model/1'\n",
        "\n",
        "tf.saved_model.save(model,export_dir)"
      ],
      "execution_count": null,
      "outputs": [
        {
          "output_type": "stream",
          "text": [
            "WARNING:tensorflow:From /usr/local/lib/python3.6/dist-packages/tensorflow/python/ops/resource_variable_ops.py:1817: calling BaseResourceVariable.__init__ (from tensorflow.python.ops.resource_variable_ops) with constraint is deprecated and will be removed in a future version.\n",
            "Instructions for updating:\n",
            "If using Keras pass *_constraint arguments to layers.\n",
            "INFO:tensorflow:Assets written to: /content/drive/My Drive/Files-Covid/saved_model/1/assets\n"
          ],
          "name": "stdout"
        }
      ]
    },
    {
      "cell_type": "code",
      "metadata": {
        "id": "KYwsIXmytsvl",
        "colab_type": "code",
        "colab": {}
      },
      "source": [
        "# Select mode of optimization\n",
        "mode = \"Speed\" \n",
        "\n",
        "if mode == 'Storage':\n",
        "    optimization = tf.lite.Optimize.OPTIMIZE_FOR_SIZE\n",
        "elif mode == 'Speed':\n",
        "    optimization = tf.lite.Optimize.OPTIMIZE_FOR_LATENCY\n",
        "else:\n",
        "    optimization = tf.lite.Optimize.DEFAULT"
      ],
      "execution_count": null,
      "outputs": []
    },
    {
      "cell_type": "code",
      "metadata": {
        "id": "mhBBYGhsuTeF",
        "colab_type": "code",
        "colab": {}
      },
      "source": [
        "# EXERCISE: Use the TFLiteConverter SavedModel API to initialize the converter\n",
        "\n",
        "converter = tf.lite.TFLiteConverter.from_saved_model(export_dir)\n",
        "\n",
        "# Set the optimzations\n",
        "converter.optimizations = [tf.lite.Optimize.OPTIMIZE_FOR_LATENCY]\n",
        "\n",
        "# Invoke the converter to finally generate the TFLite model\n",
        "tflite_model = converter.convert()"
      ],
      "execution_count": null,
      "outputs": []
    },
    {
      "cell_type": "code",
      "metadata": {
        "id": "9rJmcfqzuWTX",
        "colab_type": "code",
        "colab": {
          "base_uri": "https://localhost:8080/",
          "height": 34
        },
        "outputId": "65a3218b-29b5-46f1-9377-bc489e03694d"
      },
      "source": [
        "import pathlib\n",
        "tflite_model_file = pathlib.Path('/content/drive/My Drive/Files-Covid/init_model.tflite')\n",
        "tflite_model_file.write_bytes(tflite_model)"
      ],
      "execution_count": null,
      "outputs": [
        {
          "output_type": "execute_result",
          "data": {
            "text/plain": [
              "15011080"
            ]
          },
          "metadata": {
            "tags": []
          },
          "execution_count": 43
        }
      ]
    },
    {
      "cell_type": "code",
      "metadata": {
        "id": "cqV-U7BCusYr",
        "colab_type": "code",
        "colab": {}
      },
      "source": [
        "# Load TFLite model and allocate tensors.\n",
        "interpreter = tf.lite.Interpreter(model_content=tflite_model)\n",
        "interpreter.allocate_tensors()\n",
        "\n",
        "input_index = interpreter.get_input_details()[0][\"index\"]\n",
        "output_index = interpreter.get_output_details()[0][\"index\"]"
      ],
      "execution_count": null,
      "outputs": []
    },
    {
      "cell_type": "code",
      "metadata": {
        "id": "Xu62LCdZvRx7",
        "colab_type": "code",
        "colab": {}
      },
      "source": [
        ""
      ],
      "execution_count": null,
      "outputs": []
    },
    {
      "cell_type": "code",
      "metadata": {
        "id": "wZTJglCjx3We",
        "colab_type": "code",
        "colab": {}
      },
      "source": [
        ""
      ],
      "execution_count": null,
      "outputs": []
    }
  ]
}